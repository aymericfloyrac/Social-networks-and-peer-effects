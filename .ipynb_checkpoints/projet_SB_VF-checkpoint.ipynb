{
 "cells": [
  {
   "cell_type": "markdown",
   "metadata": {},
   "source": [
    "# Social networks and the identification of peer effects\n",
    "\n",
    "Ce travail est basé sur l'article *Social networks and the identification of peer effects*, de Paul Goldsmith-Pinkham et Guido W. Imbens (2013)."
   ]
  },
  {
   "cell_type": "code",
   "execution_count": 1,
   "metadata": {},
   "outputs": [
    {
     "data": {
      "text/html": [
       "<div id=\"my_id_menu_nb\">run previous cell, wait for 2 seconds</div>\n",
       "<script>\n",
       "function repeat_indent_string(n){\n",
       "    var a = \"\" ;\n",
       "    for ( ; n > 0 ; --n)\n",
       "        a += \"    \";\n",
       "    return a;\n",
       "}\n",
       "// look up into all sections and builds an automated menu //\n",
       "var update_menu_string = function(begin, lfirst, llast, sformat, send, keep_item, begin_format, end_format) {\n",
       "    var anchors = document.getElementsByClassName(\"section\");\n",
       "    if (anchors.length == 0) {\n",
       "        anchors = document.getElementsByClassName(\"text_cell_render rendered_html\");\n",
       "    }\n",
       "    var i,t;\n",
       "    var text_menu = begin;\n",
       "    var text_memo = \"<pre>\\nlength:\" + anchors.length + \"\\n\";\n",
       "    var ind = \"\";\n",
       "    var memo_level = 1;\n",
       "    var href;\n",
       "    var tags = [];\n",
       "    var main_item = 0;\n",
       "    var format_open = 0;\n",
       "    for (i = 0; i <= llast; i++)\n",
       "        tags.push(\"h\" + i);\n",
       "\n",
       "    for (i = 0; i < anchors.length; i++) {\n",
       "        text_memo += \"**\" + anchors[i].id + \"--\\n\";\n",
       "\n",
       "        var child = null;\n",
       "        for(t = 0; t < tags.length; t++) {\n",
       "            var r = anchors[i].getElementsByTagName(tags[t]);\n",
       "            if (r.length > 0) {\n",
       "child = r[0];\n",
       "break;\n",
       "            }\n",
       "        }\n",
       "        if (child == null) {\n",
       "            text_memo += \"null\\n\";\n",
       "            continue;\n",
       "        }\n",
       "        if (anchors[i].hasAttribute(\"id\")) {\n",
       "            // when converted in RST\n",
       "            href = anchors[i].id;\n",
       "            text_memo += \"#1-\" + href;\n",
       "            // passer à child suivant (le chercher)\n",
       "        }\n",
       "        else if (child.hasAttribute(\"id\")) {\n",
       "            // in a notebook\n",
       "            href = child.id;\n",
       "            text_memo += \"#2-\" + href;\n",
       "        }\n",
       "        else {\n",
       "            text_memo += \"#3-\" + \"*\" + \"\\n\";\n",
       "            continue;\n",
       "        }\n",
       "        var title = child.textContent;\n",
       "        var level = parseInt(child.tagName.substring(1,2));\n",
       "\n",
       "        text_memo += \"--\" + level + \"?\" + lfirst + \"--\" + title + \"\\n\";\n",
       "\n",
       "        if ((level < lfirst) || (level > llast)) {\n",
       "            continue ;\n",
       "        }\n",
       "        if (title.endsWith('¶')) {\n",
       "            title = title.substring(0,title.length-1).replace(\"<\", \"&lt;\")\n",
       "         .replace(\">\", \"&gt;\").replace(\"&\", \"&amp;\");\n",
       "        }\n",
       "        if (title.length == 0) {\n",
       "            continue;\n",
       "        }\n",
       "\n",
       "        while (level < memo_level) {\n",
       "            text_menu += end_format + \"</ul>\\n\";\n",
       "            format_open -= 1;\n",
       "            memo_level -= 1;\n",
       "        }\n",
       "        if (level == lfirst) {\n",
       "            main_item += 1;\n",
       "        }\n",
       "        if (keep_item != -1 && main_item != keep_item + 1) {\n",
       "            // alert(main_item + \" - \" + level + \" - \" + keep_item);\n",
       "            continue;\n",
       "        }\n",
       "        while (level > memo_level) {\n",
       "            text_menu += \"<ul>\\n\";\n",
       "            memo_level += 1;\n",
       "        }\n",
       "        text_menu += repeat_indent_string(level-2);\n",
       "        text_menu += begin_format + sformat.replace(\"__HREF__\", href).replace(\"__TITLE__\", title);\n",
       "        format_open += 1;\n",
       "    }\n",
       "    while (1 < memo_level) {\n",
       "        text_menu += end_format + \"</ul>\\n\";\n",
       "        memo_level -= 1;\n",
       "        format_open -= 1;\n",
       "    }\n",
       "    text_menu += send;\n",
       "    //text_menu += \"\\n\" + text_memo;\n",
       "\n",
       "    while (format_open > 0) {\n",
       "        text_menu += end_format;\n",
       "        format_open -= 1;\n",
       "    }\n",
       "    return text_menu;\n",
       "};\n",
       "var update_menu = function() {\n",
       "    var sbegin = \"\";\n",
       "    var sformat = '<a href=\"#__HREF__\">__TITLE__</a>';\n",
       "    var send = \"\";\n",
       "    var begin_format = '<li>';\n",
       "    var end_format = '</li>';\n",
       "    var keep_item = -1;\n",
       "    var text_menu = update_menu_string(sbegin, 2, 4, sformat, send, keep_item,\n",
       "       begin_format, end_format);\n",
       "    var menu = document.getElementById(\"my_id_menu_nb\");\n",
       "    menu.innerHTML=text_menu;\n",
       "};\n",
       "window.setTimeout(update_menu,2000);\n",
       "            </script>"
      ],
      "text/plain": [
       "<IPython.core.display.HTML object>"
      ]
     },
     "execution_count": 1,
     "metadata": {},
     "output_type": "execute_result"
    }
   ],
   "source": [
    "from jyquickhelper import add_notebook_menu\n",
    "add_notebook_menu()"
   ]
  },
  {
   "cell_type": "code",
   "execution_count": 2,
   "metadata": {},
   "outputs": [],
   "source": [
    "import matplotlib.pyplot as plt\n",
    "import numpy as np \n",
    "import pandas as pd\n",
    "import math\n",
    "from numpy.random import multinomial, binomial\n",
    "from scipy.stats import chi2\n",
    "import random"
   ]
  },
  {
   "cell_type": "code",
   "execution_count": 3,
   "metadata": {},
   "outputs": [],
   "source": [
    "np.random.seed(1)\n",
    "random.seed(1)"
   ]
  },
  {
   "cell_type": "markdown",
   "metadata": {},
   "source": [
    "## 1. Simulation d'une base de données"
   ]
  },
  {
   "cell_type": "markdown",
   "metadata": {},
   "source": [
    "On simule ici une base comprenant des notes de 0 à 5 (par exemples des notes mises sur un site comme TripAdvisor). On simule également le réseau correspondant, en essayant de tenir au mieux compte des effets que nous voudrons observer par la suite."
   ]
  },
  {
   "cell_type": "markdown",
   "metadata": {},
   "source": [
    "### 1.1 Construction de la base"
   ]
  },
  {
   "cell_type": "code",
   "execution_count": 4,
   "metadata": {},
   "outputs": [],
   "source": [
    "n_clusters = 5\n",
    "pop = 100\n",
    "N = 100\n",
    "cluster_attribution = np.random.randint(n_clusters,size=pop)\n",
    "means1 = (4 - (1))*np.random.random_sample(n_clusters) + (1)\n",
    "means2 = means1 + 0.05*np.random.randn(n_clusters)"
   ]
  },
  {
   "cell_type": "code",
   "execution_count": 5,
   "metadata": {},
   "outputs": [],
   "source": [
    "prox = np.random.rand(N,N)\n",
    "prox = np.tril(prox) + np.tril(prox, -1).T\n",
    "prox*=0.05"
   ]
  },
  {
   "cell_type": "code",
   "execution_count": 6,
   "metadata": {},
   "outputs": [],
   "source": [
    "norm = np.random.randn(pop,2)\n",
    "X,Y = norm[:,0],norm[:,1]\n",
    "for k in range(pop):\n",
    "    i = cluster_attribution[k]\n",
    "    Y[k] = means2[i]+ 0.4*Y[k]\n",
    "    X[k] = means1[i]+ 0.3*X[k]"
   ]
  },
  {
   "cell_type": "code",
   "execution_count": 7,
   "metadata": {},
   "outputs": [
    {
     "data": {
      "image/png": "[encoded data removed]",
      "text/plain": [
       "<Figure size 432x288 with 1 Axes>"
      ]
     },
     "metadata": {
      "needs_background": "light"
     },
     "output_type": "display_data"
    }
   ],
   "source": [
    "plt.scatter(X,Y,c=cluster_attribution,cmap='gist_rainbow')\n",
    "plt.title('Répartition des notes')\n",
    "plt.xlabel('Note de période 0')\n",
    "plt.ylabel('Note de période 1')\n",
    "plt.show()"
   ]
  },
  {
   "cell_type": "markdown",
   "metadata": {},
   "source": [
    "Dans la figure ci-dessus, chaque couleur correspond à un cluster."
   ]
  },
  {
   "cell_type": "code",
   "execution_count": 8,
   "metadata": {},
   "outputs": [],
   "source": [
    "N = pop\n",
    "D0 = np.zeros((N,N))\n",
    "D1 = np.zeros((N,N))\n",
    "for i in range(N):\n",
    "    for j in range(i,N):\n",
    "        if cluster_attribution[i]==cluster_attribution[j]:\n",
    "            proba = 0.15\n",
    "        else: \n",
    "            proba = prox[cluster_attribution[i],cluster_attribution[j]]\n",
    "        f0 = binomial(1,proba)\n",
    "        f1 = binomial(1,proba)\n",
    "        D0[i,j] = f0\n",
    "        D0[j,i] = f0\n",
    "        D1[i,j] = f1\n",
    "        D1[j,i] = f1"
   ]
  },
  {
   "cell_type": "code",
   "execution_count": 9,
   "metadata": {},
   "outputs": [
    {
     "data": {
      "image/png": "[encoded data removed]",
      "text/plain": [
       "<Figure size 432x288 with 2 Axes>"
      ]
     },
     "metadata": {
      "needs_background": "light"
     },
     "output_type": "display_data"
    }
   ],
   "source": [
    "fig,(ax1,ax2) = plt.subplots(1,2)\n",
    "ax1.imshow(D0,cmap='gray')\n",
    "ax1.set_title('période 0')\n",
    "ax2.imshow(D1,cmap='gray')\n",
    "ax2.set_title('période 1')\n",
    "fig.suptitle(\"Visualisation des liens d'amitié\",fontsize=18)\n",
    "plt.tight_layout()\n",
    "plt.show()"
   ]
  },
  {
   "cell_type": "code",
   "execution_count": 10,
   "metadata": {},
   "outputs": [],
   "source": [
    "M0 = np.sum(D0,axis=1)\n",
    "G0 = np.linalg.solve(np.diag(M0),D0)\n",
    "M1 = np.sum(D1,axis=1)\n",
    "G1 = np.linalg.solve(np.diag(M1),D1)\n",
    "F0 = (np.dot(D0,D0)>0).astype(np.int)\n",
    "F1 = (np.dot(D1,D1)>0).astype(np.int)"
   ]
  },
  {
   "cell_type": "code",
   "execution_count": 11,
   "metadata": {},
   "outputs": [
    {
     "data": {
      "image/png": "[encoded data removed]",
      "text/plain": [
       "<Figure size 432x288 with 1 Axes>"
      ]
     },
     "metadata": {
      "needs_background": "light"
     },
     "output_type": "display_data"
    }
   ],
   "source": [
    "plt.imshow(F0,cmap='gray')\n",
    "plt.title('Visualisation de $F_0$')\n",
    "plt.show()"
   ]
  },
  {
   "cell_type": "markdown",
   "metadata": {},
   "source": [
    "### 1.2 Statistiques descriptives"
   ]
  },
  {
   "cell_type": "code",
   "execution_count": 12,
   "metadata": {},
   "outputs": [
    {
     "data": {
      "text/html": [
       "<div>\n",
       "<style scoped>\n",
       "    .dataframe tbody tr th:only-of-type {\n",
       "        vertical-align: middle;\n",
       "    }\n",
       "\n",
       "    .dataframe tbody tr th {\n",
       "        vertical-align: top;\n",
       "    }\n",
       "\n",
       "    .dataframe thead th {\n",
       "        text-align: right;\n",
       "    }\n",
       "</style>\n",
       "<table border=\"1\" class=\"dataframe\">\n",
       "  <thead>\n",
       "    <tr style=\"text-align: right;\">\n",
       "      <th></th>\n",
       "      <th>mean</th>\n",
       "      <th>std</th>\n",
       "      <th>min</th>\n",
       "      <th>max</th>\n",
       "    </tr>\n",
       "  </thead>\n",
       "  <tbody>\n",
       "    <tr>\n",
       "      <th>Y</th>\n",
       "      <td>2.73225</td>\n",
       "      <td>0.72761</td>\n",
       "      <td>1.20183</td>\n",
       "      <td>4.08889</td>\n",
       "    </tr>\n",
       "    <tr>\n",
       "      <th>X</th>\n",
       "      <td>2.70582</td>\n",
       "      <td>0.662025</td>\n",
       "      <td>1.31755</td>\n",
       "      <td>3.82355</td>\n",
       "    </tr>\n",
       "    <tr>\n",
       "      <th>nombre d'amis 1</th>\n",
       "      <td>5.41</td>\n",
       "      <td>2.15914</td>\n",
       "      <td>1</td>\n",
       "      <td>11</td>\n",
       "    </tr>\n",
       "    <tr>\n",
       "      <th>nombre d'amis 2</th>\n",
       "      <td>4.79</td>\n",
       "      <td>1.94059</td>\n",
       "      <td>1</td>\n",
       "      <td>9</td>\n",
       "    </tr>\n",
       "  </tbody>\n",
       "</table>\n",
       "</div>"
      ],
      "text/plain": [
       "                    mean       std      min      max\n",
       "Y                2.73225   0.72761  1.20183  4.08889\n",
       "X                2.70582  0.662025  1.31755  3.82355\n",
       "nombre d'amis 1     5.41   2.15914        1       11\n",
       "nombre d'amis 2     4.79   1.94059        1        9"
      ]
     },
     "execution_count": 12,
     "metadata": {},
     "output_type": "execute_result"
    }
   ],
   "source": [
    "df = pd.DataFrame([],index=['Y','X',\"nombre d'amis 1\",\"nombre d'amis 2\"],columns = ['mean','std','min','max'])\n",
    "df.loc['Y'] = [np.mean(Y),np.std(Y),np.min(Y),np.max(Y)]\n",
    "df.loc['X'] = [np.mean(X),np.std(X),np.min(X),np.max(X)]\n",
    "nbamis1 = np.sum(D0,axis=1)\n",
    "nbamis2 = np.sum(D1,axis=1)\n",
    "df.loc[\"nombre d'amis 1\"] = [np.mean(nbamis1),np.std(nbamis1),np.min(nbamis1),np.max(nbamis1)]\n",
    "df.loc[\"nombre d'amis 2\"] = [np.mean(nbamis2),np.std(nbamis2),np.min(nbamis2),np.max(nbamis2)]\n",
    "df"
   ]
  },
  {
   "cell_type": "markdown",
   "metadata": {},
   "source": [
    "## 2. Modèle LIM"
   ]
  },
  {
   "cell_type": "markdown",
   "metadata": {},
   "source": [
    "On fait la régression bayésienne, avec les a posteriori conjugués (inverse-$\\chi^2(1)$, normale conditionnelle).\n",
    "\n",
    "si on veut juste les means et vars, il suffit de les calculer les paramètres des posterior."
   ]
  },
  {
   "cell_type": "code",
   "execution_count": 13,
   "metadata": {},
   "outputs": [],
   "source": [
    "#a priori\n",
    "#on a 4 coefficients beta sur lesquels travailler \n",
    "mu0 = np.zeros(4) #moyenne de la gaussienne conditionnelle\n",
    "Q0 = np.diag(np.ones(4)) #variance de la gaussienne conditionnelle\n",
    "a0 = 1 #coefficient de l'inverse gamma\n",
    "b0 = 1 #coefficient d'échelle de l'inverse gamma"
   ]
  },
  {
   "cell_type": "code",
   "execution_count": 14,
   "metadata": {},
   "outputs": [],
   "source": [
    "#construction des variables explicatives et variables cibles\n",
    "Ybar = G1.dot(Y)\n",
    "Xbar = G1.dot(X)\n",
    "features = np.column_stack((np.ones(len(Y)),Ybar,X,Xbar))"
   ]
  },
  {
   "cell_type": "markdown",
   "metadata": {},
   "source": [
    "Les paramètres du modèle sont mis à jour selon les équations suivantes :\n",
    "$$ Q_{n}=(\\mathbf {X} ^{\\rm {T}}\\mathbf {X} + Q_{0}) $$\n",
    "$$  \\boldsymbol\\mu_n=(\\mathbf{X}^{\\rm T}\\mathbf{X}+ Q_0)^{-1} (Q_0\\boldsymbol\\mu_0+\\mathbf{X}^{\\rm T}\\mathbf{y})  $$ \n",
    "$$ a_{n}=a_{0}+{\\frac  {n}{2}} $$ \n",
    "$$ b_{n}=b_{0}+{\\frac  {1}{2}}({\\mathbf  {y}}^{{{\\rm {T}}}}{\\mathbf  {y}}+{\\boldsymbol  \\mu }_{0}^{{{\\rm {T}}}}Q_{0}{\\boldsymbol  \\mu }_{0}-{\\boldsymbol  \\mu }_{n}^{{{\\rm {T}}}}Q_{n}{\\boldsymbol  \\mu }_{n}) $$"
   ]
  },
  {
   "cell_type": "code",
   "execution_count": 15,
   "metadata": {},
   "outputs": [],
   "source": [
    "#mise à jour des paramètres: calcul des distributions a posteriori\n",
    "Qn = features.T.dot(features) + Q0\n",
    "mun = np.linalg.solve(Qn,Q0.dot(mu0)+features.T.dot(Y))\n",
    "invQn = np.linalg.solve(Qn,np.identity(4))\n",
    "an = a0+len(Y)/2\n",
    "bn = b0 + 0.5*(Y.dot(Y)+mu0.T.dot(Q0.dot(mu0))-mun.T.dot(Qn.dot(mun)))"
   ]
  },
  {
   "cell_type": "code",
   "execution_count": 16,
   "metadata": {},
   "outputs": [
    {
     "data": {
      "text/html": [
       "<div>\n",
       "<style scoped>\n",
       "    .dataframe tbody tr th:only-of-type {\n",
       "        vertical-align: middle;\n",
       "    }\n",
       "\n",
       "    .dataframe tbody tr th {\n",
       "        vertical-align: top;\n",
       "    }\n",
       "\n",
       "    .dataframe thead th {\n",
       "        text-align: right;\n",
       "    }\n",
       "</style>\n",
       "<table border=\"1\" class=\"dataframe\">\n",
       "  <thead>\n",
       "    <tr style=\"text-align: right;\">\n",
       "      <th></th>\n",
       "      <th>mean</th>\n",
       "      <th>std</th>\n",
       "    </tr>\n",
       "  </thead>\n",
       "  <tbody>\n",
       "    <tr>\n",
       "      <th>beta0</th>\n",
       "      <td>-0.011526</td>\n",
       "      <td>0.514213</td>\n",
       "    </tr>\n",
       "    <tr>\n",
       "      <th>beta_ybar</th>\n",
       "      <td>0.412338</td>\n",
       "      <td>0.368857</td>\n",
       "    </tr>\n",
       "    <tr>\n",
       "      <th>beta_x</th>\n",
       "      <td>0.658052</td>\n",
       "      <td>0.187996</td>\n",
       "    </tr>\n",
       "    <tr>\n",
       "      <th>beta_xbar</th>\n",
       "      <td>-0.056783</td>\n",
       "      <td>0.414881</td>\n",
       "    </tr>\n",
       "  </tbody>\n",
       "</table>\n",
       "</div>"
      ],
      "text/plain": [
       "               mean       std\n",
       "beta0     -0.011526  0.514213\n",
       "beta_ybar  0.412338  0.368857\n",
       "beta_x     0.658052  0.187996\n",
       "beta_xbar -0.056783  0.414881"
      ]
     },
     "execution_count": 16,
     "metadata": {},
     "output_type": "execute_result"
    }
   ],
   "source": [
    "#moyennes des lois normales a posteriori\n",
    "df = pd.DataFrame([],index=['beta0','beta_ybar','beta_x','beta_xbar'],columns = ['mean','std'])\n",
    "stds = [np.sqrt(invQn[i,i]) for i in range(len(Qn))]\n",
    "df['mean'] = mun\n",
    "df['std'] = stds\n",
    "df"
   ]
  },
  {
   "cell_type": "code",
   "execution_count": 17,
   "metadata": {},
   "outputs": [
    {
     "data": {
      "text/plain": [
       "array([[101.        , 270.21419871, 270.5818472 , 265.71037299],\n",
       "       [270.21419871, 756.57760759, 750.957247  , 737.7123471 ],\n",
       "       [270.5818472 , 750.957247  , 776.97310229, 736.98179159],\n",
       "       [265.71037299, 737.7123471 , 736.98179159, 726.65791264]])"
      ]
     },
     "execution_count": 17,
     "metadata": {},
     "output_type": "execute_result"
    }
   ],
   "source": [
    "#matrice de variance covariance\n",
    "Qn"
   ]
  },
  {
   "cell_type": "code",
   "execution_count": 18,
   "metadata": {},
   "outputs": [
    {
     "name": "stdout",
     "output_type": "stream",
     "text": [
      "Moyenne de sigma2: 0.22\n",
      "Variance de sigma2: 0.00\n"
     ]
    }
   ],
   "source": [
    "print(f\"Moyenne de sigma2: {bn/(an-1):.2f}\")\n",
    "print(f\"Variance de sigma2: {bn**2/((an-1)**2*(an-2)):.2f}\")"
   ]
  },
  {
   "cell_type": "markdown",
   "metadata": {},
   "source": [
    "Pour les commentaires sur les valeurs, voir le rapport joint."
   ]
  },
  {
   "cell_type": "markdown",
   "metadata": {},
   "source": [
    "## 3. Modèle exogène"
   ]
  },
  {
   "cell_type": "markdown",
   "metadata": {},
   "source": [
    "$\\alpha \\sim \\mathcal{N}(0,1)$ (chaque $\\alpha$ suit une loi normale de façon indépendante)\n",
    "\n",
    "$\\displaystyle{P(D_{1,ij} = 1|D_{0},X)  = (\\frac{e^{\\alpha_{0} + \\alpha_{x}|Xi-Xj| + \\alpha_{d}D_{0ij}+ \\alpha_{f}F_{0ij}}}{1 + e^{\\alpha_{0} + \\alpha_{x}|Xi-Xj| + \\alpha_{d}D_{0ij}+ \\alpha_{f}F_{0ij}}})^2}$\n",
    "\n"
   ]
  },
  {
   "cell_type": "markdown",
   "metadata": {},
   "source": [
    "### 3.1 Méthode"
   ]
  },
  {
   "cell_type": "code",
   "execution_count": 19,
   "metadata": {},
   "outputs": [],
   "source": [
    "#a priori \n",
    "alpha0 = np.random.randn(1)\n",
    "alphax = np.random.randn(1)\n",
    "alphad = np.random.randn(1)\n",
    "alphaf = np.random.randn(1)\n",
    "alpha = np.random.randn(4)"
   ]
  },
  {
   "cell_type": "code",
   "execution_count": 20,
   "metadata": {},
   "outputs": [],
   "source": [
    "#feature engineering \n",
    "#we must create |Xi-Xj| for each (i,j) couple \n",
    "dist = np.zeros((N,N))\n",
    "for i in range(N):\n",
    "    for j in range(i,N):\n",
    "        value = np.abs(X[i]-X[j])\n",
    "        dist[i][j] = value\n",
    "        dist[j][i] = value"
   ]
  },
  {
   "cell_type": "code",
   "execution_count": 21,
   "metadata": {},
   "outputs": [],
   "source": [
    "#matrix of utilities\n",
    "U = np.exp(alpha[0]*np.ones((N,N))+alpha[1]*dist+alpha[2]*D0+alpha[3]*F0)"
   ]
  },
  {
   "cell_type": "code",
   "execution_count": 22,
   "metadata": {},
   "outputs": [],
   "source": [
    "#We create a new D1 matrix based on the probability formula\n",
    "D1_new = np.zeros((N,N))\n",
    "for i in range(N):\n",
    "    for j in range(N):\n",
    "        p = (U[i,j])/(1 + U[i,j])\n",
    "        D1_new[i,j] = np.random.binomial(1,p**2)"
   ]
  },
  {
   "cell_type": "code",
   "execution_count": 23,
   "metadata": {},
   "outputs": [],
   "source": [
    "def posterior(a,x,theta):\n",
    "    \"\"\"\n",
    "    parameters\n",
    "    ----------\n",
    "    a: array of alpha parameters\n",
    "    x: D1 \n",
    "    theta: array [np.ones,(|Xi-Xj|),D0,F0]\n",
    "    \"\"\"\n",
    "    N = x.shape[0]\n",
    "    res = np.exp(-0.5*a.dot(a))**(N*(N-1)*0.5)\n",
    "    for i in range(N):\n",
    "        for j in range(i+1,N):\n",
    "            #compute <alpha,theta>\n",
    "            ps = 0\n",
    "            for k in range(4):\n",
    "                ps += a[k]*theta[k][i,j] \n",
    "            res *= np.exp(2*x[i,j]*ps)\n",
    "    return res"
   ]
  },
  {
   "cell_type": "code",
   "execution_count": 24,
   "metadata": {},
   "outputs": [
    {
     "name": "stderr",
     "output_type": "stream",
     "text": [
      "C:\\Users\\benoit\\Anaconda3\\lib\\site-packages\\ipykernel_launcher.py:7: RuntimeWarning: invalid value encountered in double_scalars\n",
      "  import sys\n"
     ]
    }
   ],
   "source": [
    "#Metropolis Hastings with normal kernel \n",
    "theta = [np.ones((N,N)),dist,D0,F0]\n",
    "alpha_list = [alpha]\n",
    "n_iter = 1000\n",
    "for i in range(n_iter): \n",
    "    y = alpha + np.random.randn(4)\n",
    "    ratio = posterior(y,D1,theta)/posterior(alpha,D1,theta)*1 #1 is the kernel ratio term \n",
    "    p_accept = min([1,ratio])\n",
    "    b = binomial(1,p_accept)\n",
    "    alpha = b*y+(1-b)*alpha\n",
    "    alpha_list.append(alpha)"
   ]
  },
  {
   "cell_type": "markdown",
   "metadata": {},
   "source": [
    "### 3.2 Résultats"
   ]
  },
  {
   "cell_type": "code",
   "execution_count": 25,
   "metadata": {},
   "outputs": [
    {
     "data": {
      "image/png": "[encoded data removed]",
      "text/plain": [
       "<Figure size 1008x720 with 4 Axes>"
      ]
     },
     "metadata": {
      "needs_background": "light"
     },
     "output_type": "display_data"
    }
   ],
   "source": [
    "fig = plt.figure(figsize=(14,10))\n",
    "titles = ['alpha_0','alpha_x','alpha_d','alpha_f']\n",
    "for i in range(4):\n",
    "    ax = fig.add_subplot(2,2,i+1)\n",
    "    alpha0 = [a[i] for a in alpha_list]\n",
    "    ax.hist(alpha0)\n",
    "    ax.set_title(titles[i])\n",
    "    ax.axvline(np.mean(alpha0),ls='dotted',c='r',linewidth = 5)\n",
    "plt.show()"
   ]
  },
  {
   "cell_type": "code",
   "execution_count": 26,
   "metadata": {},
   "outputs": [
    {
     "data": {
      "text/html": [
       "<div>\n",
       "<style scoped>\n",
       "    .dataframe tbody tr th:only-of-type {\n",
       "        vertical-align: middle;\n",
       "    }\n",
       "\n",
       "    .dataframe tbody tr th {\n",
       "        vertical-align: top;\n",
       "    }\n",
       "\n",
       "    .dataframe thead th {\n",
       "        text-align: right;\n",
       "    }\n",
       "</style>\n",
       "<table border=\"1\" class=\"dataframe\">\n",
       "  <thead>\n",
       "    <tr style=\"text-align: right;\">\n",
       "      <th></th>\n",
       "      <th>mean</th>\n",
       "      <th>std</th>\n",
       "    </tr>\n",
       "  </thead>\n",
       "  <tbody>\n",
       "    <tr>\n",
       "      <th>a0</th>\n",
       "      <td>13.3801</td>\n",
       "      <td>8.52597</td>\n",
       "    </tr>\n",
       "    <tr>\n",
       "      <th>ax</th>\n",
       "      <td>-8.57066</td>\n",
       "      <td>18.4558</td>\n",
       "    </tr>\n",
       "    <tr>\n",
       "      <th>ad</th>\n",
       "      <td>-3.39877</td>\n",
       "      <td>10.6673</td>\n",
       "    </tr>\n",
       "    <tr>\n",
       "      <th>af</th>\n",
       "      <td>-21.5606</td>\n",
       "      <td>6.54788</td>\n",
       "    </tr>\n",
       "  </tbody>\n",
       "</table>\n",
       "</div>"
      ],
      "text/plain": [
       "       mean      std\n",
       "a0  13.3801  8.52597\n",
       "ax -8.57066  18.4558\n",
       "ad -3.39877  10.6673\n",
       "af -21.5606  6.54788"
      ]
     },
     "execution_count": 26,
     "metadata": {},
     "output_type": "execute_result"
    }
   ],
   "source": [
    "df = pd.DataFrame([],index=['a0','ax','ad','af'],columns = ['mean','std'])\n",
    "for i in range(4):\n",
    "    alpha0 = [a[i] for a in alpha_list]\n",
    "    df.iloc[i,:] = [np.mean(alpha0),np.std(alpha0)]\n",
    "df"
   ]
  },
  {
   "cell_type": "markdown",
   "metadata": {},
   "source": [
    "On stocke les valeurs de $\\alpha$ pour la suite."
   ]
  },
  {
   "cell_type": "code",
   "execution_count": 27,
   "metadata": {},
   "outputs": [],
   "source": [
    "alphas = df['mean'].values"
   ]
  },
  {
   "cell_type": "markdown",
   "metadata": {},
   "source": [
    "## 4. Modèle endogène"
   ]
  },
  {
   "cell_type": "code",
   "execution_count": 28,
   "metadata": {},
   "outputs": [],
   "source": [
    "betas = mun #results from 1st part\n",
    "beta_cov_mat = Qn #from the first part\n",
    "beta_xi = 0.1*np.random.randn(1) #normal with variance 0.01\n",
    "alpha_xi = -1 + 0.1*np.random.randn(1) #N(-1,0.01)\n",
    "xi = binomial(1,0.5,size=N)\n",
    "xi[0] = 1\n",
    "sigma2 = 2 #à corriger avec les résultats d'avant "
   ]
  },
  {
   "cell_type": "markdown",
   "metadata": {},
   "source": [
    "### 4.1 Mise à jour des $\\xi_i$"
   ]
  },
  {
   "cell_type": "code",
   "execution_count": 29,
   "metadata": {},
   "outputs": [
    {
     "name": "stderr",
     "output_type": "stream",
     "text": [
      "C:\\Users\\benoit\\Anaconda3\\lib\\site-packages\\ipykernel_launcher.py:16: RuntimeWarning: overflow encountered in exp\n",
      "  app.launch_new_instance()\n"
     ]
    }
   ],
   "source": [
    "#update of the xi_i\n",
    "theta = [np.ones((N,N)),dist,D0,F0]\n",
    "n_iter = 10\n",
    "for n in range(n_iter):\n",
    "    probas = []\n",
    "    for i in range(N):\n",
    "        #compute binomial parameter\n",
    "        p0 = 0\n",
    "        p1 = 0\n",
    "        for j in range(N):\n",
    "            for k in range(4):\n",
    "                p0 += 2*D1[i,j]*alphas[k]*theta[k][i,j]\n",
    "            p1 += p0\n",
    "        p0 += 2*alpha_xi*np.sum(D1[i,:].dot(xi))\n",
    "        p1 += 2*alpha_xi*(N-np.sum(D1[i,:].dot(xi)))\n",
    "        proba = 1/(1+np.exp(p1-p0))\n",
    "        probas.append(proba)\n",
    "        xi[i] = binomial(1,proba)"
   ]
  },
  {
   "cell_type": "code",
   "execution_count": 30,
   "metadata": {},
   "outputs": [
    {
     "data": {
      "text/plain": [
       "array([1, 0, 0, 1, 1, 1, 0, 1, 0, 0, 1, 1, 0, 0, 0, 1, 0, 1, 0, 1, 1, 1,\n",
       "       0, 0, 0, 0, 1, 0, 1, 0, 1, 1, 0, 0, 1, 1, 0, 1, 0, 0, 1, 1, 0, 1,\n",
       "       0, 1, 1, 0, 0, 1, 1, 0, 0, 0, 0, 0, 0, 1, 0, 1, 0, 0, 0, 1, 1, 0,\n",
       "       1, 0, 0, 1, 0, 0, 0, 0, 0, 1, 0, 0, 0, 1, 0, 0, 0, 0, 0, 0, 1, 0,\n",
       "       0, 1, 0, 1, 1, 0, 1, 0, 1, 1, 0, 0])"
      ]
     },
     "execution_count": 30,
     "metadata": {},
     "output_type": "execute_result"
    }
   ],
   "source": [
    "xi"
   ]
  },
  {
   "cell_type": "markdown",
   "metadata": {},
   "source": [
    "### 4.2 Mise à jour des $\\beta$"
   ]
  },
  {
   "cell_type": "code",
   "execution_count": 31,
   "metadata": {},
   "outputs": [],
   "source": [
    "def posterior_endo(b,bxi,sigma2,xi,a,axi,D):\n",
    "    \"\"\"\n",
    "    compute log posterior then go exp \n",
    "    b is the beta vector [beta_0,beta_x,beta_ybar,beta_xbar]\n",
    "    \"\"\"\n",
    "    N = D.shape[0]\n",
    "    res = -0.5*np.linalg.norm(b[:-1]) #prior of beta\n",
    "    res += -0.5*b[-1]**2/(0.01**2) #prior of beta xi\n",
    "    res += np.sum([probas[i]*xi[i]+(1-probas[i])*(1-xi[i])]) #prior of xi\n",
    "    res += chi2.ppf(sigma2,df=10) #prior of sigma2\n",
    "    res += -0.5*np.linalg.norm(a) #prior of alpha\n",
    "    res += -0.5*(axi+1)**2/(0.01**2) #prior of alpha_xi\n",
    "    #compute pi(Y|b) \n",
    "    I = np.identity(N)\n",
    "    A = np.linalg.inv(I-b[2]*G1)\n",
    "    mean =  b[0]*np.ones(N)+b[1]*X+b[3]*G1.dot(X)+bxi*xi\n",
    "    mean = A.dot(mean)\n",
    "    var = sigma2*A.dot(A.T)\n",
    "    inv_var = I-b[2]*G1\n",
    "    res += -N/2*np.log(np.linalg.det(var))\n",
    "    res += -0.5*(Y-mean).T.dot(inv_var).dot(Y-mean)\n",
    "    \n",
    "    return res"
   ]
  },
  {
   "cell_type": "code",
   "execution_count": 32,
   "metadata": {},
   "outputs": [
    {
     "name": "stderr",
     "output_type": "stream",
     "text": [
      "C:\\Users\\benoit\\Anaconda3\\lib\\site-packages\\ipykernel_launcher.py:16: RuntimeWarning: invalid value encountered in less\n",
      "  app.launch_new_instance()\n",
      "C:\\Users\\benoit\\Anaconda3\\lib\\site-packages\\ipykernel_launcher.py:20: RuntimeWarning: divide by zero encountered in log\n"
     ]
    }
   ],
   "source": [
    "#update betas \n",
    "n_iter = 100\n",
    "beta_list = [betas]\n",
    "beta_xi_list = [0]\n",
    "for i in range(n_iter):\n",
    "    y = betas + (1/16)*Qn.dot(np.random.randn(4)) #normal centered on previous values with previous cov matrix\n",
    "    yxi = 0.1*np.random.randn(1)[0]\n",
    "    #computation of the beta posterior\n",
    "    pi_prev = posterior_endo(beta_list[-1],beta_xi_list[-1],sigma2,xi,alphas,alpha_xi,D1)\n",
    "    pi_suiv = posterior_endo(y,beta_xi_list[-1],sigma2,xi,alphas,alpha_xi,D1)\n",
    "    #computation of ratio \n",
    "    ratio = pi_suiv/pi_prev\n",
    "    inv_Qn = np.linalg.inv(Qn)\n",
    "    ratio *= np.exp(-0.5*((beta_list[-1]-y).T.dot(inv_Qn).dot(beta_list[-1]-y)+100*(beta_xi_list[-1]-yxi)**2))\n",
    "    #comparison with 1\n",
    "    p_accept = min([1,ratio])\n",
    "    #decision\n",
    "    if binomial(1,p_accept):\n",
    "        beta_list.append(y)\n",
    "        beta_xi_list.append(yxi)\n",
    "    else: \n",
    "        beta_list.append(beta_list[-1])\n",
    "        beta_xi_list.append(beta_xi_list[-1])\n",
    "            "
   ]
  },
  {
   "cell_type": "code",
   "execution_count": 33,
   "metadata": {},
   "outputs": [
    {
     "data": {
      "image/png": "[encoded data removed]",
      "text/plain": [
       "<Figure size 432x288 with 1 Axes>"
      ]
     },
     "metadata": {
      "needs_background": "light"
     },
     "output_type": "display_data"
    }
   ],
   "source": [
    "plt.hist(beta_xi_list)\n",
    "plt.axvline(np.mean(beta_xi_list),ls='--',c='r')\n",
    "plt.title('beta_xi')\n",
    "plt.show()"
   ]
  },
  {
   "cell_type": "code",
   "execution_count": 34,
   "metadata": {},
   "outputs": [
    {
     "data": {
      "text/html": [
       "<div>\n",
       "<style scoped>\n",
       "    .dataframe tbody tr th:only-of-type {\n",
       "        vertical-align: middle;\n",
       "    }\n",
       "\n",
       "    .dataframe tbody tr th {\n",
       "        vertical-align: top;\n",
       "    }\n",
       "\n",
       "    .dataframe thead th {\n",
       "        text-align: right;\n",
       "    }\n",
       "</style>\n",
       "<table border=\"1\" class=\"dataframe\">\n",
       "  <thead>\n",
       "    <tr style=\"text-align: right;\">\n",
       "      <th></th>\n",
       "      <th>mean</th>\n",
       "      <th>std</th>\n",
       "    </tr>\n",
       "  </thead>\n",
       "  <tbody>\n",
       "    <tr>\n",
       "      <th>beta0</th>\n",
       "      <td>-0.64449</td>\n",
       "      <td>24.3214</td>\n",
       "    </tr>\n",
       "    <tr>\n",
       "      <th>betax</th>\n",
       "      <td>-1.33933</td>\n",
       "      <td>67.4896</td>\n",
       "    </tr>\n",
       "    <tr>\n",
       "      <th>beta_ybar</th>\n",
       "      <td>-1.18015</td>\n",
       "      <td>68.1361</td>\n",
       "    </tr>\n",
       "    <tr>\n",
       "      <th>beta_xbar</th>\n",
       "      <td>-1.7376</td>\n",
       "      <td>66.2062</td>\n",
       "    </tr>\n",
       "    <tr>\n",
       "      <th>beta_xi</th>\n",
       "      <td>-0.0100478</td>\n",
       "      <td>0.101988</td>\n",
       "    </tr>\n",
       "  </tbody>\n",
       "</table>\n",
       "</div>"
      ],
      "text/plain": [
       "                mean       std\n",
       "beta0       -0.64449   24.3214\n",
       "betax       -1.33933   67.4896\n",
       "beta_ybar   -1.18015   68.1361\n",
       "beta_xbar    -1.7376   66.2062\n",
       "beta_xi   -0.0100478  0.101988"
      ]
     },
     "execution_count": 34,
     "metadata": {},
     "output_type": "execute_result"
    }
   ],
   "source": [
    "df_beta = pd.DataFrame([],index=['beta0','betax','beta_ybar','beta_xbar','beta_xi'],columns = ['mean','std'])\n",
    "for i in range(4):\n",
    "    x1 = np.mean([b[i] for b in beta_list])\n",
    "    x2 = np.std([b[i] for b in beta_list])\n",
    "    df_beta.iloc[i] = [x1,x2]\n",
    "df_beta.iloc[4] = [np.mean(beta_xi_list),np.std(beta_xi_list)]\n",
    "df_beta"
   ]
  },
  {
   "cell_type": "code",
   "execution_count": 35,
   "metadata": {},
   "outputs": [],
   "source": [
    "betas = df_beta['mean'].values"
   ]
  },
  {
   "cell_type": "markdown",
   "metadata": {},
   "source": [
    "### 4.3 Mise à jour de $\\sigma^2$"
   ]
  },
  {
   "cell_type": "markdown",
   "metadata": {},
   "source": [
    "On effectue cette mise à jour par Gibbs sampling."
   ]
  },
  {
   "cell_type": "code",
   "execution_count": 36,
   "metadata": {},
   "outputs": [],
   "source": [
    "sigma2_list = []\n",
    "for k in range(100):\n",
    "    invchi2 = chi2.ppf(np.random.rand(),df=10)\n",
    "    I = np.identity(N)\n",
    "    A = np.linalg.inv(I-betas[2]*G1)\n",
    "    mu_y = betas[0]*np.ones(N)+betas[1]*X+betas[3]*G1.dot(X)+betas[4]*xi\n",
    "    mu_y = A.dot(mu_y)\n",
    "    var = np.matmul(I-betas[2]*G1,I-betas[2]*G1)\n",
    "    tau2 =  (1/11)*(Y-mu_y).dot(var.dot(Y-mu_y))\n",
    "    sigma2 = invchi2/(11*tau2)\n",
    "    sigma2_list.append(sigma2)"
   ]
  },
  {
   "cell_type": "code",
   "execution_count": 37,
   "metadata": {},
   "outputs": [
    {
     "data": {
      "text/plain": [
       "0.00038290697616250973"
      ]
     },
     "execution_count": 37,
     "metadata": {},
     "output_type": "execute_result"
    }
   ],
   "source": [
    "sigma2 = np.mean(sigma2_list)\n",
    "sigma2"
   ]
  },
  {
   "cell_type": "markdown",
   "metadata": {},
   "source": [
    "### 4.4 Mise à jour des $\\alpha$"
   ]
  },
  {
   "cell_type": "markdown",
   "metadata": {},
   "source": [
    "On utilise le même algorithme de Metropolis-Hastings que précédemment avec quelques changements mineurs pour prendre en compte les variables $\\xi$."
   ]
  },
  {
   "cell_type": "code",
   "execution_count": 38,
   "metadata": {},
   "outputs": [],
   "source": [
    "alphas = np.append(alphas,alpha_xi)"
   ]
  },
  {
   "cell_type": "code",
   "execution_count": 39,
   "metadata": {},
   "outputs": [],
   "source": [
    "def alpha_posterior_endo(a,x,theta):\n",
    "    \"\"\"\n",
    "    parameters\n",
    "    ----------\n",
    "    a: array of alpha parameters\n",
    "    x: D1 \n",
    "    theta: array [np.ones,(|Xi-Xj|),D0,F0,xi]\n",
    "    \"\"\"\n",
    "    N = x.shape[0]\n",
    "    res = np.exp(-0.5*a.dot(a))**(N*(N-1)*0.5)\n",
    "    for i in range(N):\n",
    "        for j in range(i+1,N):\n",
    "            #compute <alpha,theta>\n",
    "            ps = 0\n",
    "            for k in range(5):\n",
    "                ps += a[k]*theta[k][i,j] \n",
    "            res *= np.exp(2*x[i,j]*ps)\n",
    "    return res"
   ]
  },
  {
   "cell_type": "code",
   "execution_count": 40,
   "metadata": {},
   "outputs": [
    {
     "name": "stderr",
     "output_type": "stream",
     "text": [
      "C:\\Users\\benoit\\Anaconda3\\lib\\site-packages\\ipykernel_launcher.py:7: RuntimeWarning: invalid value encountered in double_scalars\n",
      "  import sys\n"
     ]
    }
   ],
   "source": [
    "#Metropolis Hastings with normal kernel \n",
    "theta = [np.ones((N,N)),dist,D0,F0,xi]\n",
    "alpha_list = [alphas]\n",
    "n_iter = 1000\n",
    "for i in range(n_iter): \n",
    "    y = alphas + np.random.randn(5)\n",
    "    ratio = posterior(y,D1,theta)/posterior(alphas,D1,theta)*1 #1 is the kernel ratio term \n",
    "    p_accept = min([1,ratio])\n",
    "    b = binomial(1,p_accept)\n",
    "    alphas = b*y+(1-b)*alphas\n",
    "    alpha_list.append(alphas)"
   ]
  },
  {
   "cell_type": "code",
   "execution_count": 41,
   "metadata": {},
   "outputs": [
    {
     "data": {
      "image/png": "[encoded data removed]",
      "text/plain": [
       "<Figure size 1008x720 with 5 Axes>"
      ]
     },
     "metadata": {
      "needs_background": "light"
     },
     "output_type": "display_data"
    }
   ],
   "source": [
    "fig = plt.figure(figsize=(14,10))\n",
    "titles = ['alpha_0','alpha_x','alpha_d','alpha_f','alpha_xi']\n",
    "for i in range(5):\n",
    "    ax = fig.add_subplot(3,2,i+1)\n",
    "    alpha0 = [a[i] for a in alpha_list]\n",
    "    ax.hist(alpha0)\n",
    "    ax.set_title(titles[i])\n",
    "    ax.axvline(np.mean(alpha0),ls='dotted',c='r',linewidth = 5)\n",
    "plt.show()"
   ]
  },
  {
   "cell_type": "code",
   "execution_count": 42,
   "metadata": {},
   "outputs": [
    {
     "data": {
      "text/html": [
       "<div>\n",
       "<style scoped>\n",
       "    .dataframe tbody tr th:only-of-type {\n",
       "        vertical-align: middle;\n",
       "    }\n",
       "\n",
       "    .dataframe tbody tr th {\n",
       "        vertical-align: top;\n",
       "    }\n",
       "\n",
       "    .dataframe thead th {\n",
       "        text-align: right;\n",
       "    }\n",
       "</style>\n",
       "<table border=\"1\" class=\"dataframe\">\n",
       "  <thead>\n",
       "    <tr style=\"text-align: right;\">\n",
       "      <th></th>\n",
       "      <th>mean</th>\n",
       "      <th>std</th>\n",
       "    </tr>\n",
       "  </thead>\n",
       "  <tbody>\n",
       "    <tr>\n",
       "      <th>a0</th>\n",
       "      <td>13.1654</td>\n",
       "      <td>9.41042</td>\n",
       "    </tr>\n",
       "    <tr>\n",
       "      <th>ax</th>\n",
       "      <td>-11.5313</td>\n",
       "      <td>8.97993</td>\n",
       "    </tr>\n",
       "    <tr>\n",
       "      <th>ad</th>\n",
       "      <td>-20.9057</td>\n",
       "      <td>11.7339</td>\n",
       "    </tr>\n",
       "    <tr>\n",
       "      <th>af</th>\n",
       "      <td>-16.0531</td>\n",
       "      <td>8.18359</td>\n",
       "    </tr>\n",
       "    <tr>\n",
       "      <th>a_xi</th>\n",
       "      <td>-6.6154</td>\n",
       "      <td>7.42073</td>\n",
       "    </tr>\n",
       "  </tbody>\n",
       "</table>\n",
       "</div>"
      ],
      "text/plain": [
       "         mean      std\n",
       "a0    13.1654  9.41042\n",
       "ax   -11.5313  8.97993\n",
       "ad   -20.9057  11.7339\n",
       "af   -16.0531  8.18359\n",
       "a_xi  -6.6154  7.42073"
      ]
     },
     "execution_count": 42,
     "metadata": {},
     "output_type": "execute_result"
    }
   ],
   "source": [
    "df = pd.DataFrame([],index=['a0','ax','ad','af','a_xi'],columns = ['mean','std'])\n",
    "for i in range(5):\n",
    "    alpha0 = [a[i] for a in alpha_list]\n",
    "    df.iloc[i,:] = [np.mean(alpha0),np.std(alpha0)]\n",
    "df"
   ]
  },
  {
   "cell_type": "code",
   "execution_count": 43,
   "metadata": {},
   "outputs": [],
   "source": [
    "alphas = df['mean'].values"
   ]
  },
  {
   "cell_type": "markdown",
   "metadata": {},
   "source": [
    "### 4.5 Deuxième mise à jour des $\\xi$"
   ]
  },
  {
   "cell_type": "code",
   "execution_count": 44,
   "metadata": {},
   "outputs": [
    {
     "name": "stderr",
     "output_type": "stream",
     "text": [
      "C:\\Users\\benoit\\Anaconda3\\lib\\site-packages\\ipykernel_launcher.py:14: RuntimeWarning: overflow encountered in exp\n",
      "  \n"
     ]
    }
   ],
   "source": [
    "n_iter = 100\n",
    "for n in range(n_iter):\n",
    "    probas = []\n",
    "    for i in range(N):\n",
    "        #compute binomial parameter\n",
    "        p0 = 0\n",
    "        p1 = 0\n",
    "        for j in range(N):\n",
    "            for k in range(4):\n",
    "                p0 += 2*D1[i,j]*alphas[k]*theta[k][i,j]\n",
    "            p1 += p0\n",
    "        p0 += 2*alphas[4]*np.sum(D1[i,:].dot(xi))\n",
    "        p1 += 2*alphas[4]*(N-np.sum(D1[i,:].dot(xi)))\n",
    "        proba = 1/(1+np.exp(p1-p0))\n",
    "        probas.append(proba)\n",
    "        xi[i] = binomial(1,proba)"
   ]
  },
  {
   "cell_type": "code",
   "execution_count": 45,
   "metadata": {},
   "outputs": [
    {
     "data": {
      "text/plain": [
       "array([1, 0, 0, 1, 1, 1, 0, 1, 0, 1, 1, 1, 0, 0, 1, 1, 1, 1, 1, 1, 1, 1,\n",
       "       1, 0, 0, 1, 1, 0, 1, 1, 1, 1, 1, 1, 1, 1, 1, 1, 0, 0, 1, 1, 0, 1,\n",
       "       0, 1, 1, 0, 0, 1, 1, 1, 0, 1, 1, 0, 1, 1, 0, 1, 0, 1, 0, 1, 1, 0,\n",
       "       1, 1, 0, 1, 0, 0, 0, 1, 0, 1, 0, 0, 0, 1, 1, 1, 1, 1, 1, 0, 1, 1,\n",
       "       1, 1, 1, 1, 1, 0, 1, 0, 1, 1, 0, 0])"
      ]
     },
     "execution_count": 45,
     "metadata": {},
     "output_type": "execute_result"
    }
   ],
   "source": [
    "xi"
   ]
  },
  {
   "cell_type": "markdown",
   "metadata": {},
   "source": [
    "Nos valeurs n'ont pas forcément de sens: tout a été sélectionné au hasard"
   ]
  },
  {
   "cell_type": "markdown",
   "metadata": {},
   "source": [
    "## 5. Hétérogénéité des *peer effects*"
   ]
  },
  {
   "cell_type": "markdown",
   "metadata": {},
   "source": [
    "On utilise une matrice de réseau à l'étape 1 qui n'est plus symétrique (i ami de j n'implique pas j ami de i)  "
   ]
  },
  {
   "cell_type": "code",
   "execution_count": 46,
   "metadata": {},
   "outputs": [],
   "source": [
    "D1 = np.random.randint(2,size=(N,N))\n",
    "D0 = np.random.randint(2,size=(N,N))"
   ]
  },
  {
   "cell_type": "markdown",
   "metadata": {},
   "source": [
    "On fait la même chose qu'en 1. avec différentes matrices de réseau et des modèles étendus."
   ]
  },
  {
   "cell_type": "code",
   "execution_count": 47,
   "metadata": {},
   "outputs": [],
   "source": [
    "def heterogeneity(name):\n",
    "    \"\"\"\n",
    "    réalise les estimations de la partie MLIM avec d'autres réseaux \n",
    "    parameters\n",
    "    ----------\n",
    "    name : définition du réseau utilisée\n",
    "    \n",
    "    returns\n",
    "    -------\n",
    "    df : pd.DataFrame contenant les means et vars pour beta et sigma2\n",
    "    \"\"\"\n",
    "    \n",
    "    if name=='lagged':\n",
    "        DB = D0 * (1 - D1)\n",
    "    elif name =='mutual':\n",
    "        DB = np.asarray([[D1[i,j]==D1[j,i] for j in range(N)] for i in range(N)])\n",
    "    elif name=='fof': #friends of friends\n",
    "        DM = np.asarray([[D1[i,j]==D1[j,i] for j in range(N)] for i in range(N)])\n",
    "        FM = (np.dot(DM,DM)>0).astype(np.int)\n",
    "        DB = (1 - D1) * FM\n",
    "    else: \n",
    "        raise ValueError(name + ' is not a correct network specification')\n",
    "    #priors \n",
    "    #on a 6 coefficients beta sur lesquels travailler \n",
    "    mu0 = np.zeros(6) #mean of the conditional normal distribution \n",
    "    Q0 = np.diag(np.ones(6)) #var of the conditional normal distribution\n",
    "    a0 = 1 #coef of the inverse gamma\n",
    "    b0 = 1 #scaling coefficient of the inverse gamma\n",
    "\n",
    "    #construction du réseau B\n",
    "    MB = np.sum(DB,axis=1)\n",
    "    GB = np.linalg.solve(np.diag(MB),DB)\n",
    "    #construction des variables explicatives et variables cibles\n",
    "    YbarA = G1.dot(Y)\n",
    "    XbarA = G1.dot(X)\n",
    "    YbarB = GB.dot(Y)\n",
    "    XbarB = GB.dot(X)\n",
    "    features = np.column_stack((np.ones(len(Y)),X,YbarA,XbarA,YbarB,XbarB))\n",
    "\n",
    "    #updating parameters: computing the posterior distribution parameters\n",
    "    Qn = features.T.dot(features) + Q0\n",
    "    mun = np.linalg.solve(Qn,Q0.dot(mu0)+features.T.dot(Y))\n",
    "    an = a0+len(Y)/2\n",
    "    bn = b0 + 0.5*(Y.dot(Y)+mu0.T.dot(Q0.dot(mu0))-mun.T.dot(Qn.dot(mun)))\n",
    "    \n",
    "    \n",
    "    df = pd.DataFrame([],index=['beta0','betax','beta_ybarA','beta_xbarA','beta_ybarB','beta_xbarB','sigma2'],columns = ['mean','std'])\n",
    "    for i in range(6):\n",
    "        x1 = mun[i]\n",
    "        x2 = np.sqrt(Qn[i,i])\n",
    "        df.iloc[i] = [x1,x2]\n",
    "    \n",
    "    df.iloc[6] = [bn/(an-1),np.sqrt(bn**2/((an-1)**2*(an-2)))]\n",
    "    print(df)\n",
    "    \n",
    "    return df  "
   ]
  },
  {
   "cell_type": "code",
   "execution_count": 48,
   "metadata": {},
   "outputs": [
    {
     "name": "stdout",
     "output_type": "stream",
     "text": [
      "                  mean        std\n",
      "beta0      -0.00774143    10.0499\n",
      "betax         0.659295    27.8742\n",
      "beta_ybarA    0.402994     27.506\n",
      "beta_xbarA  -0.0527118    26.9566\n",
      "beta_ybarB   -0.165189    27.3461\n",
      "beta_xbarB    0.168826    27.1817\n",
      "sigma2         0.22361  0.0319443\n"
     ]
    }
   ],
   "source": [
    "df_lagged = heterogeneity('lagged')"
   ]
  },
  {
   "cell_type": "code",
   "execution_count": 49,
   "metadata": {},
   "outputs": [
    {
     "name": "stdout",
     "output_type": "stream",
     "text": [
      "                 mean        std\n",
      "beta0       0.0207921    10.0499\n",
      "betax        0.658532    27.8742\n",
      "beta_ybarA   0.412471     27.506\n",
      "beta_xbarA -0.0533182    26.9566\n",
      "beta_ybarB  0.0109095    27.2681\n",
      "beta_xbarB -0.0271871    26.9606\n",
      "sigma2        0.22427  0.0320386\n"
     ]
    }
   ],
   "source": [
    "df_mutual = heterogeneity('mutual')"
   ]
  },
  {
   "cell_type": "code",
   "execution_count": 50,
   "metadata": {},
   "outputs": [
    {
     "name": "stdout",
     "output_type": "stream",
     "text": [
      "                 mean        std\n",
      "beta0      -0.0936651    10.0499\n",
      "betax        0.657007    27.8742\n",
      "beta_ybarA   0.409374     27.506\n",
      "beta_xbarA -0.0632228    26.9566\n",
      "beta_ybarB -0.0438288    27.2271\n",
      "beta_xbarB  0.0850132    27.0962\n",
      "sigma2       0.224097  0.0320139\n"
     ]
    }
   ],
   "source": [
    "df_fof = heterogeneity('fof')"
   ]
  },
  {
   "cell_type": "markdown",
   "metadata": {},
   "source": [
    "## 6. Modèle auto-régressif"
   ]
  },
  {
   "cell_type": "code",
   "execution_count": 51,
   "metadata": {},
   "outputs": [],
   "source": [
    "#priors \n",
    "#on a 4 coefficients gamma sur lesquels travailler \n",
    "mu0 = np.zeros(4) #mean of the conditional normal distribution \n",
    "Q0 = np.diag(np.ones(4)) #var of the conditional normal distribution\n",
    "\n",
    "#construction des variables explicatives et variables cibles\n",
    "GX = G1.dot(X)\n",
    "GGX = G1.dot(GX)\n",
    "features = np.column_stack((np.ones(len(Y)),X,GX,GGX))\n",
    "\n",
    "#updating parameters: computing the posterior distribution parameters\n",
    "Qn = features.T.dot(features) + Q0\n",
    "mun = np.linalg.solve(Qn,Q0.dot(mu0)+features.T.dot(Y))"
   ]
  },
  {
   "cell_type": "code",
   "execution_count": 52,
   "metadata": {},
   "outputs": [
    {
     "data": {
      "text/html": [
       "<div>\n",
       "<style scoped>\n",
       "    .dataframe tbody tr th:only-of-type {\n",
       "        vertical-align: middle;\n",
       "    }\n",
       "\n",
       "    .dataframe tbody tr th {\n",
       "        vertical-align: top;\n",
       "    }\n",
       "\n",
       "    .dataframe thead th {\n",
       "        text-align: right;\n",
       "    }\n",
       "</style>\n",
       "<table border=\"1\" class=\"dataframe\">\n",
       "  <thead>\n",
       "    <tr style=\"text-align: right;\">\n",
       "      <th></th>\n",
       "      <th>mean</th>\n",
       "      <th>std</th>\n",
       "    </tr>\n",
       "  </thead>\n",
       "  <tbody>\n",
       "    <tr>\n",
       "      <th>gamma0</th>\n",
       "      <td>-0.0816905</td>\n",
       "      <td>10.0499</td>\n",
       "    </tr>\n",
       "    <tr>\n",
       "      <th>gammaX</th>\n",
       "      <td>0.657279</td>\n",
       "      <td>27.8742</td>\n",
       "    </tr>\n",
       "    <tr>\n",
       "      <th>gamma1</th>\n",
       "      <td>0.255257</td>\n",
       "      <td>26.9566</td>\n",
       "    </tr>\n",
       "    <tr>\n",
       "      <th>gamma2</th>\n",
       "      <td>0.13394</td>\n",
       "      <td>26.9356</td>\n",
       "    </tr>\n",
       "  </tbody>\n",
       "</table>\n",
       "</div>"
      ],
      "text/plain": [
       "             mean      std\n",
       "gamma0 -0.0816905  10.0499\n",
       "gammaX   0.657279  27.8742\n",
       "gamma1   0.255257  26.9566\n",
       "gamma2    0.13394  26.9356"
      ]
     },
     "execution_count": 52,
     "metadata": {},
     "output_type": "execute_result"
    }
   ],
   "source": [
    "df = pd.DataFrame([],index=['gamma0','gammaX','gamma1','gamma2'],columns = ['mean','std'])\n",
    "for i in range(4):\n",
    "    x1 = mun[i]\n",
    "    x2 = np.sqrt(Qn[i,i])\n",
    "    df.iloc[i] = [x1,x2]\n",
    "df"
   ]
  },
  {
   "cell_type": "code",
   "execution_count": 53,
   "metadata": {},
   "outputs": [],
   "source": [
    "bx = df['mean']['gammaX']\n",
    "bybar = df['mean']['gamma2']/df['mean']['gamma1']\n",
    "bxbar = df['mean']['gamma1'] - bx * bybar\n",
    "b0 = (I - bybar*G1).dot(df['mean']['gamma0']*np.ones(N))[0]"
   ]
  },
  {
   "cell_type": "code",
   "execution_count": 54,
   "metadata": {},
   "outputs": [
    {
     "data": {
      "text/html": [
       "<div>\n",
       "<style scoped>\n",
       "    .dataframe tbody tr th:only-of-type {\n",
       "        vertical-align: middle;\n",
       "    }\n",
       "\n",
       "    .dataframe tbody tr th {\n",
       "        vertical-align: top;\n",
       "    }\n",
       "\n",
       "    .dataframe thead th {\n",
       "        text-align: right;\n",
       "    }\n",
       "</style>\n",
       "<table border=\"1\" class=\"dataframe\">\n",
       "  <thead>\n",
       "    <tr style=\"text-align: right;\">\n",
       "      <th></th>\n",
       "      <th>mean</th>\n",
       "    </tr>\n",
       "  </thead>\n",
       "  <tbody>\n",
       "    <tr>\n",
       "      <th>beta0</th>\n",
       "      <td>-0.0388255</td>\n",
       "    </tr>\n",
       "    <tr>\n",
       "      <th>betaX</th>\n",
       "      <td>0.657279</td>\n",
       "    </tr>\n",
       "    <tr>\n",
       "      <th>beta_xbar</th>\n",
       "      <td>-0.0896335</td>\n",
       "    </tr>\n",
       "    <tr>\n",
       "      <th>beta_FIC</th>\n",
       "      <td>0.524725</td>\n",
       "    </tr>\n",
       "  </tbody>\n",
       "</table>\n",
       "</div>"
      ],
      "text/plain": [
       "                mean\n",
       "beta0     -0.0388255\n",
       "betaX       0.657279\n",
       "beta_xbar -0.0896335\n",
       "beta_FIC    0.524725"
      ]
     },
     "execution_count": 54,
     "metadata": {},
     "output_type": "execute_result"
    }
   ],
   "source": [
    "df = pd.DataFrame([],index=['beta0','betaX','beta_xbar','beta_FIC'],columns = ['mean'])\n",
    "df['mean']['beta0'] = b0\n",
    "df['mean']['betaX'] = bx\n",
    "df['mean']['beta_xbar'] = bxbar\n",
    "df['mean']['beta_FIC'] = bybar\n",
    "\n",
    "df"
   ]
  },
  {
   "cell_type": "markdown",
   "metadata": {},
   "source": [
    "Le $\\hat{\\beta}_{FIC}$ est négatif puisqu'on n'a pas modélisé la dépendance interclusters en fonction de la variable Y (et donc on ne retrouve aucun impact rationnel)"
   ]
  }
 ],
 "metadata": {
  "kernelspec": {
   "display_name": "Python 3",
   "language": "python",
   "name": "python3"
  },
  "language_info": {
   "codemirror_mode": {
    "name": "ipython",
    "version": 3
   },
   "file_extension": ".py",
   "mimetype": "text/x-python",
   "name": "python",
   "nbconvert_exporter": "python",
   "pygments_lexer": "ipython3",
   "version": "3.7.1"
  }
 },
 "nbformat": 4,
 "nbformat_minor": 4
}
