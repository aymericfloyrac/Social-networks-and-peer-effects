{
 "cells": [
  {
   "cell_type": "code",
   "execution_count": 1,
   "metadata": {},
   "outputs": [],
   "source": [
    "import matplotlib.pyplot as plt\n",
    "import numpy as np \n",
    "import pandas as pd\n",
    "import math\n",
    "from numpy.random import multinomial, binomial\n",
    "from scipy.stats import chi2"
   ]
  },
  {
   "cell_type": "code",
   "execution_count": 2,
   "metadata": {},
   "outputs": [],
   "source": [
    "np.random.seed(0)"
   ]
  },
  {
   "cell_type": "markdown",
   "metadata": {},
   "source": [
    "#  Data generation"
   ]
  },
  {
   "cell_type": "code",
   "execution_count": 3,
   "metadata": {},
   "outputs": [],
   "source": [
    "#networks simulation\n",
    "N = 100\n",
    "D0 = np.random.randint(2,size=(N,N))\n",
    "D0 = np.tril(D0) + np.tril(D0, -1).T\n",
    "D1 = np.random.randint(2,size=(N,N))\n",
    "D1 = np.tril(D1) + np.tril(D1, -1).T\n",
    "for i in range(N):\n",
    "    D0[i,i] = 0\n",
    "    D1[i,i] = 0"
   ]
  },
  {
   "cell_type": "code",
   "execution_count": 4,
   "metadata": {},
   "outputs": [],
   "source": [
    "M0 = np.sum(D0,axis=1)\n",
    "G0 = np.linalg.solve(np.diag(M0),D0)\n",
    "\n",
    "M1 = np.sum(D1,axis=1)\n",
    "G1 = np.linalg.solve(np.diag(M1),D1)"
   ]
  },
  {
   "cell_type": "code",
   "execution_count": 5,
   "metadata": {},
   "outputs": [],
   "source": [
    "F0 = (np.dot(D0,D0)>0).astype(np.int)\n",
    "F1 = (np.dot(D1,D1)>0).astype(np.int)"
   ]
  },
  {
   "cell_type": "code",
   "execution_count": 6,
   "metadata": {},
   "outputs": [],
   "source": [
    "#GPA simulation\n",
    "gpa_0 = np.random.uniform(low= 0,high=4,size=N)\n",
    "gpa_1 = np.random.uniform(low=0,high=4,size=N)"
   ]
  },
  {
   "cell_type": "markdown",
   "metadata": {},
   "source": [
    "# 1. MLIM model"
   ]
  },
  {
   "cell_type": "markdown",
   "metadata": {},
   "source": [
    "On fait la régression bayésienne, avec les a posteriori conjugués (inverse-$\\chi^2(1)$, normale conditionnelle).\n",
    "\n",
    "si on veut juste les means et vars, il suffit de les calculer les paramètres des posterior."
   ]
  },
  {
   "cell_type": "code",
   "execution_count": 7,
   "metadata": {},
   "outputs": [],
   "source": [
    "#priors \n",
    "#on a 4 coefficients beta sur lesquels travailler \n",
    "mu0 = np.zeros(4) #mean of the conditional normal distribution \n",
    "Q0 = np.diag(np.ones(4)) #var of the conditional normal distribution\n",
    "a0 = 1 #coef of the inverse gamma\n",
    "b0 = 1 #scaling coefficient of the inverse gamma"
   ]
  },
  {
   "cell_type": "code",
   "execution_count": 8,
   "metadata": {},
   "outputs": [],
   "source": [
    "#construction des variables explicatives et variables cibles\n",
    "Y = gpa_1\n",
    "Ybar = G1.dot(Y)\n",
    "X = gpa_0\n",
    "Xbar = G1.dot(X)\n",
    "features = np.column_stack((np.ones(len(Y)),Ybar,X,Xbar))"
   ]
  },
  {
   "cell_type": "markdown",
   "metadata": {},
   "source": [
    "Les paramètres du modèle sont mis à jour selon les équations suivantes :\n",
    "$$ Q_{n}=(\\mathbf {X} ^{\\rm {T}}\\mathbf {X} + Q_{0}) $$\n",
    "$$  \\boldsymbol\\mu_n=(\\mathbf{X}^{\\rm T}\\mathbf{X}+ Q_0)^{-1} (Q_0\\boldsymbol\\mu_0+\\mathbf{X}^{\\rm T}\\mathbf{y})  $$ \n",
    "$$ a_{n}=a_{0}+{\\frac  {n}{2}} $$ \n",
    "$$ b_{n}=b_{0}+{\\frac  {1}{2}}({\\mathbf  {y}}^{{{\\rm {T}}}}{\\mathbf  {y}}+{\\boldsymbol  \\mu }_{0}^{{{\\rm {T}}}}Q_{0}{\\boldsymbol  \\mu }_{0}-{\\boldsymbol  \\mu }_{n}^{{{\\rm {T}}}}Q_{n}{\\boldsymbol  \\mu }_{n}) $$"
   ]
  },
  {
   "cell_type": "code",
   "execution_count": 9,
   "metadata": {},
   "outputs": [],
   "source": [
    "#updating parameters: computing the posterior distribution parameters\n",
    "Qn = features.T.dot(features) + Q0\n",
    "mun = np.linalg.solve(Qn,Q0.dot(mu0)+features.T.dot(Y))\n",
    "an = a0+len(Y)/2\n",
    "bn = b0 + 0.5*(Y.dot(Y)+mu0.T.dot(Q0.dot(mu0))-mun.T.dot(Qn.dot(mun)))"
   ]
  },
  {
   "cell_type": "code",
   "execution_count": 10,
   "metadata": {},
   "outputs": [
    {
     "data": {
      "text/plain": [
       "array([ 1.09576371,  0.78479078,  0.17112125, -0.51636236])"
      ]
     },
     "execution_count": 10,
     "metadata": {},
     "output_type": "execute_result"
    }
   ],
   "source": [
    "#moyennes des lois normales a posteriori\n",
    "mun"
   ]
  },
  {
   "cell_type": "markdown",
   "metadata": {},
   "source": [
    "On obtient donc \n",
    "$$ \\beta_0 = 1.46 , \\beta_{\\bar{Y}} = 0.42, \\beta_x = 0.16, \\beta_{\\bar{x}} = -0.35 $$"
   ]
  },
  {
   "cell_type": "code",
   "execution_count": 11,
   "metadata": {},
   "outputs": [
    {
     "data": {
      "text/plain": [
       "array([[101.        , 193.17298026, 198.45645215, 199.96862042],\n",
       "       [193.17298026, 375.41000548, 379.30314175, 386.62398965],\n",
       "       [198.45645215, 379.30314175, 545.17215733, 393.37329817],\n",
       "       [199.96862042, 386.62398965, 393.37329817, 402.8029057 ]])"
      ]
     },
     "execution_count": 11,
     "metadata": {},
     "output_type": "execute_result"
    }
   ],
   "source": [
    "#matrice de variance covariance\n",
    "Qn"
   ]
  },
  {
   "cell_type": "markdown",
   "metadata": {},
   "source": [
    "Pour le $\\sigma^2$"
   ]
  },
  {
   "cell_type": "code",
   "execution_count": 12,
   "metadata": {},
   "outputs": [
    {
     "data": {
      "text/plain": [
       "1.193568716627484"
      ]
     },
     "execution_count": 12,
     "metadata": {},
     "output_type": "execute_result"
    }
   ],
   "source": [
    "bn/(an-1) #moyenne de l'inverse-gamma"
   ]
  },
  {
   "cell_type": "code",
   "execution_count": 13,
   "metadata": {},
   "outputs": [
    {
     "data": {
      "text/plain": [
       "0.029073597577791415"
      ]
     },
     "execution_count": 13,
     "metadata": {},
     "output_type": "execute_result"
    }
   ],
   "source": [
    "bn**2/((an-1)**2*(an-2)) #variance de l'inverse gamma"
   ]
  },
  {
   "cell_type": "markdown",
   "metadata": {},
   "source": [
    "# 2. Exogenous network formation"
   ]
  },
  {
   "cell_type": "markdown",
   "metadata": {},
   "source": [
    "$\\alpha \\sim \\mathcal{N}(0,1)$ (chaque \\alpha suit une loi normale de façon indépendante)\n",
    "\n",
    "$\\displaystyle{P(D_{1,ij} = 1|D_{0},X)  = (\\frac{e^{\\alpha_{0} + \\alpha_{x}|Xi-Xj| + \\alpha_{d}D_{0ij}+ \\alpha_{f}F_{0ij}}}{1 + e^{\\alpha_{0} + \\alpha_{x}|Xi-Xj| + \\alpha_{d}D_{0ij}+ \\alpha_{f}F_{0ij}}})^2}$\n",
    "\n"
   ]
  },
  {
   "cell_type": "code",
   "execution_count": 14,
   "metadata": {},
   "outputs": [],
   "source": [
    "#priors\n",
    "alpha0 = np.random.randn(1)\n",
    "alphax = np.random.randn(1)\n",
    "alphad = np.random.randn(1)\n",
    "alphaf = np.random.randn(1)\n",
    "\n",
    "alpha = np.random.randn(4)"
   ]
  },
  {
   "cell_type": "code",
   "execution_count": 15,
   "metadata": {},
   "outputs": [],
   "source": [
    "#feature engineering \n",
    "#we must create |Xi-Xj| for each (i,j) couple \n",
    "dist = np.zeros((N,N))\n",
    "for i in range(N):\n",
    "    for j in range(i,N):\n",
    "        value = np.abs(X[i]-X[j])\n",
    "        dist[i][j] = value\n",
    "        dist[j][i] = value"
   ]
  },
  {
   "cell_type": "code",
   "execution_count": 16,
   "metadata": {},
   "outputs": [],
   "source": [
    "#matrix of utilities\n",
    "U = np.exp(alpha[0]*np.ones((N,N))+alpha[1]*dist+alpha[2]*D0+alpha[3]*F0)"
   ]
  },
  {
   "cell_type": "code",
   "execution_count": 17,
   "metadata": {},
   "outputs": [],
   "source": [
    "#We create a new D1 matrix based on the probability formula\n",
    "D1_new = np.zeros((N,N))\n",
    "for i in range(N):\n",
    "    for j in range(N):\n",
    "        p = (U[i,j])/(1 + U[i,j])\n",
    "        D1_new[i,j] = np.random.binomial(1,p**2)"
   ]
  },
  {
   "cell_type": "code",
   "execution_count": 51,
   "metadata": {},
   "outputs": [],
   "source": [
    "def posterior(a,x,theta):\n",
    "    \"\"\"\n",
    "    parameters\n",
    "    ----------\n",
    "    a: array of alpha parameters\n",
    "    x: D1 \n",
    "    theta: array [np.ones,(|Xi-Xj|),D0,F0]\n",
    "    \"\"\"\n",
    "    N = x.shape[0]\n",
    "    res = np.exp(-0.5*a.dot(a))**(N*(N-1)*0.5)\n",
    "    for i in range(N):\n",
    "        for j in range(i+1,N):\n",
    "            #compute <alpha,theta>\n",
    "            ps = 0\n",
    "            for k in range(4):\n",
    "                ps += a[k]*theta[k][i,j] \n",
    "            res *= np.exp(2*x[i,j]*ps)\n",
    "    return res"
   ]
  },
  {
   "cell_type": "code",
   "execution_count": 19,
   "metadata": {},
   "outputs": [
    {
     "name": "stderr",
     "output_type": "stream",
     "text": [
      "/anaconda3/lib/python3.7/site-packages/ipykernel_launcher.py:7: RuntimeWarning: invalid value encountered in double_scalars\n",
      "  import sys\n"
     ]
    }
   ],
   "source": [
    "#Metropolis Hastings with normal kernel \n",
    "theta = [np.ones((N,N)),dist,D0,F0]\n",
    "alpha_list = [alpha]\n",
    "n_iter = 1000\n",
    "for i in range(n_iter): \n",
    "    y = alpha + np.random.randn(4)\n",
    "    ratio = posterior(y,D1,theta)/posterior(alpha,D1,theta)*1 #1 is the kernel ratio term \n",
    "    p_accept = min([1,ratio])\n",
    "    b = binomial(1,p_accept)\n",
    "    alpha = b*y+(1-b)*alpha\n",
    "    alpha_list.append(alpha)"
   ]
  },
  {
   "cell_type": "code",
   "execution_count": 20,
   "metadata": {},
   "outputs": [
    {
     "data": {
      "image/png": "[encoded data removed]",
      "text/plain": [
       "<Figure size 1008x720 with 4 Axes>"
      ]
     },
     "metadata": {
      "needs_background": "light"
     },
     "output_type": "display_data"
    }
   ],
   "source": [
    "fig = plt.figure(figsize=(14,10))\n",
    "titles = ['alpha_0','alpha_x','alpha_d','alpha_f']\n",
    "for i in range(4):\n",
    "    ax = fig.add_subplot(2,2,i+1)\n",
    "    alpha0 = [a[i] for a in alpha_list]\n",
    "    ax.hist(alpha0)\n",
    "    ax.set_title(titles[i])\n",
    "    ax.axvline(np.mean(alpha0),ls='dotted',c='r',linewidth = 5)\n",
    "plt.show()"
   ]
  },
  {
   "cell_type": "code",
   "execution_count": 21,
   "metadata": {},
   "outputs": [
    {
     "data": {
      "text/html": [
       "<div>\n",
       "<style scoped>\n",
       "    .dataframe tbody tr th:only-of-type {\n",
       "        vertical-align: middle;\n",
       "    }\n",
       "\n",
       "    .dataframe tbody tr th {\n",
       "        vertical-align: top;\n",
       "    }\n",
       "\n",
       "    .dataframe thead th {\n",
       "        text-align: right;\n",
       "    }\n",
       "</style>\n",
       "<table border=\"1\" class=\"dataframe\">\n",
       "  <thead>\n",
       "    <tr style=\"text-align: right;\">\n",
       "      <th></th>\n",
       "      <th>mean</th>\n",
       "      <th>std</th>\n",
       "    </tr>\n",
       "  </thead>\n",
       "  <tbody>\n",
       "    <tr>\n",
       "      <th>a0</th>\n",
       "      <td>32.2766</td>\n",
       "      <td>14.3517</td>\n",
       "    </tr>\n",
       "    <tr>\n",
       "      <th>ax</th>\n",
       "      <td>-22.2041</td>\n",
       "      <td>13.7832</td>\n",
       "    </tr>\n",
       "    <tr>\n",
       "      <th>ad</th>\n",
       "      <td>18.5837</td>\n",
       "      <td>8.50401</td>\n",
       "    </tr>\n",
       "    <tr>\n",
       "      <th>af</th>\n",
       "      <td>9.783</td>\n",
       "      <td>10.4775</td>\n",
       "    </tr>\n",
       "  </tbody>\n",
       "</table>\n",
       "</div>"
      ],
      "text/plain": [
       "       mean      std\n",
       "a0  32.2766  14.3517\n",
       "ax -22.2041  13.7832\n",
       "ad  18.5837  8.50401\n",
       "af    9.783  10.4775"
      ]
     },
     "execution_count": 21,
     "metadata": {},
     "output_type": "execute_result"
    }
   ],
   "source": [
    "df = pd.DataFrame([],index=['a0','ax','ad','af'],columns = ['mean','std'])\n",
    "for i in range(4):\n",
    "    alpha0 = [a[i] for a in alpha_list]\n",
    "    df.iloc[i,:] = [np.mean(alpha0),np.std(alpha0)]\n",
    "df"
   ]
  },
  {
   "cell_type": "code",
   "execution_count": 22,
   "metadata": {},
   "outputs": [],
   "source": [
    "alphas = df['mean'].values"
   ]
  },
  {
   "cell_type": "markdown",
   "metadata": {},
   "source": [
    "# 3. Endogenous network formation"
   ]
  },
  {
   "cell_type": "code",
   "execution_count": 23,
   "metadata": {},
   "outputs": [],
   "source": [
    "betas = mun #results from 1st part\n",
    "beta_cov_mat = Qn #from the first part\n",
    "alphas = [np.mean(a)/1e10 for a in alpha_list] #results from 2nd part\n",
    "alphas = np.zeros(4)\n",
    "beta_xi = 0.1*np.random.randn(1) #normal with variance 0.01\n",
    "alpha_xi = -1 + 0.1*np.random.randn(1) #N(-1,0.01)\n",
    "xi = binomial(1,0.5,size=N)\n",
    "xi[0] = 1\n",
    "sigma2 = 2 #à corriger avec les résultats d'avant "
   ]
  },
  {
   "cell_type": "markdown",
   "metadata": {},
   "source": [
    "## update of $\\xi_i$"
   ]
  },
  {
   "cell_type": "code",
   "execution_count": 24,
   "metadata": {},
   "outputs": [],
   "source": [
    "#update of the xi_i\n",
    "theta = [np.ones((N,N)),dist,D0,F0]\n",
    "n_iter = 10\n",
    "for n in range(n_iter):\n",
    "    probas = []\n",
    "    for i in range(N):\n",
    "        #compute binomial parameter\n",
    "        p0 = 0\n",
    "        p1 = 0\n",
    "        for j in range(N):\n",
    "            for k in range(4):\n",
    "                p0 += 2*D1[i,j]*alphas[k]*theta[k][i,j]\n",
    "            p1 += p0\n",
    "        p0 += 2*alpha_xi*np.sum(D1[i,:].dot(xi))\n",
    "        p1 += 2*alpha_xi*(N-np.sum(D1[i,:].dot(xi)))\n",
    "        proba = 1/(1+np.exp(p1-p0))\n",
    "        probas.append(proba)\n",
    "        xi[i] = binomial(1,proba)"
   ]
  },
  {
   "cell_type": "code",
   "execution_count": 25,
   "metadata": {},
   "outputs": [
    {
     "data": {
      "text/plain": [
       "array([0, 1, 1, 1, 1, 1, 1, 1, 0, 1, 1, 1, 1, 1, 1, 1, 1, 0, 1, 0, 1, 1,\n",
       "       1, 1, 1, 1, 1, 1, 1, 1, 1, 1, 1, 1, 1, 0, 1, 0, 1, 1, 1, 1, 0, 1,\n",
       "       1, 1, 1, 1, 1, 1, 1, 1, 1, 1, 0, 1, 1, 1, 1, 1, 0, 1, 1, 1, 1, 1,\n",
       "       1, 1, 1, 1, 1, 1, 1, 1, 1, 1, 1, 1, 1, 1, 1, 1, 1, 1, 1, 1, 1, 1,\n",
       "       1, 1, 1, 1, 1, 1, 1, 1, 1, 1, 1, 1])"
      ]
     },
     "execution_count": 25,
     "metadata": {},
     "output_type": "execute_result"
    }
   ],
   "source": [
    "xi"
   ]
  },
  {
   "cell_type": "markdown",
   "metadata": {},
   "source": [
    "## Update of $\\beta$"
   ]
  },
  {
   "cell_type": "code",
   "execution_count": 26,
   "metadata": {},
   "outputs": [],
   "source": [
    "def posterior_endo(b,bxi,sigma2,xi,a,axi,D):\n",
    "    \"\"\"\n",
    "    compute log posterior then go exp \n",
    "    b is the beta vector [beta_0,beta_x,beta_ybar,beta_xbar]\n",
    "    \"\"\"\n",
    "    N = D.shape[0]\n",
    "    res = -0.5*np.linalg.norm(b[:-1]) #prior of beta\n",
    "    res += -0.5*b[-1]**2/(0.01**2) #prior of beta xi\n",
    "    res += np.sum([probas[i]*xi[i]+(1-probas[i])*(1-xi[i])]) #prior of xi\n",
    "    res += chi2.ppf(sigma2,df=10) #prior of sigma2\n",
    "    res += -0.5*np.linalg.norm(a) #prior of alpha\n",
    "    res += -0.5*(axi+1)**2/(0.01**2) #prior of alpha_xi\n",
    "    #compute pi(Y|b) \n",
    "    I = np.identity(N)\n",
    "    A = np.linalg.inv(I-b[2]*G1)\n",
    "    mean =  b[0]*np.ones(N)+b[1]*X+b[3]*G1.dot(X)+bxi*xi\n",
    "    mean = A.dot(mean)\n",
    "    var = sigma2*A.dot(A.T)\n",
    "    inv_var = I-b[2]*G1\n",
    "    res += -N/2*np.log(np.linalg.det(var))\n",
    "    res += -0.5*(Y-mean).T.dot(inv_var).dot(Y-mean)\n",
    "    \n",
    "    return res"
   ]
  },
  {
   "cell_type": "code",
   "execution_count": 27,
   "metadata": {},
   "outputs": [],
   "source": [
    "#update betas \n",
    "n_iter = 100\n",
    "beta_list = [betas]\n",
    "beta_xi_list = [0]\n",
    "for i in range(n_iter):\n",
    "    y = betas + (1/16)*Qn.dot(np.random.randn(4)) #normal centered on previous values with previous cov matrix\n",
    "    yxi = 0.1*np.random.randn(1)[0]\n",
    "    #computation of the beta posterior\n",
    "    pi_prev = posterior_endo(beta_list[-1],beta_xi_list[-1],sigma2,xi,alphas,alpha_xi,D1)\n",
    "    pi_suiv = posterior_endo(y,beta_xi_list[-1],sigma2,xi,alphas,alpha_xi,D1)\n",
    "    #computation of ratio \n",
    "    ratio = pi_suiv/pi_prev\n",
    "    inv_Qn = np.linalg.inv(Qn)\n",
    "    ratio *= np.exp(-0.5*((beta_list[-1]-y).T.dot(inv_Qn).dot(beta_list[-1]-y)+100*(beta_xi_list[-1]-yxi)**2))\n",
    "    #comparison with 1\n",
    "    p_accept = min([1,ratio])\n",
    "    #decision\n",
    "    if binomial(1,p_accept):\n",
    "        beta_list.append(y)\n",
    "        beta_xi_list.append(yxi)\n",
    "    else: \n",
    "        beta_list.append(beta_list[-1])\n",
    "        beta_xi_list.append(beta_xi_list[-1])\n",
    "            "
   ]
  },
  {
   "cell_type": "code",
   "execution_count": 28,
   "metadata": {},
   "outputs": [
    {
     "data": {
      "image/png": "[encoded data removed]",
      "text/plain": [
       "<Figure size 432x288 with 1 Axes>"
      ]
     },
     "metadata": {
      "needs_background": "light"
     },
     "output_type": "display_data"
    }
   ],
   "source": [
    "plt.hist(beta_xi_list)\n",
    "plt.axvline(np.mean(beta_xi_list),ls='--',c='r')\n",
    "plt.title('beta_xi')\n",
    "plt.show()"
   ]
  },
  {
   "cell_type": "code",
   "execution_count": 29,
   "metadata": {},
   "outputs": [
    {
     "data": {
      "text/html": [
       "<div>\n",
       "<style scoped>\n",
       "    .dataframe tbody tr th:only-of-type {\n",
       "        vertical-align: middle;\n",
       "    }\n",
       "\n",
       "    .dataframe tbody tr th {\n",
       "        vertical-align: top;\n",
       "    }\n",
       "\n",
       "    .dataframe thead th {\n",
       "        text-align: right;\n",
       "    }\n",
       "</style>\n",
       "<table border=\"1\" class=\"dataframe\">\n",
       "  <thead>\n",
       "    <tr style=\"text-align: right;\">\n",
       "      <th></th>\n",
       "      <th>mean</th>\n",
       "      <th>std</th>\n",
       "    </tr>\n",
       "  </thead>\n",
       "  <tbody>\n",
       "    <tr>\n",
       "      <th>beta0</th>\n",
       "      <td>3.86822</td>\n",
       "      <td>20.4304</td>\n",
       "    </tr>\n",
       "    <tr>\n",
       "      <th>betax</th>\n",
       "      <td>6.08636</td>\n",
       "      <td>39.3788</td>\n",
       "    </tr>\n",
       "    <tr>\n",
       "      <th>beta_ybar</th>\n",
       "      <td>7.18938</td>\n",
       "      <td>45.8299</td>\n",
       "    </tr>\n",
       "    <tr>\n",
       "      <th>beta_xbar</th>\n",
       "      <td>5.0057</td>\n",
       "      <td>40.8333</td>\n",
       "    </tr>\n",
       "    <tr>\n",
       "      <th>beta_xi</th>\n",
       "      <td>-0.0149269</td>\n",
       "      <td>0.0883946</td>\n",
       "    </tr>\n",
       "  </tbody>\n",
       "</table>\n",
       "</div>"
      ],
      "text/plain": [
       "                mean        std\n",
       "beta0        3.86822    20.4304\n",
       "betax        6.08636    39.3788\n",
       "beta_ybar    7.18938    45.8299\n",
       "beta_xbar     5.0057    40.8333\n",
       "beta_xi   -0.0149269  0.0883946"
      ]
     },
     "execution_count": 29,
     "metadata": {},
     "output_type": "execute_result"
    }
   ],
   "source": [
    "df_beta = pd.DataFrame([],index=['beta0','betax','beta_ybar','beta_xbar','beta_xi'],columns = ['mean','std'])\n",
    "for i in range(4):\n",
    "    x1 = np.mean([b[i] for b in beta_list])\n",
    "    x2 = np.std([b[i] for b in beta_list])\n",
    "    df_beta.iloc[i] = [x1,x2]\n",
    "df_beta.iloc[4] = [np.mean(beta_xi_list),np.std(beta_xi_list)]\n",
    "df_beta"
   ]
  },
  {
   "cell_type": "code",
   "execution_count": 30,
   "metadata": {},
   "outputs": [],
   "source": [
    "betas = df_beta['mean'].values"
   ]
  },
  {
   "cell_type": "markdown",
   "metadata": {},
   "source": [
    "## Update $\\sigma^2$"
   ]
  },
  {
   "cell_type": "markdown",
   "metadata": {},
   "source": [
    "Gibbs sampling"
   ]
  },
  {
   "cell_type": "code",
   "execution_count": 37,
   "metadata": {},
   "outputs": [],
   "source": [
    "sigma2_list = []\n",
    "for k in range(100):\n",
    "    invchi2 = chi2.ppf(np.random.rand(),df=10)\n",
    "    I = np.identity(N)\n",
    "    A = np.linalg.inv(I-betas[2]*G1)\n",
    "    mu_y = betas[0]*np.ones(N)+betas[1]*X+betas[3]*G1.dot(X)+betas[4]*xi\n",
    "    mu_y = A.dot(mu_y)\n",
    "    var = np.matmul(I-betas[2]*G1,I-betas[2]*G1)\n",
    "    tau2 =  (1/11)*(Y-mu_y).dot(var.dot(Y-mu_y))\n",
    "    sigma2 = invchi2/(11*tau2)\n",
    "    sigma2_list.append(sigma2)"
   ]
  },
  {
   "cell_type": "code",
   "execution_count": 39,
   "metadata": {},
   "outputs": [
    {
     "data": {
      "text/plain": [
       "6.542968218479678e-05"
      ]
     },
     "execution_count": 39,
     "metadata": {},
     "output_type": "execute_result"
    }
   ],
   "source": [
    "sigma2 = np.mean(sigma2_list)\n",
    "sigma2"
   ]
  },
  {
   "cell_type": "markdown",
   "metadata": {},
   "source": [
    "## Update $\\alpha$"
   ]
  },
  {
   "cell_type": "markdown",
   "metadata": {},
   "source": [
    "We use the same Metropolis-Hastings algorithm as previously with slight changes to take into account the $\\xi$ variable."
   ]
  },
  {
   "cell_type": "code",
   "execution_count": 46,
   "metadata": {},
   "outputs": [],
   "source": [
    "alphas = np.append(alphas,alpha_xi)"
   ]
  },
  {
   "cell_type": "code",
   "execution_count": 49,
   "metadata": {},
   "outputs": [],
   "source": [
    "def alpha_posterior_endo(a,x,theta):\n",
    "    \"\"\"\n",
    "    parameters\n",
    "    ----------\n",
    "    a: array of alpha parameters\n",
    "    x: D1 \n",
    "    theta: array [np.ones,(|Xi-Xj|),D0,F0,xi]\n",
    "    \"\"\"\n",
    "    N = x.shape[0]\n",
    "    res = np.exp(-0.5*a.dot(a))**(N*(N-1)*0.5)\n",
    "    for i in range(N):\n",
    "        for j in range(i+1,N):\n",
    "            #compute <alpha,theta>\n",
    "            ps = 0\n",
    "            for k in range(5):\n",
    "                ps += a[k]*theta[k][i,j] \n",
    "            res *= np.exp(2*x[i,j]*ps)\n",
    "    return res"
   ]
  },
  {
   "cell_type": "code",
   "execution_count": 50,
   "metadata": {},
   "outputs": [
    {
     "name": "stderr",
     "output_type": "stream",
     "text": [
      "/anaconda3/lib/python3.7/site-packages/ipykernel_launcher.py:7: RuntimeWarning: invalid value encountered in double_scalars\n",
      "  import sys\n"
     ]
    }
   ],
   "source": [
    "#Metropolis Hastings with normal kernel \n",
    "theta = [np.ones((N,N)),dist,D0,F0,xi]\n",
    "alpha_list = [alphas]\n",
    "n_iter = 1000\n",
    "for i in range(n_iter): \n",
    "    y = alphas + np.random.randn(5)\n",
    "    ratio = posterior(y,D1,theta)/posterior(alphas,D1,theta)*1 #1 is the kernel ratio term \n",
    "    p_accept = min([1,ratio])\n",
    "    b = binomial(1,p_accept)\n",
    "    alphas = b*y+(1-b)*alphas\n",
    "    alpha_list.append(alphas)"
   ]
  },
  {
   "cell_type": "code",
   "execution_count": 52,
   "metadata": {},
   "outputs": [
    {
     "data": {
      "image/png": "[encoded data removed]",
      "text/plain": [
       "<Figure size 1008x720 with 5 Axes>"
      ]
     },
     "metadata": {
      "needs_background": "light"
     },
     "output_type": "display_data"
    }
   ],
   "source": [
    "fig = plt.figure(figsize=(14,10))\n",
    "titles = ['alpha_0','alpha_x','alpha_d','alpha_f','alpha_xi']\n",
    "for i in range(5):\n",
    "    ax = fig.add_subplot(3,2,i+1)\n",
    "    alpha0 = [a[i] for a in alpha_list]\n",
    "    ax.hist(alpha0)\n",
    "    ax.set_title(titles[i])\n",
    "    ax.axvline(np.mean(alpha0),ls='dotted',c='r',linewidth = 5)\n",
    "plt.show()"
   ]
  },
  {
   "cell_type": "code",
   "execution_count": 57,
   "metadata": {},
   "outputs": [
    {
     "data": {
      "text/html": [
       "<div>\n",
       "<style scoped>\n",
       "    .dataframe tbody tr th:only-of-type {\n",
       "        vertical-align: middle;\n",
       "    }\n",
       "\n",
       "    .dataframe tbody tr th {\n",
       "        vertical-align: top;\n",
       "    }\n",
       "\n",
       "    .dataframe thead th {\n",
       "        text-align: right;\n",
       "    }\n",
       "</style>\n",
       "<table border=\"1\" class=\"dataframe\">\n",
       "  <thead>\n",
       "    <tr style=\"text-align: right;\">\n",
       "      <th></th>\n",
       "      <th>mean</th>\n",
       "      <th>std</th>\n",
       "    </tr>\n",
       "  </thead>\n",
       "  <tbody>\n",
       "    <tr>\n",
       "      <th>a0</th>\n",
       "      <td>3.30916</td>\n",
       "      <td>8.37169</td>\n",
       "    </tr>\n",
       "    <tr>\n",
       "      <th>ax</th>\n",
       "      <td>11.4835</td>\n",
       "      <td>7.09911</td>\n",
       "    </tr>\n",
       "    <tr>\n",
       "      <th>ad</th>\n",
       "      <td>28.5191</td>\n",
       "      <td>11.5068</td>\n",
       "    </tr>\n",
       "    <tr>\n",
       "      <th>af</th>\n",
       "      <td>-19.7622</td>\n",
       "      <td>11.7635</td>\n",
       "    </tr>\n",
       "    <tr>\n",
       "      <th>a_xi</th>\n",
       "      <td>38.7259</td>\n",
       "      <td>23.4175</td>\n",
       "    </tr>\n",
       "  </tbody>\n",
       "</table>\n",
       "</div>"
      ],
      "text/plain": [
       "         mean      std\n",
       "a0    3.30916  8.37169\n",
       "ax    11.4835  7.09911\n",
       "ad    28.5191  11.5068\n",
       "af   -19.7622  11.7635\n",
       "a_xi  38.7259  23.4175"
      ]
     },
     "execution_count": 57,
     "metadata": {},
     "output_type": "execute_result"
    }
   ],
   "source": [
    "df = pd.DataFrame([],index=['a0','ax','ad','af','a_xi'],columns = ['mean','std'])\n",
    "for i in range(5):\n",
    "    alpha0 = [a[i] for a in alpha_list]\n",
    "    df.iloc[i,:] = [np.mean(alpha0),np.std(alpha0)]\n",
    "df"
   ]
  },
  {
   "cell_type": "code",
   "execution_count": 58,
   "metadata": {},
   "outputs": [],
   "source": [
    "alphas = df['mean'].values"
   ]
  },
  {
   "cell_type": "markdown",
   "metadata": {},
   "source": [
    "## Update $\\xi$"
   ]
  },
  {
   "cell_type": "code",
   "execution_count": 59,
   "metadata": {},
   "outputs": [
    {
     "name": "stderr",
     "output_type": "stream",
     "text": [
      "/anaconda3/lib/python3.7/site-packages/ipykernel_launcher.py:14: RuntimeWarning: overflow encountered in exp\n",
      "  \n"
     ]
    }
   ],
   "source": [
    "n_iter = 100\n",
    "for n in range(n_iter):\n",
    "    probas = []\n",
    "    for i in range(N):\n",
    "        #compute binomial parameter\n",
    "        p0 = 0\n",
    "        p1 = 0\n",
    "        for j in range(N):\n",
    "            for k in range(4):\n",
    "                p0 += 2*D1[i,j]*alphas[k]*theta[k][i,j]\n",
    "            p1 += p0\n",
    "        p0 += 2*alphas[4]*np.sum(D1[i,:].dot(xi))\n",
    "        p1 += 2*alphas[4]*(N-np.sum(D1[i,:].dot(xi)))\n",
    "        proba = 1/(1+np.exp(p1-p0))\n",
    "        probas.append(proba)\n",
    "        xi[i] = binomial(1,proba)"
   ]
  },
  {
   "cell_type": "code",
   "execution_count": 61,
   "metadata": {},
   "outputs": [
    {
     "data": {
      "text/plain": [
       "array([0, 0, 0, 0, 0, 0, 0, 0, 0, 0, 0, 0, 0, 0, 0, 0, 0, 0, 0, 0, 0, 0,\n",
       "       0, 0, 0, 0, 0, 0, 0, 0, 0, 0, 0, 0, 0, 0, 0, 0, 0, 0, 0, 0, 0, 0,\n",
       "       0, 0, 0, 0, 0, 0, 0, 0, 0, 0, 0, 0, 0, 0, 0, 0, 0, 0, 0, 0, 0, 0,\n",
       "       0, 0, 0, 0, 0, 0, 0, 0, 0, 0, 0, 0, 0, 0, 0, 0, 0, 0, 0, 0, 0, 0,\n",
       "       0, 0, 0, 0, 0, 0, 0, 0, 0, 0, 0, 0])"
      ]
     },
     "execution_count": 61,
     "metadata": {},
     "output_type": "execute_result"
    }
   ],
   "source": [
    "xi"
   ]
  },
  {
   "cell_type": "markdown",
   "metadata": {},
   "source": [
    "Nos valeurs n'ont pas forcément de sens: tout a été sélectionné au hasard"
   ]
  },
  {
   "cell_type": "markdown",
   "metadata": {},
   "source": [
    "# 4. Heterogeneity in peer effects"
   ]
  },
  {
   "cell_type": "markdown",
   "metadata": {},
   "source": [
    "On utilise une matrice de réseau à l'étpae 1 qui n'est plus symétrique (i ami de j n'implique pas j ami de i)  "
   ]
  },
  {
   "cell_type": "code",
   "execution_count": 68,
   "metadata": {},
   "outputs": [],
   "source": [
    "D1 = np.random.randint(2,size=(N,N))\n",
    "D0 = np.random.randint(2,size=(N,N))"
   ]
  },
  {
   "cell_type": "markdown",
   "metadata": {},
   "source": [
    "Same as 1. with different networks and extended models"
   ]
  },
  {
   "cell_type": "code",
   "execution_count": 74,
   "metadata": {},
   "outputs": [],
   "source": [
    "def heterogeneity(name):\n",
    "    \"\"\"\n",
    "    réalise les estimations de la partie MLIM avec d'autres réseaux \n",
    "    parameters\n",
    "    ----------\n",
    "    name : définition du réseau utilisée\n",
    "    \n",
    "    returns\n",
    "    -------\n",
    "    df : pd.DataFrame contenant les means et vars pour beta et sigma2\n",
    "    \"\"\"\n",
    "    \n",
    "    if name=='lagged':\n",
    "        DB = D0 * (1 - D1)\n",
    "    elif name =='mutual':\n",
    "        DB = np.asarray([[D1[i,j]==D1[j,i] for j in range(N)] for i in range(N)])\n",
    "    elif name=='fof': #friends of friends\n",
    "        DM = np.asarray([[D1[i,j]==D1[j,i] for j in range(N)] for i in range(N)])\n",
    "        FM = (np.dot(DM,DM)>0).astype(np.int)\n",
    "        DB = (1 - D1) * FM\n",
    "    else: \n",
    "        raise ValueError(name + ' is not a correct network specification')\n",
    "    #priors \n",
    "    #on a 6 coefficients beta sur lesquels travailler \n",
    "    mu0 = np.zeros(6) #mean of the conditional normal distribution \n",
    "    Q0 = np.diag(np.ones(6)) #var of the conditional normal distribution\n",
    "    a0 = 1 #coef of the inverse gamma\n",
    "    b0 = 1 #scaling coefficient of the inverse gamma\n",
    "\n",
    "    #construction du réseau B\n",
    "    MB = np.sum(DB,axis=1)\n",
    "    GB = np.linalg.solve(np.diag(MB),DB)\n",
    "    #construction des variables explicatives et variables cibles\n",
    "    Y = gpa_1\n",
    "    X = gpa_0\n",
    "    YbarA = G1.dot(Y)\n",
    "    XbarA = G1.dot(X)\n",
    "    YbarB = GB.dot(Y)\n",
    "    XbarB = GB.dot(X)\n",
    "    features = np.column_stack((np.ones(len(Y)),X,YbarA,XbarA,YbarB,XbarB))\n",
    "\n",
    "    #updating parameters: computing the posterior distribution parameters\n",
    "    Qn = features.T.dot(features) + Q0\n",
    "    mun = np.linalg.solve(Qn,Q0.dot(mu0)+features.T.dot(Y))\n",
    "    an = a0+len(Y)/2\n",
    "    bn = b0 + 0.5*(Y.dot(Y)+mu0.T.dot(Q0.dot(mu0))-mun.T.dot(Qn.dot(mun)))\n",
    "    \n",
    "    \n",
    "    df = pd.DataFrame([],index=['beta0','betax','beta_ybarA','beta_xbarA','beta_ybarB','beta_xbarB','sigma2'],columns = ['mean','std'])\n",
    "    for i in range(6):\n",
    "        x1 = mun[i]\n",
    "        x2 = np.sqrt(Qn[i,i])\n",
    "        df.iloc[i] = [x1,x2]\n",
    "    \n",
    "    df.iloc[6] = [bn/(an-1),np.sqrt(bn**2/((an-1)**2*(an-2)))]\n",
    "    print(df)\n",
    "    \n",
    "    return df  "
   ]
  },
  {
   "cell_type": "code",
   "execution_count": 75,
   "metadata": {},
   "outputs": [
    {
     "name": "stdout",
     "output_type": "stream",
     "text": [
      "                 mean       std\n",
      "beta0        0.933953   10.0499\n",
      "betax        0.167568   23.3489\n",
      "beta_ybarA   0.633578   19.3755\n",
      "beta_xbarA  -0.590605     20.07\n",
      "beta_ybarB   0.403391   19.4335\n",
      "beta_xbarB -0.0847675   19.9645\n",
      "sigma2        1.18494  0.169278\n"
     ]
    }
   ],
   "source": [
    "df_lagged = heterogeneity('lagged')"
   ]
  },
  {
   "cell_type": "code",
   "execution_count": 76,
   "metadata": {},
   "outputs": [
    {
     "name": "stdout",
     "output_type": "stream",
     "text": [
      "                mean       std\n",
      "beta0       0.660681   10.0499\n",
      "betax       0.144145   23.3489\n",
      "beta_ybarA  0.389346   19.3755\n",
      "beta_xbarA  -0.78322     20.07\n",
      "beta_ybarB  0.656368   19.2169\n",
      "beta_xbarB  0.267122   20.0031\n",
      "sigma2       1.17449  0.167784\n"
     ]
    }
   ],
   "source": [
    "df_mutual = heterogeneity('mutual')"
   ]
  },
  {
   "cell_type": "code",
   "execution_count": 77,
   "metadata": {},
   "outputs": [
    {
     "name": "stdout",
     "output_type": "stream",
     "text": [
      "                 mean       std\n",
      "beta0        0.475671   10.0499\n",
      "betax        0.141682   23.3489\n",
      "beta_ybarA   0.243249   19.3755\n",
      "beta_xbarA  -0.803678     20.07\n",
      "beta_ybarB    1.10547   19.3516\n",
      "beta_xbarB  0.0870701   19.8842\n",
      "sigma2        1.14975  0.164251\n"
     ]
    }
   ],
   "source": [
    "df_fof = heterogeneity('fof')"
   ]
  },
  {
   "cell_type": "markdown",
   "metadata": {},
   "source": [
    "# 5. Auto-regressive and moving average"
   ]
  },
  {
   "cell_type": "markdown",
   "metadata": {},
   "source": [
    "## Auto-regressive models"
   ]
  },
  {
   "cell_type": "code",
   "execution_count": 78,
   "metadata": {},
   "outputs": [],
   "source": [
    "#priors \n",
    "#on a 4 coefficients gamma sur lesquels travailler \n",
    "mu0 = np.zeros(4) #mean of the conditional normal distribution \n",
    "Q0 = np.diag(np.ones(4)) #var of the conditional normal distribution\n",
    "\n",
    "#construction des variables explicatives et variables cibles\n",
    "Y = gpa_1\n",
    "X = gpa_0\n",
    "GX = G1.dot(X)\n",
    "GGX = G1.dot(GX)\n",
    "features = np.column_stack((np.ones(len(Y)),X,GX,GGX))\n",
    "\n",
    "#updating parameters: computing the posterior distribution parameters\n",
    "Qn = features.T.dot(features) + Q0\n",
    "mun = np.linalg.solve(Qn,Q0.dot(mu0)+features.T.dot(Y))"
   ]
  },
  {
   "cell_type": "code",
   "execution_count": 81,
   "metadata": {},
   "outputs": [
    {
     "data": {
      "text/html": [
       "<div>\n",
       "<style scoped>\n",
       "    .dataframe tbody tr th:only-of-type {\n",
       "        vertical-align: middle;\n",
       "    }\n",
       "\n",
       "    .dataframe tbody tr th {\n",
       "        vertical-align: top;\n",
       "    }\n",
       "\n",
       "    .dataframe thead th {\n",
       "        text-align: right;\n",
       "    }\n",
       "</style>\n",
       "<table border=\"1\" class=\"dataframe\">\n",
       "  <thead>\n",
       "    <tr style=\"text-align: right;\">\n",
       "      <th></th>\n",
       "      <th>mean</th>\n",
       "      <th>std</th>\n",
       "    </tr>\n",
       "  </thead>\n",
       "  <tbody>\n",
       "    <tr>\n",
       "      <th>gamma0</th>\n",
       "      <td>0.660042</td>\n",
       "      <td>10.0499</td>\n",
       "    </tr>\n",
       "    <tr>\n",
       "      <th>gammaX</th>\n",
       "      <td>0.123466</td>\n",
       "      <td>23.3489</td>\n",
       "    </tr>\n",
       "    <tr>\n",
       "      <th>gamma1</th>\n",
       "      <td>-0.742012</td>\n",
       "      <td>20.07</td>\n",
       "    </tr>\n",
       "    <tr>\n",
       "      <th>gamma2</th>\n",
       "      <td>1.2499</td>\n",
       "      <td>20.0428</td>\n",
       "    </tr>\n",
       "  </tbody>\n",
       "</table>\n",
       "</div>"
      ],
      "text/plain": [
       "            mean      std\n",
       "gamma0  0.660042  10.0499\n",
       "gammaX  0.123466  23.3489\n",
       "gamma1 -0.742012    20.07\n",
       "gamma2    1.2499  20.0428"
      ]
     },
     "execution_count": 81,
     "metadata": {},
     "output_type": "execute_result"
    }
   ],
   "source": [
    "df = pd.DataFrame([],index=['gamma0','gammaX','gamma1','gamma2'],columns = ['mean','std'])\n",
    "for i in range(4):\n",
    "    x1 = mun[i]\n",
    "    x2 = np.sqrt(Qn[i,i])\n",
    "    df.iloc[i] = [x1,x2]\n",
    "df"
   ]
  },
  {
   "cell_type": "code",
   "execution_count": 88,
   "metadata": {},
   "outputs": [],
   "source": [
    "bx = df['mean']['gammaX']\n",
    "bybar = df['mean']['gamma2']/df['mean']['gamma1']\n",
    "bxbar = df['mean']['gamma1'] - bx * bybar\n",
    "b0 = (I - bybar*G1).dot(df['mean']['gamma0']*np.ones(N))[0]"
   ]
  },
  {
   "cell_type": "code",
   "execution_count": 90,
   "metadata": {},
   "outputs": [
    {
     "data": {
      "text/html": [
       "<div>\n",
       "<style scoped>\n",
       "    .dataframe tbody tr th:only-of-type {\n",
       "        vertical-align: middle;\n",
       "    }\n",
       "\n",
       "    .dataframe tbody tr th {\n",
       "        vertical-align: top;\n",
       "    }\n",
       "\n",
       "    .dataframe thead th {\n",
       "        text-align: right;\n",
       "    }\n",
       "</style>\n",
       "<table border=\"1\" class=\"dataframe\">\n",
       "  <thead>\n",
       "    <tr style=\"text-align: right;\">\n",
       "      <th></th>\n",
       "      <th>mean</th>\n",
       "    </tr>\n",
       "  </thead>\n",
       "  <tbody>\n",
       "    <tr>\n",
       "      <th>beta0</th>\n",
       "      <td>1.77187</td>\n",
       "    </tr>\n",
       "    <tr>\n",
       "      <th>betaX</th>\n",
       "      <td>0.123466</td>\n",
       "    </tr>\n",
       "    <tr>\n",
       "      <th>beta_xbar</th>\n",
       "      <td>-0.534036</td>\n",
       "    </tr>\n",
       "    <tr>\n",
       "      <th>beta_FIC</th>\n",
       "      <td>-1.68447</td>\n",
       "    </tr>\n",
       "  </tbody>\n",
       "</table>\n",
       "</div>"
      ],
      "text/plain": [
       "               mean\n",
       "beta0       1.77187\n",
       "betaX      0.123466\n",
       "beta_xbar -0.534036\n",
       "beta_FIC   -1.68447"
      ]
     },
     "execution_count": 90,
     "metadata": {},
     "output_type": "execute_result"
    }
   ],
   "source": [
    "df = pd.DataFrame([],index=['beta0','betaX','beta_xbar','beta_FIC'],columns = ['mean'])\n",
    "df['mean']['beta0'] = b0\n",
    "df['mean']['betaX'] = bx\n",
    "df['mean']['beta_xbar'] = bxbar\n",
    "df['mean']['beta_FIC'] = bybar\n",
    "\n",
    "df"
   ]
  },
  {
   "cell_type": "markdown",
   "metadata": {},
   "source": [
    "## Mobile average"
   ]
  },
  {
   "cell_type": "code",
   "execution_count": null,
   "metadata": {},
   "outputs": [],
   "source": []
  },
  {
   "cell_type": "markdown",
   "metadata": {},
   "source": [
    "# Application à une autre base"
   ]
  },
  {
   "cell_type": "markdown",
   "metadata": {},
   "source": [
    "Consommation d'alcool hebdomadaire en unités d'alcool"
   ]
  },
  {
   "cell_type": "code",
   "execution_count": 371,
   "metadata": {},
   "outputs": [],
   "source": [
    "n_clusters = 100\n",
    "pop = 1000\n",
    "cluster_attribution = np.random.randint(n_clusters,size=pop)\n",
    "means1 = abs(5+2*np.random.randn(n_clusters))\n",
    "means2 = means1+0.5*np.random.randn(n_clusters)"
   ]
  },
  {
   "cell_type": "code",
   "execution_count": 372,
   "metadata": {},
   "outputs": [],
   "source": [
    "prox = np.random.rand(N,N)\n",
    "prox = np.tril(prox) + np.tril(prox, -1).T\n",
    "prox*=0.1"
   ]
  },
  {
   "cell_type": "code",
   "execution_count": 373,
   "metadata": {},
   "outputs": [],
   "source": [
    "norm = np.random.randn(pop,2)\n",
    "X,Y = norm[:,0],norm[:,1]\n",
    "for k in range(pop):\n",
    "    i = cluster_attribution[k]\n",
    "    Y[k] = means2[i]+1e-1*Y[k]\n",
    "    X[k] = means1[i]+1e-1*X[k]"
   ]
  },
  {
   "cell_type": "code",
   "execution_count": 374,
   "metadata": {},
   "outputs": [
    {
     "data": {
      "text/plain": [
       "<matplotlib.collections.PathCollection at 0x1a27d13110>"
      ]
     },
     "execution_count": 374,
     "metadata": {},
     "output_type": "execute_result"
    },
    {
     "data": {
      "image/png": "[encoded data removed]",
      "text/plain": [
       "<Figure size 432x288 with 1 Axes>"
      ]
     },
     "metadata": {
      "needs_background": "light"
     },
     "output_type": "display_data"
    }
   ],
   "source": [
    "plt.scatter(X,Y)"
   ]
  },
  {
   "cell_type": "code",
   "execution_count": 375,
   "metadata": {},
   "outputs": [],
   "source": [
    "N = pop\n",
    "D0 = np.zeros((N,N))\n",
    "D1 = np.zeros((N,N))\n",
    "for i in range(N):\n",
    "    for j in range(i,N):\n",
    "        if cluster_attribution[i]==cluster_attribution[j]:\n",
    "            proba = 0.95\n",
    "        else: \n",
    "            proba = prox[cluster_attribution[i],cluster_attribution[j]]\n",
    "        f0 = binomial(1,proba)\n",
    "        f1 = binomial(1,proba)\n",
    "        D0[i,j] = f0\n",
    "        D0[j,i] = f0\n",
    "        D1[i,j] = f1\n",
    "        D1[j,i] = f1"
   ]
  },
  {
   "cell_type": "code",
   "execution_count": 376,
   "metadata": {},
   "outputs": [
    {
     "data": {
      "image/png": "[encoded data removed]",
      "text/plain": [
       "<Figure size 432x288 with 2 Axes>"
      ]
     },
     "metadata": {
      "needs_background": "light"
     },
     "output_type": "display_data"
    }
   ],
   "source": [
    "fig,(ax1,ax2) = plt.subplots(1,2)\n",
    "ax1.imshow(D0,cmap='gray')\n",
    "ax1.set_title('période 0')\n",
    "ax2.imshow(D1,cmap='gray')\n",
    "ax2.set_title('période 1')\n",
    "fig.suptitle(\"Visualisation des liens d'amitié\",fontsize=18)\n",
    "plt.tight_layout()\n",
    "plt.show()"
   ]
  },
  {
   "cell_type": "markdown",
   "metadata": {},
   "source": [
    "Application du code à la nouvelle base"
   ]
  },
  {
   "cell_type": "code",
   "execution_count": 377,
   "metadata": {},
   "outputs": [],
   "source": [
    "M0 = np.sum(D0,axis=1)\n",
    "G0 = np.linalg.solve(np.diag(M0),D0)\n",
    "M1 = np.sum(D1,axis=1)\n",
    "G1 = np.linalg.solve(np.diag(M1),D1)\n",
    "F0 = (np.dot(D0,D0)>0).astype(np.int)\n",
    "F1 = (np.dot(D1,D1)>0).astype(np.int)"
   ]
  },
  {
   "cell_type": "code",
   "execution_count": 378,
   "metadata": {},
   "outputs": [
    {
     "data": {
      "text/plain": [
       "<matplotlib.image.AxesImage at 0x1a26caaad0>"
      ]
     },
     "execution_count": 378,
     "metadata": {},
     "output_type": "execute_result"
    },
    {
     "data": {
      "image/png": "[encoded data removed]",
      "text/plain": [
       "<Figure size 432x288 with 1 Axes>"
      ]
     },
     "metadata": {
      "needs_background": "light"
     },
     "output_type": "display_data"
    }
   ],
   "source": [
    "plt.imshow(F0)"
   ]
  },
  {
   "cell_type": "markdown",
   "metadata": {},
   "source": [
    "## Statistiques descriptives"
   ]
  },
  {
   "cell_type": "code",
   "execution_count": 379,
   "metadata": {},
   "outputs": [
    {
     "data": {
      "text/html": [
       "<div>\n",
       "<style scoped>\n",
       "    .dataframe tbody tr th:only-of-type {\n",
       "        vertical-align: middle;\n",
       "    }\n",
       "\n",
       "    .dataframe tbody tr th {\n",
       "        vertical-align: top;\n",
       "    }\n",
       "\n",
       "    .dataframe thead th {\n",
       "        text-align: right;\n",
       "    }\n",
       "</style>\n",
       "<table border=\"1\" class=\"dataframe\">\n",
       "  <thead>\n",
       "    <tr style=\"text-align: right;\">\n",
       "      <th></th>\n",
       "      <th>mean</th>\n",
       "      <th>std</th>\n",
       "      <th>min</th>\n",
       "      <th>max</th>\n",
       "    </tr>\n",
       "  </thead>\n",
       "  <tbody>\n",
       "    <tr>\n",
       "      <th>Y</th>\n",
       "      <td>5.01294</td>\n",
       "      <td>2.4003</td>\n",
       "      <td>-0.880479</td>\n",
       "      <td>11.1041</td>\n",
       "    </tr>\n",
       "    <tr>\n",
       "      <th>X</th>\n",
       "      <td>4.99924</td>\n",
       "      <td>2.30829</td>\n",
       "      <td>-0.124775</td>\n",
       "      <td>11.142</td>\n",
       "    </tr>\n",
       "    <tr>\n",
       "      <th>nombre d'amis 1</th>\n",
       "      <td>60.275</td>\n",
       "      <td>7.8193</td>\n",
       "      <td>35</td>\n",
       "      <td>85</td>\n",
       "    </tr>\n",
       "    <tr>\n",
       "      <th>nombre d'amis 2</th>\n",
       "      <td>60.731</td>\n",
       "      <td>7.91762</td>\n",
       "      <td>38</td>\n",
       "      <td>88</td>\n",
       "    </tr>\n",
       "  </tbody>\n",
       "</table>\n",
       "</div>"
      ],
      "text/plain": [
       "                    mean      std       min      max\n",
       "Y                5.01294   2.4003 -0.880479  11.1041\n",
       "X                4.99924  2.30829 -0.124775   11.142\n",
       "nombre d'amis 1   60.275   7.8193        35       85\n",
       "nombre d'amis 2   60.731  7.91762        38       88"
      ]
     },
     "execution_count": 379,
     "metadata": {},
     "output_type": "execute_result"
    }
   ],
   "source": [
    "df = pd.DataFrame([],index=['Y','X',\"nombre d'amis 1\",\"nombre d'amis 2\"],columns = ['mean','std','min','max'])\n",
    "df.loc['Y'] = [np.mean(Y),np.std(Y),np.min(Y),np.max(Y)]\n",
    "df.loc['X'] = [np.mean(X),np.std(X),np.min(X),np.max(X)]\n",
    "nbamis1 = np.sum(D0,axis=1)\n",
    "nbamis2 = np.sum(D1,axis=1)\n",
    "df.loc[\"nombre d'amis 1\"] = [np.mean(nbamis1),np.std(nbamis1),np.min(nbamis1),np.max(nbamis1)]\n",
    "df.loc[\"nombre d'amis 2\"] = [np.mean(nbamis2),np.std(nbamis2),np.min(nbamis2),np.max(nbamis2)]\n",
    "df"
   ]
  },
  {
   "cell_type": "markdown",
   "metadata": {},
   "source": [
    "## Modèle LIM"
   ]
  },
  {
   "cell_type": "code",
   "execution_count": 380,
   "metadata": {},
   "outputs": [],
   "source": [
    "#a priori\n",
    "#on a 4 coefficients beta sur lesquels travailler \n",
    "mu0 = np.zeros(4) #moyenne de la gaussienne conditionnelle\n",
    "Q0 = np.diag(np.ones(4)) #variance de la gaussienne conditionnelle\n",
    "a0 = 1 #coefficient de l'inverse gamma\n",
    "b0 = 1 #coefficient d'échelle de l'inverse gamma"
   ]
  },
  {
   "cell_type": "code",
   "execution_count": 381,
   "metadata": {},
   "outputs": [],
   "source": [
    "#construction des variables explicatives et variables cibles\n",
    "Ybar = G1.dot(Y)\n",
    "Xbar = G1.dot(X)\n",
    "features = np.column_stack((np.ones(len(Y)),Ybar,X,Xbar))"
   ]
  },
  {
   "cell_type": "code",
   "execution_count": 382,
   "metadata": {},
   "outputs": [],
   "source": [
    "#mise à jour des paramètres: calcul des distributions a posteriori\n",
    "Qn = features.T.dot(features) + Q0\n",
    "mun = np.linalg.solve(Qn,Q0.dot(mu0)+features.T.dot(Y))\n",
    "invQn = np.linalg.solve(Qn,np.identity(4))\n",
    "an = a0+len(Y)/2\n",
    "bn = b0 + 0.5*(Y.dot(Y)+mu0.T.dot(Q0.dot(mu0))-mun.T.dot(Qn.dot(mun)))"
   ]
  },
  {
   "cell_type": "code",
   "execution_count": 383,
   "metadata": {},
   "outputs": [
    {
     "data": {
      "text/html": [
       "<div>\n",
       "<style scoped>\n",
       "    .dataframe tbody tr th:only-of-type {\n",
       "        vertical-align: middle;\n",
       "    }\n",
       "\n",
       "    .dataframe tbody tr th {\n",
       "        vertical-align: top;\n",
       "    }\n",
       "\n",
       "    .dataframe thead th {\n",
       "        text-align: right;\n",
       "    }\n",
       "</style>\n",
       "<table border=\"1\" class=\"dataframe\">\n",
       "  <thead>\n",
       "    <tr style=\"text-align: right;\">\n",
       "      <th></th>\n",
       "      <th>mean</th>\n",
       "      <th>std</th>\n",
       "    </tr>\n",
       "  </thead>\n",
       "  <tbody>\n",
       "    <tr>\n",
       "      <th>beta0</th>\n",
       "      <td>-0.087566</td>\n",
       "      <td>0.409939</td>\n",
       "    </tr>\n",
       "    <tr>\n",
       "      <th>beta_ybar</th>\n",
       "      <td>3.131900</td>\n",
       "      <td>0.271551</td>\n",
       "    </tr>\n",
       "    <tr>\n",
       "      <th>beta_x</th>\n",
       "      <td>1.000346</td>\n",
       "      <td>0.021625</td>\n",
       "    </tr>\n",
       "    <tr>\n",
       "      <th>beta_xbar</th>\n",
       "      <td>-3.119907</td>\n",
       "      <td>0.293342</td>\n",
       "    </tr>\n",
       "  </tbody>\n",
       "</table>\n",
       "</div>"
      ],
      "text/plain": [
       "               mean       std\n",
       "beta0     -0.087566  0.409939\n",
       "beta_ybar  3.131900  0.271551\n",
       "beta_x     1.000346  0.021625\n",
       "beta_xbar -3.119907  0.293342"
      ]
     },
     "execution_count": 383,
     "metadata": {},
     "output_type": "execute_result"
    }
   ],
   "source": [
    "#moyennes des lois normales a posteriori\n",
    "df = pd.DataFrame([],index=['beta0','beta_ybar','beta_x','beta_xbar'],columns = ['mean','std'])\n",
    "stds = [np.sqrt(invQn[i,i]) for i in range(len(Qn))]\n",
    "df['mean'] = mun\n",
    "df['std'] = stds\n",
    "df"
   ]
  },
  {
   "cell_type": "code",
   "execution_count": 384,
   "metadata": {},
   "outputs": [
    {
     "data": {
      "text/plain": [
       "array([[ 1001.        ,  4984.45574606,  4999.24381468,  4971.68710446],\n",
       "       [ 4984.45574606, 25106.05388008, 25831.32877104, 25023.30738305],\n",
       "       [ 4999.24381468, 25831.32877104, 30321.63485898, 25746.70751196],\n",
       "       [ 4971.68710446, 25023.30738305, 25746.70751196, 24954.40136764]])"
      ]
     },
     "execution_count": 384,
     "metadata": {},
     "output_type": "execute_result"
    }
   ],
   "source": [
    "#matrice de variance covariance\n",
    "Qn"
   ]
  },
  {
   "cell_type": "code",
   "execution_count": 385,
   "metadata": {},
   "outputs": [
    {
     "name": "stdout",
     "output_type": "stream",
     "text": [
      "Moyenne de sigma2: 0.14\n",
      "Variance de sigma2: 0.00\n"
     ]
    }
   ],
   "source": [
    "print(f\"Moyenne de sigma2: {bn/(an-1):.2f}\")\n",
    "print(f\"Variance de sigma2: {bn**2/((an-1)**2*(an-2)):.2f}\")"
   ]
  },
  {
   "cell_type": "markdown",
   "metadata": {},
   "source": [
    "Pour les commentaires sur les valeurs, voir le rapport joint."
   ]
  },
  {
   "cell_type": "markdown",
   "metadata": {},
   "source": [
    "## Modèle exogène"
   ]
  },
  {
   "cell_type": "code",
   "execution_count": 386,
   "metadata": {},
   "outputs": [],
   "source": [
    "#a priori \n",
    "alpha0 = np.random.randn(1)\n",
    "alphax = np.random.randn(1)\n",
    "alphad = np.random.randn(1)\n",
    "alphaf = np.random.randn(1)\n",
    "alpha = np.random.randn(4)"
   ]
  },
  {
   "cell_type": "code",
   "execution_count": 387,
   "metadata": {},
   "outputs": [],
   "source": [
    "#feature engineering \n",
    "#we must create |Xi-Xj| for each (i,j) couple \n",
    "dist = np.zeros((N,N))\n",
    "for i in range(N):\n",
    "    for j in range(i,N):\n",
    "        value = np.abs(X[i]-X[j])\n",
    "        dist[i][j] = value\n",
    "        dist[j][i] = value"
   ]
  },
  {
   "cell_type": "code",
   "execution_count": 388,
   "metadata": {},
   "outputs": [],
   "source": [
    "#matrix of utilities\n",
    "U = np.exp(alpha[0]*np.ones((N,N))+alpha[1]*dist+alpha[2]*D0+alpha[3]*F0)"
   ]
  },
  {
   "cell_type": "code",
   "execution_count": 389,
   "metadata": {},
   "outputs": [],
   "source": [
    "#We create a new D1 matrix based on the probability formula\n",
    "D1_new = np.zeros((N,N))\n",
    "for i in range(N):\n",
    "    for j in range(N):\n",
    "        p = (U[i,j])/(1 + U[i,j])\n",
    "        D1_new[i,j] = np.random.binomial(1,p**2)"
   ]
  },
  {
   "cell_type": "code",
   "execution_count": 390,
   "metadata": {},
   "outputs": [],
   "source": [
    "def posterior(a,x,theta):\n",
    "    \"\"\"\n",
    "    parameters\n",
    "    ----------\n",
    "    a: array of alpha parameters\n",
    "    x: D1 \n",
    "    theta: array [np.ones,(|Xi-Xj|),D0,F0]\n",
    "    \"\"\"\n",
    "    N = x.shape[0]\n",
    "    res = np.exp(-0.5*a.dot(a))**(N*(N-1)*0.5)\n",
    "    for i in range(N):\n",
    "        for j in range(i+1,N):\n",
    "            #compute <alpha,theta>\n",
    "            ps = 0\n",
    "            for k in range(4):\n",
    "                ps += a[k]*theta[k][i,j] \n",
    "            res *= np.exp(2*x[i,j]*ps)\n",
    "    return res"
   ]
  },
  {
   "cell_type": "code",
   "execution_count": null,
   "metadata": {},
   "outputs": [
    {
     "name": "stderr",
     "output_type": "stream",
     "text": [
      "/anaconda3/lib/python3.7/site-packages/ipykernel_launcher.py:7: RuntimeWarning: invalid value encountered in double_scalars\n",
      "  import sys\n"
     ]
    }
   ],
   "source": [
    "#Metropolis Hastings with normal kernel \n",
    "theta = [np.ones((N,N)),dist,D0,F0]\n",
    "alpha_list = [alpha]\n",
    "n_iter = 1000\n",
    "for i in range(n_iter): \n",
    "    y = alpha + np.random.randn(4)\n",
    "    ratio = posterior(y,D1,theta)/posterior(alpha,D1,theta)*1 #1 is the kernel ratio term \n",
    "    p_accept = min([1,ratio])\n",
    "    b = binomial(1,p_accept)\n",
    "    alpha = b*y+(1-b)*alpha\n",
    "    alpha_list.append(alpha)"
   ]
  },
  {
   "cell_type": "code",
   "execution_count": 365,
   "metadata": {},
   "outputs": [
    {
     "data": {
      "image/png": "[encoded data removed]",
      "text/plain": [
       "<Figure size 1008x720 with 4 Axes>"
      ]
     },
     "metadata": {
      "needs_background": "light"
     },
     "output_type": "display_data"
    }
   ],
   "source": [
    "fig = plt.figure(figsize=(14,10))\n",
    "titles = ['alpha_0','alpha_x','alpha_d','alpha_f']\n",
    "for i in range(4):\n",
    "    ax = fig.add_subplot(2,2,i+1)\n",
    "    alpha0 = [a[i] for a in alpha_list]\n",
    "    ax.hist(alpha0)\n",
    "    ax.set_title(titles[i])\n",
    "    ax.axvline(np.mean(alpha0),ls='dotted',c='r',linewidth = 5)\n",
    "plt.show()"
   ]
  },
  {
   "cell_type": "code",
   "execution_count": 366,
   "metadata": {},
   "outputs": [
    {
     "data": {
      "text/html": [
       "<div>\n",
       "<style scoped>\n",
       "    .dataframe tbody tr th:only-of-type {\n",
       "        vertical-align: middle;\n",
       "    }\n",
       "\n",
       "    .dataframe tbody tr th {\n",
       "        vertical-align: top;\n",
       "    }\n",
       "\n",
       "    .dataframe thead th {\n",
       "        text-align: right;\n",
       "    }\n",
       "</style>\n",
       "<table border=\"1\" class=\"dataframe\">\n",
       "  <thead>\n",
       "    <tr style=\"text-align: right;\">\n",
       "      <th></th>\n",
       "      <th>mean</th>\n",
       "      <th>std</th>\n",
       "    </tr>\n",
       "  </thead>\n",
       "  <tbody>\n",
       "    <tr>\n",
       "      <th>a0</th>\n",
       "      <td>12.8416</td>\n",
       "      <td>13.6669</td>\n",
       "    </tr>\n",
       "    <tr>\n",
       "      <th>ax</th>\n",
       "      <td>3.69887</td>\n",
       "      <td>6.8293</td>\n",
       "    </tr>\n",
       "    <tr>\n",
       "      <th>ad</th>\n",
       "      <td>-50.3155</td>\n",
       "      <td>25.4399</td>\n",
       "    </tr>\n",
       "    <tr>\n",
       "      <th>af</th>\n",
       "      <td>-25.7878</td>\n",
       "      <td>20.325</td>\n",
       "    </tr>\n",
       "  </tbody>\n",
       "</table>\n",
       "</div>"
      ],
      "text/plain": [
       "       mean      std\n",
       "a0  12.8416  13.6669\n",
       "ax  3.69887   6.8293\n",
       "ad -50.3155  25.4399\n",
       "af -25.7878   20.325"
      ]
     },
     "execution_count": 366,
     "metadata": {},
     "output_type": "execute_result"
    }
   ],
   "source": [
    "df = pd.DataFrame([],index=['a0','ax','ad','af'],columns = ['mean','std'])\n",
    "for i in range(4):\n",
    "    alpha0 = [a[i] for a in alpha_list]\n",
    "    df.iloc[i,:] = [np.mean(alpha0),np.std(alpha0)]\n",
    "df"
   ]
  },
  {
   "cell_type": "code",
   "execution_count": 367,
   "metadata": {},
   "outputs": [],
   "source": [
    "alphas = df['mean'].values"
   ]
  },
  {
   "cell_type": "markdown",
   "metadata": {},
   "source": [
    "## Modèle endogène"
   ]
  },
  {
   "cell_type": "code",
   "execution_count": 368,
   "metadata": {},
   "outputs": [],
   "source": [
    "betas = mun #results from 1st part\n",
    "beta_cov_mat = Qn #from the first part\n",
    "alphas = [np.mean(a)/1e10 for a in alpha_list] #results from 2nd part\n",
    "alphas = np.zeros(4)\n",
    "beta_xi = 0.1*np.random.randn(1) #normal with variance 0.01\n",
    "alpha_xi = -1 + 0.1*np.random.randn(1) #N(-1,0.01)\n",
    "xi = binomial(1,0.5,size=N)\n",
    "xi[0] = 1\n",
    "sigma2 = 2 #à corriger avec les résultats d'avant "
   ]
  },
  {
   "cell_type": "markdown",
   "metadata": {},
   "source": [
    "## update of $\\xi_i$"
   ]
  },
  {
   "cell_type": "code",
   "execution_count": 369,
   "metadata": {},
   "outputs": [],
   "source": [
    "#update of the xi_i\n",
    "theta = [np.ones((N,N)),dist,D0,F0]\n",
    "n_iter = 10\n",
    "for n in range(n_iter):\n",
    "    probas = []\n",
    "    for i in range(N):\n",
    "        #compute binomial parameter\n",
    "        p0 = 0\n",
    "        p1 = 0\n",
    "        for j in range(N):\n",
    "            for k in range(4):\n",
    "                p0 += 2*D1[i,j]*alphas[k]*theta[k][i,j]\n",
    "            p1 += p0\n",
    "        p0 += 2*alpha_xi*np.sum(D1[i,:].dot(xi))\n",
    "        p1 += 2*alpha_xi*(N-np.sum(D1[i,:].dot(xi)))\n",
    "        proba = 1/(1+np.exp(p1-p0))\n",
    "        probas.append(proba)\n",
    "        xi[i] = binomial(1,proba)"
   ]
  },
  {
   "cell_type": "code",
   "execution_count": 370,
   "metadata": {},
   "outputs": [
    {
     "data": {
      "text/plain": [
       "array([1, 1, 1, 1, 1, 1, 1, 1, 1, 1, 1, 1, 1, 1, 1, 1, 1, 1, 1, 1, 1, 1,\n",
       "       1, 1, 1, 1, 1, 1, 1, 1, 1, 1, 1, 1, 1, 1, 1, 1, 1, 1, 1, 1, 1, 1,\n",
       "       1, 1, 1, 1, 1, 1, 1, 1, 1, 1, 1, 1, 1, 1, 1, 1, 1, 1, 1, 1, 1, 1,\n",
       "       1, 1, 1, 1, 1, 1, 1, 1, 1, 1, 1, 1, 1, 1, 1, 1, 1, 1, 1, 1, 1, 1,\n",
       "       1, 1, 1, 1, 1, 1, 1, 1, 1, 1, 1, 1])"
      ]
     },
     "execution_count": 370,
     "metadata": {},
     "output_type": "execute_result"
    }
   ],
   "source": [
    "xi"
   ]
  },
  {
   "cell_type": "markdown",
   "metadata": {},
   "source": [
    "## Update of $\\beta$"
   ]
  },
  {
   "cell_type": "code",
   "execution_count": 215,
   "metadata": {},
   "outputs": [],
   "source": [
    "def posterior_endo(b,bxi,sigma2,xi,a,axi,D):\n",
    "    \"\"\"\n",
    "    compute log posterior then go exp \n",
    "    b is the beta vector [beta_0,beta_x,beta_ybar,beta_xbar]\n",
    "    \"\"\"\n",
    "    N = D.shape[0]\n",
    "    res = -0.5*np.linalg.norm(b[:-1]) #prior of beta\n",
    "    res += -0.5*b[-1]**2/(0.01**2) #prior of beta xi\n",
    "    res += np.sum([probas[i]*xi[i]+(1-probas[i])*(1-xi[i])]) #prior of xi\n",
    "    res += chi2.ppf(sigma2,df=10) #prior of sigma2\n",
    "    res += -0.5*np.linalg.norm(a) #prior of alpha\n",
    "    res += -0.5*(axi+1)**2/(0.01**2) #prior of alpha_xi\n",
    "    #compute pi(Y|b) \n",
    "    I = np.identity(N)\n",
    "    A = np.linalg.inv(I-b[2]*G1)\n",
    "    mean =  b[0]*np.ones(N)+b[1]*X+b[3]*G1.dot(X)+bxi*xi\n",
    "    mean = A.dot(mean)\n",
    "    var = sigma2*A.dot(A.T)\n",
    "    inv_var = I-b[2]*G1\n",
    "    res += -N/2*np.log(np.linalg.det(var))\n",
    "    res += -0.5*(Y-mean).T.dot(inv_var).dot(Y-mean)\n",
    "    \n",
    "    return res"
   ]
  },
  {
   "cell_type": "code",
   "execution_count": 216,
   "metadata": {},
   "outputs": [
    {
     "name": "stderr",
     "output_type": "stream",
     "text": [
      "/anaconda3/lib/python3.7/site-packages/ipykernel_launcher.py:20: RuntimeWarning: divide by zero encountered in log\n"
     ]
    }
   ],
   "source": [
    "#update betas \n",
    "n_iter = 100\n",
    "beta_list = [betas]\n",
    "beta_xi_list = [0]\n",
    "for i in range(n_iter):\n",
    "    y = betas + (1/16)*Qn.dot(np.random.randn(4)) #normal centered on previous values with previous cov matrix\n",
    "    yxi = 0.1*np.random.randn(1)[0]\n",
    "    #computation of the beta posterior\n",
    "    pi_prev = posterior_endo(beta_list[-1],beta_xi_list[-1],sigma2,xi,alphas,alpha_xi,D1)\n",
    "    pi_suiv = posterior_endo(y,beta_xi_list[-1],sigma2,xi,alphas,alpha_xi,D1)\n",
    "    #computation of ratio \n",
    "    ratio = pi_suiv/pi_prev\n",
    "    inv_Qn = np.linalg.inv(Qn)\n",
    "    ratio *= np.exp(-0.5*((beta_list[-1]-y).T.dot(inv_Qn).dot(beta_list[-1]-y)+100*(beta_xi_list[-1]-yxi)**2))\n",
    "    #comparison with 1\n",
    "    p_accept = min([1,ratio])\n",
    "    #decision\n",
    "    if binomial(1,p_accept):\n",
    "        beta_list.append(y)\n",
    "        beta_xi_list.append(yxi)\n",
    "    else: \n",
    "        beta_list.append(beta_list[-1])\n",
    "        beta_xi_list.append(beta_xi_list[-1])\n",
    "            "
   ]
  },
  {
   "cell_type": "code",
   "execution_count": 217,
   "metadata": {},
   "outputs": [
    {
     "data": {
      "image/png": "[encoded data removed]",
      "text/plain": [
       "<Figure size 432x288 with 1 Axes>"
      ]
     },
     "metadata": {
      "needs_background": "light"
     },
     "output_type": "display_data"
    }
   ],
   "source": [
    "plt.hist(beta_xi_list)\n",
    "plt.axvline(np.mean(beta_xi_list),ls='--',c='r')\n",
    "plt.title('beta_xi')\n",
    "plt.show()"
   ]
  },
  {
   "cell_type": "code",
   "execution_count": 218,
   "metadata": {},
   "outputs": [
    {
     "data": {
      "text/html": [
       "<div>\n",
       "<style scoped>\n",
       "    .dataframe tbody tr th:only-of-type {\n",
       "        vertical-align: middle;\n",
       "    }\n",
       "\n",
       "    .dataframe tbody tr th {\n",
       "        vertical-align: top;\n",
       "    }\n",
       "\n",
       "    .dataframe thead th {\n",
       "        text-align: right;\n",
       "    }\n",
       "</style>\n",
       "<table border=\"1\" class=\"dataframe\">\n",
       "  <thead>\n",
       "    <tr style=\"text-align: right;\">\n",
       "      <th></th>\n",
       "      <th>mean</th>\n",
       "      <th>std</th>\n",
       "    </tr>\n",
       "  </thead>\n",
       "  <tbody>\n",
       "    <tr>\n",
       "      <th>beta0</th>\n",
       "      <td>-3.49123</td>\n",
       "      <td>68.4369</td>\n",
       "    </tr>\n",
       "    <tr>\n",
       "      <th>betax</th>\n",
       "      <td>-1.07872</td>\n",
       "      <td>365.696</td>\n",
       "    </tr>\n",
       "    <tr>\n",
       "      <th>beta_ybar</th>\n",
       "      <td>8.01796</td>\n",
       "      <td>951.3</td>\n",
       "    </tr>\n",
       "    <tr>\n",
       "      <th>beta_xbar</th>\n",
       "      <td>-6.49293</td>\n",
       "      <td>510.856</td>\n",
       "    </tr>\n",
       "    <tr>\n",
       "      <th>beta_xi</th>\n",
       "      <td>0.00545165</td>\n",
       "      <td>0.0987416</td>\n",
       "    </tr>\n",
       "  </tbody>\n",
       "</table>\n",
       "</div>"
      ],
      "text/plain": [
       "                 mean        std\n",
       "beta0        -3.49123    68.4369\n",
       "betax        -1.07872    365.696\n",
       "beta_ybar     8.01796      951.3\n",
       "beta_xbar    -6.49293    510.856\n",
       "beta_xi    0.00545165  0.0987416"
      ]
     },
     "execution_count": 218,
     "metadata": {},
     "output_type": "execute_result"
    }
   ],
   "source": [
    "df_beta = pd.DataFrame([],index=['beta0','betax','beta_ybar','beta_xbar','beta_xi'],columns = ['mean','std'])\n",
    "for i in range(4):\n",
    "    x1 = np.mean([b[i] for b in beta_list])\n",
    "    x2 = np.std([b[i] for b in beta_list])\n",
    "    df_beta.iloc[i] = [x1,x2]\n",
    "df_beta.iloc[4] = [np.mean(beta_xi_list),np.std(beta_xi_list)]\n",
    "df_beta"
   ]
  },
  {
   "cell_type": "code",
   "execution_count": 219,
   "metadata": {},
   "outputs": [],
   "source": [
    "betas = df_beta['mean'].values"
   ]
  },
  {
   "cell_type": "markdown",
   "metadata": {},
   "source": [
    "## Update $\\sigma^2$"
   ]
  },
  {
   "cell_type": "markdown",
   "metadata": {},
   "source": [
    "Gibbs sampling"
   ]
  },
  {
   "cell_type": "code",
   "execution_count": 220,
   "metadata": {},
   "outputs": [],
   "source": [
    "sigma2_list = []\n",
    "for k in range(100):\n",
    "    invchi2 = chi2.ppf(np.random.rand(),df=10)\n",
    "    I = np.identity(N)\n",
    "    A = np.linalg.inv(I-betas[2]*G1)\n",
    "    mu_y = betas[0]*np.ones(N)+betas[1]*X+betas[3]*G1.dot(X)+betas[4]*xi\n",
    "    mu_y = A.dot(mu_y)\n",
    "    var = np.matmul(I-betas[2]*G1,I-betas[2]*G1)\n",
    "    tau2 =  (1/11)*(Y-mu_y).dot(var.dot(Y-mu_y))\n",
    "    sigma2 = invchi2/(11*tau2)\n",
    "    sigma2_list.append(sigma2)"
   ]
  },
  {
   "cell_type": "code",
   "execution_count": 221,
   "metadata": {},
   "outputs": [
    {
     "data": {
      "text/plain": [
       "0.00015883085589892424"
      ]
     },
     "execution_count": 221,
     "metadata": {},
     "output_type": "execute_result"
    }
   ],
   "source": [
    "sigma2 = np.mean(sigma2_list)\n",
    "sigma2"
   ]
  },
  {
   "cell_type": "markdown",
   "metadata": {},
   "source": [
    "## Update $\\alpha$"
   ]
  },
  {
   "cell_type": "markdown",
   "metadata": {},
   "source": [
    "We use the same Metropolis-Hastings algorithm as previously with slight changes to take into account the $\\xi$ variable."
   ]
  },
  {
   "cell_type": "code",
   "execution_count": 222,
   "metadata": {},
   "outputs": [],
   "source": [
    "alphas = np.append(alphas,alpha_xi)"
   ]
  },
  {
   "cell_type": "code",
   "execution_count": 223,
   "metadata": {},
   "outputs": [],
   "source": [
    "def alpha_posterior_endo(a,x,theta):\n",
    "    \"\"\"\n",
    "    parameters\n",
    "    ----------\n",
    "    a: array of alpha parameters\n",
    "    x: D1 \n",
    "    theta: array [np.ones,(|Xi-Xj|),D0,F0,xi]\n",
    "    \"\"\"\n",
    "    N = x.shape[0]\n",
    "    res = np.exp(-0.5*a.dot(a))**(N*(N-1)*0.5)\n",
    "    for i in range(N):\n",
    "        for j in range(i+1,N):\n",
    "            #compute <alpha,theta>\n",
    "            ps = 0\n",
    "            for k in range(5):\n",
    "                ps += a[k]*theta[k][i,j] \n",
    "            res *= np.exp(2*x[i,j]*ps)\n",
    "    return res"
   ]
  },
  {
   "cell_type": "code",
   "execution_count": 224,
   "metadata": {},
   "outputs": [
    {
     "name": "stderr",
     "output_type": "stream",
     "text": [
      "/anaconda3/lib/python3.7/site-packages/ipykernel_launcher.py:7: RuntimeWarning: invalid value encountered in double_scalars\n",
      "  import sys\n",
      "/anaconda3/lib/python3.7/site-packages/ipykernel_launcher.py:17: RuntimeWarning: overflow encountered in exp\n",
      "/anaconda3/lib/python3.7/site-packages/ipykernel_launcher.py:17: RuntimeWarning: invalid value encountered in double_scalars\n"
     ]
    }
   ],
   "source": [
    "#Metropolis Hastings with normal kernel \n",
    "theta = [np.ones((N,N)),dist,D0,F0,xi]\n",
    "alpha_list = [alphas]\n",
    "n_iter = 1000\n",
    "for i in range(n_iter): \n",
    "    y = alphas + np.random.randn(5)\n",
    "    ratio = posterior(y,D1,theta)/posterior(alphas,D1,theta)*1 #1 is the kernel ratio term \n",
    "    p_accept = min([1,ratio])\n",
    "    b = binomial(1,p_accept)\n",
    "    alphas = b*y+(1-b)*alphas\n",
    "    alpha_list.append(alphas)"
   ]
  },
  {
   "cell_type": "code",
   "execution_count": 225,
   "metadata": {},
   "outputs": [
    {
     "data": {
      "image/png": "[encoded data removed]",
      "text/plain": [
       "<Figure size 1008x720 with 5 Axes>"
      ]
     },
     "metadata": {
      "needs_background": "light"
     },
     "output_type": "display_data"
    }
   ],
   "source": [
    "fig = plt.figure(figsize=(14,10))\n",
    "titles = ['alpha_0','alpha_x','alpha_d','alpha_f','alpha_xi']\n",
    "for i in range(5):\n",
    "    ax = fig.add_subplot(3,2,i+1)\n",
    "    alpha0 = [a[i] for a in alpha_list]\n",
    "    ax.hist(alpha0)\n",
    "    ax.set_title(titles[i])\n",
    "    ax.axvline(np.mean(alpha0),ls='dotted',c='r',linewidth = 5)\n",
    "plt.show()"
   ]
  },
  {
   "cell_type": "code",
   "execution_count": 226,
   "metadata": {},
   "outputs": [
    {
     "data": {
      "text/html": [
       "<div>\n",
       "<style scoped>\n",
       "    .dataframe tbody tr th:only-of-type {\n",
       "        vertical-align: middle;\n",
       "    }\n",
       "\n",
       "    .dataframe tbody tr th {\n",
       "        vertical-align: top;\n",
       "    }\n",
       "\n",
       "    .dataframe thead th {\n",
       "        text-align: right;\n",
       "    }\n",
       "</style>\n",
       "<table border=\"1\" class=\"dataframe\">\n",
       "  <thead>\n",
       "    <tr style=\"text-align: right;\">\n",
       "      <th></th>\n",
       "      <th>mean</th>\n",
       "      <th>std</th>\n",
       "    </tr>\n",
       "  </thead>\n",
       "  <tbody>\n",
       "    <tr>\n",
       "      <th>a0</th>\n",
       "      <td>6.75225</td>\n",
       "      <td>8.5287</td>\n",
       "    </tr>\n",
       "    <tr>\n",
       "      <th>ax</th>\n",
       "      <td>1.50254</td>\n",
       "      <td>5.63036</td>\n",
       "    </tr>\n",
       "    <tr>\n",
       "      <th>ad</th>\n",
       "      <td>-10.7615</td>\n",
       "      <td>6.27251</td>\n",
       "    </tr>\n",
       "    <tr>\n",
       "      <th>af</th>\n",
       "      <td>12.4487</td>\n",
       "      <td>6.17896</td>\n",
       "    </tr>\n",
       "    <tr>\n",
       "      <th>a_xi</th>\n",
       "      <td>7.00814</td>\n",
       "      <td>12.9541</td>\n",
       "    </tr>\n",
       "  </tbody>\n",
       "</table>\n",
       "</div>"
      ],
      "text/plain": [
       "         mean      std\n",
       "a0    6.75225   8.5287\n",
       "ax    1.50254  5.63036\n",
       "ad   -10.7615  6.27251\n",
       "af    12.4487  6.17896\n",
       "a_xi  7.00814  12.9541"
      ]
     },
     "execution_count": 226,
     "metadata": {},
     "output_type": "execute_result"
    }
   ],
   "source": [
    "df = pd.DataFrame([],index=['a0','ax','ad','af','a_xi'],columns = ['mean','std'])\n",
    "for i in range(5):\n",
    "    alpha0 = [a[i] for a in alpha_list]\n",
    "    df.iloc[i,:] = [np.mean(alpha0),np.std(alpha0)]\n",
    "df"
   ]
  },
  {
   "cell_type": "code",
   "execution_count": 227,
   "metadata": {},
   "outputs": [],
   "source": [
    "alphas = df['mean'].values"
   ]
  },
  {
   "cell_type": "markdown",
   "metadata": {},
   "source": [
    "## Update $\\xi$"
   ]
  },
  {
   "cell_type": "code",
   "execution_count": 228,
   "metadata": {},
   "outputs": [
    {
     "name": "stderr",
     "output_type": "stream",
     "text": [
      "/anaconda3/lib/python3.7/site-packages/ipykernel_launcher.py:14: RuntimeWarning: overflow encountered in exp\n",
      "  \n"
     ]
    }
   ],
   "source": [
    "n_iter = 100\n",
    "for n in range(n_iter):\n",
    "    probas = []\n",
    "    for i in range(N):\n",
    "        #compute binomial parameter\n",
    "        p0 = 0\n",
    "        p1 = 0\n",
    "        for j in range(N):\n",
    "            for k in range(4):\n",
    "                p0 += 2*D1[i,j]*alphas[k]*theta[k][i,j]\n",
    "            p1 += p0\n",
    "        p0 += 2*alphas[4]*np.sum(D1[i,:].dot(xi))\n",
    "        p1 += 2*alphas[4]*(N-np.sum(D1[i,:].dot(xi)))\n",
    "        proba = 1/(1+np.exp(p1-p0))\n",
    "        probas.append(proba)\n",
    "        xi[i] = binomial(1,proba)"
   ]
  },
  {
   "cell_type": "code",
   "execution_count": 229,
   "metadata": {},
   "outputs": [
    {
     "data": {
      "text/plain": [
       "array([0, 0, 0, 0, 0, 0, 0, 0, 0, 0, 0, 0, 0, 0, 0, 0, 0, 0, 0, 0, 0, 0,\n",
       "       0, 0, 0, 0, 0, 0, 0, 0, 0, 0, 0, 0, 0, 0, 0, 0, 0, 0, 0, 0, 0, 0,\n",
       "       0, 0, 0, 0, 0, 0, 0, 0, 0, 0, 0, 0, 0, 0, 0, 0, 0, 0, 0, 0, 0, 0,\n",
       "       0, 0, 0, 0, 0, 0, 0, 0, 0, 0, 0, 0, 0, 0, 0, 0, 0, 0, 0, 0, 0, 0,\n",
       "       0, 0, 0, 0, 0, 0, 0, 0, 0, 0, 0, 0])"
      ]
     },
     "execution_count": 229,
     "metadata": {},
     "output_type": "execute_result"
    }
   ],
   "source": [
    "xi"
   ]
  },
  {
   "cell_type": "markdown",
   "metadata": {},
   "source": [
    "Nos valeurs n'ont pas forcément de sens: tout a été sélectionné au hasard"
   ]
  },
  {
   "cell_type": "markdown",
   "metadata": {},
   "source": [
    "# 4. Heterogeneity in peer effects"
   ]
  },
  {
   "cell_type": "markdown",
   "metadata": {},
   "source": [
    "On utilise une matrice de réseau à l'étpae 1 qui n'est plus symétrique (i ami de j n'implique pas j ami de i)  "
   ]
  },
  {
   "cell_type": "code",
   "execution_count": 230,
   "metadata": {},
   "outputs": [],
   "source": [
    "N = pop\n",
    "D0 = np.zeros((N,N))\n",
    "D1 = np.zeros((N,N))\n",
    "for i in range(N):\n",
    "    for j in range(i,N):\n",
    "        if cluster_attribution[i]==cluster_attribution[j]:\n",
    "            proba = 0.9\n",
    "        else: \n",
    "            proba = prox[cluster_attribution[i],cluster_attribution[j]]\n",
    "        D0[i,j] = binomial(1,proba)\n",
    "        D0[j,i] = binomial(1,proba)\n",
    "        D1[i,j] = binomial(1,proba)\n",
    "        D1[j,i] = binomial(1,proba)"
   ]
  },
  {
   "cell_type": "markdown",
   "metadata": {},
   "source": [
    "Same as 1. with different networks and extended models"
   ]
  },
  {
   "cell_type": "code",
   "execution_count": 231,
   "metadata": {},
   "outputs": [],
   "source": [
    "def heterogeneity(name):\n",
    "    \"\"\"\n",
    "    réalise les estimations de la partie MLIM avec d'autres réseaux \n",
    "    parameters\n",
    "    ----------\n",
    "    name : définition du réseau utilisée\n",
    "    \n",
    "    returns\n",
    "    -------\n",
    "    df : pd.DataFrame contenant les means et vars pour beta et sigma2\n",
    "    \"\"\"\n",
    "    \n",
    "    if name=='lagged':\n",
    "        DB = D0 * (1 - D1)\n",
    "    elif name =='mutual':\n",
    "        DB = np.asarray([[D1[i,j]==D1[j,i] for j in range(N)] for i in range(N)])\n",
    "    elif name=='fof': #friends of friends\n",
    "        DM = np.asarray([[D1[i,j]==D1[j,i] for j in range(N)] for i in range(N)])\n",
    "        FM = (np.dot(DM,DM)>0).astype(np.int)\n",
    "        DB = (1 - D1) * FM\n",
    "    else: \n",
    "        raise ValueError(name + ' is not a correct network specification')\n",
    "    #priors \n",
    "    #on a 6 coefficients beta sur lesquels travailler \n",
    "    mu0 = np.zeros(6) #mean of the conditional normal distribution \n",
    "    Q0 = np.diag(np.ones(6)) #var of the conditional normal distribution\n",
    "    a0 = 1 #coef of the inverse gamma\n",
    "    b0 = 1 #scaling coefficient of the inverse gamma\n",
    "\n",
    "    #construction du réseau B\n",
    "    MB = np.sum(DB,axis=1)\n",
    "    GB = np.linalg.solve(np.diag(MB),DB)\n",
    "    #construction des variables explicatives et variables cibles\n",
    "    Y = gpa_1\n",
    "    X = gpa_0\n",
    "    YbarA = G1.dot(Y)\n",
    "    XbarA = G1.dot(X)\n",
    "    YbarB = GB.dot(Y)\n",
    "    XbarB = GB.dot(X)\n",
    "    features = np.column_stack((np.ones(len(Y)),X,YbarA,XbarA,YbarB,XbarB))\n",
    "\n",
    "    #updating parameters: computing the posterior distribution parameters\n",
    "    Qn = features.T.dot(features) + Q0\n",
    "    mun = np.linalg.solve(Qn,Q0.dot(mu0)+features.T.dot(Y))\n",
    "    an = a0+len(Y)/2\n",
    "    bn = b0 + 0.5*(Y.dot(Y)+mu0.T.dot(Q0.dot(mu0))-mun.T.dot(Qn.dot(mun)))\n",
    "    \n",
    "    \n",
    "    df = pd.DataFrame([],index=['beta0','betax','beta_ybarA','beta_xbarA','beta_ybarB','beta_xbarB','sigma2'],columns = ['mean','std'])\n",
    "    for i in range(6):\n",
    "        x1 = mun[i]\n",
    "        x2 = np.sqrt(Qn[i,i])\n",
    "        df.iloc[i] = [x1,x2]\n",
    "    \n",
    "    df.iloc[6] = [bn/(an-1),np.sqrt(bn**2/((an-1)**2*(an-2)))]\n",
    "    print(df)\n",
    "    \n",
    "    return df  "
   ]
  },
  {
   "cell_type": "code",
   "execution_count": 232,
   "metadata": {},
   "outputs": [
    {
     "name": "stdout",
     "output_type": "stream",
     "text": [
      "                 mean       std\n",
      "beta0       -0.668172   10.0499\n",
      "betax       0.0877309   23.3489\n",
      "beta_ybarA     1.1287   19.2316\n",
      "beta_xbarA   0.289834     20.31\n",
      "beta_ybarB  -0.401223   19.1705\n",
      "beta_xbarB   0.231393   20.0446\n",
      "sigma2        1.03852  0.148359\n"
     ]
    }
   ],
   "source": [
    "df_lagged = heterogeneity('lagged')"
   ]
  },
  {
   "cell_type": "code",
   "execution_count": 233,
   "metadata": {},
   "outputs": [
    {
     "name": "stdout",
     "output_type": "stream",
     "text": [
      "                 mean       std\n",
      "beta0       -0.212407   10.0499\n",
      "betax       0.0881205   23.3489\n",
      "beta_ybarA    1.17706   19.2316\n",
      "beta_xbarA   0.400833     20.31\n",
      "beta_ybarB   0.121262   19.4463\n",
      "beta_xbarB  -0.660312   19.9186\n",
      "sigma2        1.05367  0.150524\n"
     ]
    }
   ],
   "source": [
    "df_mutual = heterogeneity('mutual')"
   ]
  },
  {
   "cell_type": "code",
   "execution_count": 234,
   "metadata": {},
   "outputs": [
    {
     "name": "stdout",
     "output_type": "stream",
     "text": [
      "                 mean       std\n",
      "beta0      -0.0321264   10.0499\n",
      "betax       0.0799402   23.3489\n",
      "beta_ybarA    1.22216   19.2316\n",
      "beta_xbarA    0.40183     20.31\n",
      "beta_ybarB  -0.433894   19.3912\n",
      "beta_xbarB  -0.248149   19.8382\n",
      "sigma2        1.05167  0.150239\n"
     ]
    }
   ],
   "source": [
    "df_fof = heterogeneity('fof')"
   ]
  },
  {
   "cell_type": "markdown",
   "metadata": {},
   "source": [
    "# 5. Auto-regressive and moving average"
   ]
  },
  {
   "cell_type": "markdown",
   "metadata": {},
   "source": [
    "## Auto-regressive models"
   ]
  },
  {
   "cell_type": "code",
   "execution_count": 235,
   "metadata": {},
   "outputs": [],
   "source": [
    "#priors \n",
    "#on a 4 coefficients gamma sur lesquels travailler \n",
    "mu0 = np.zeros(4) #mean of the conditional normal distribution \n",
    "Q0 = np.diag(np.ones(4)) #var of the conditional normal distribution\n",
    "\n",
    "#construction des variables explicatives et variables cibles\n",
    "Y = gpa_1\n",
    "X = gpa_0\n",
    "GX = G1.dot(X)\n",
    "GGX = G1.dot(GX)\n",
    "features = np.column_stack((np.ones(len(Y)),X,GX,GGX))\n",
    "\n",
    "#updating parameters: computing the posterior distribution parameters\n",
    "Qn = features.T.dot(features) + Q0\n",
    "mun = np.linalg.solve(Qn,Q0.dot(mu0)+features.T.dot(Y))"
   ]
  },
  {
   "cell_type": "code",
   "execution_count": 236,
   "metadata": {},
   "outputs": [
    {
     "data": {
      "text/html": [
       "<div>\n",
       "<style scoped>\n",
       "    .dataframe tbody tr th:only-of-type {\n",
       "        vertical-align: middle;\n",
       "    }\n",
       "\n",
       "    .dataframe tbody tr th {\n",
       "        vertical-align: top;\n",
       "    }\n",
       "\n",
       "    .dataframe thead th {\n",
       "        text-align: right;\n",
       "    }\n",
       "</style>\n",
       "<table border=\"1\" class=\"dataframe\">\n",
       "  <thead>\n",
       "    <tr style=\"text-align: right;\">\n",
       "      <th></th>\n",
       "      <th>mean</th>\n",
       "      <th>std</th>\n",
       "    </tr>\n",
       "  </thead>\n",
       "  <tbody>\n",
       "    <tr>\n",
       "      <th>gamma0</th>\n",
       "      <td>0.496798</td>\n",
       "      <td>10.0499</td>\n",
       "    </tr>\n",
       "    <tr>\n",
       "      <th>gammaX</th>\n",
       "      <td>0.123431</td>\n",
       "      <td>23.3489</td>\n",
       "    </tr>\n",
       "    <tr>\n",
       "      <th>gamma1</th>\n",
       "      <td>0.720599</td>\n",
       "      <td>20.31</td>\n",
       "    </tr>\n",
       "    <tr>\n",
       "      <th>gamma2</th>\n",
       "      <td>-0.13235</td>\n",
       "      <td>20.1902</td>\n",
       "    </tr>\n",
       "  </tbody>\n",
       "</table>\n",
       "</div>"
      ],
      "text/plain": [
       "            mean      std\n",
       "gamma0  0.496798  10.0499\n",
       "gammaX  0.123431  23.3489\n",
       "gamma1  0.720599    20.31\n",
       "gamma2  -0.13235  20.1902"
      ]
     },
     "execution_count": 236,
     "metadata": {},
     "output_type": "execute_result"
    }
   ],
   "source": [
    "df = pd.DataFrame([],index=['gamma0','gammaX','gamma1','gamma2'],columns = ['mean','std'])\n",
    "for i in range(4):\n",
    "    x1 = mun[i]\n",
    "    x2 = np.sqrt(Qn[i,i])\n",
    "    df.iloc[i] = [x1,x2]\n",
    "df"
   ]
  },
  {
   "cell_type": "code",
   "execution_count": 237,
   "metadata": {},
   "outputs": [],
   "source": [
    "bx = df['mean']['gammaX']\n",
    "bybar = df['mean']['gamma2']/df['mean']['gamma1']\n",
    "bxbar = df['mean']['gamma1'] - bx * bybar\n",
    "b0 = (I - bybar*G1).dot(df['mean']['gamma0']*np.ones(N))[0]"
   ]
  },
  {
   "cell_type": "code",
   "execution_count": 238,
   "metadata": {},
   "outputs": [
    {
     "data": {
      "text/html": [
       "<div>\n",
       "<style scoped>\n",
       "    .dataframe tbody tr th:only-of-type {\n",
       "        vertical-align: middle;\n",
       "    }\n",
       "\n",
       "    .dataframe tbody tr th {\n",
       "        vertical-align: top;\n",
       "    }\n",
       "\n",
       "    .dataframe thead th {\n",
       "        text-align: right;\n",
       "    }\n",
       "</style>\n",
       "<table border=\"1\" class=\"dataframe\">\n",
       "  <thead>\n",
       "    <tr style=\"text-align: right;\">\n",
       "      <th></th>\n",
       "      <th>mean</th>\n",
       "    </tr>\n",
       "  </thead>\n",
       "  <tbody>\n",
       "    <tr>\n",
       "      <th>beta0</th>\n",
       "      <td>0.588043</td>\n",
       "    </tr>\n",
       "    <tr>\n",
       "      <th>betaX</th>\n",
       "      <td>0.123431</td>\n",
       "    </tr>\n",
       "    <tr>\n",
       "      <th>beta_xbar</th>\n",
       "      <td>0.743269</td>\n",
       "    </tr>\n",
       "    <tr>\n",
       "      <th>beta_FIC</th>\n",
       "      <td>-0.183667</td>\n",
       "    </tr>\n",
       "  </tbody>\n",
       "</table>\n",
       "</div>"
      ],
      "text/plain": [
       "               mean\n",
       "beta0      0.588043\n",
       "betaX      0.123431\n",
       "beta_xbar  0.743269\n",
       "beta_FIC  -0.183667"
      ]
     },
     "execution_count": 238,
     "metadata": {},
     "output_type": "execute_result"
    }
   ],
   "source": [
    "df = pd.DataFrame([],index=['beta0','betaX','beta_xbar','beta_FIC'],columns = ['mean'])\n",
    "df['mean']['beta0'] = b0\n",
    "df['mean']['betaX'] = bx\n",
    "df['mean']['beta_xbar'] = bxbar\n",
    "df['mean']['beta_FIC'] = bybar\n",
    "\n",
    "df"
   ]
  },
  {
   "cell_type": "markdown",
   "metadata": {},
   "source": [
    "Le $\\hat{\\beta}_{FIC}$ est négatif puisqu'on n'a pas modélisé la dépendance interclusters en fonction de la variable Y (et donc on ne retrouve aucun impact rationnel)"
   ]
  },
  {
   "cell_type": "markdown",
   "metadata": {},
   "source": [
    "## Moving average"
   ]
  },
  {
   "cell_type": "code",
   "execution_count": null,
   "metadata": {},
   "outputs": [],
   "source": []
  }
 ],
 "metadata": {
  "kernelspec": {
   "display_name": "Python 3",
   "language": "python",
   "name": "python3"
  },
  "language_info": {
   "codemirror_mode": {
    "name": "ipython",
    "version": 3
   },
   "file_extension": ".py",
   "mimetype": "text/x-python",
   "name": "python",
   "nbconvert_exporter": "python",
   "pygments_lexer": "ipython3",
   "version": "3.7.5"
  }
 },
 "nbformat": 4,
 "nbformat_minor": 4
}
