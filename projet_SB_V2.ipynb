{
 "cells": [
  {
   "cell_type": "code",
   "execution_count": 1,
   "metadata": {},
   "outputs": [],
   "source": [
    "import matplotlib.pyplot as plt\n",
    "import numpy as np \n",
    "import pandas as pd\n",
    "import math\n",
    "from numpy.random import multinomial, binomial\n",
    "from scipy.stats import chi2"
   ]
  },
  {
   "cell_type": "code",
   "execution_count": 2,
   "metadata": {},
   "outputs": [],
   "source": [
    "np.random.seed(0)"
   ]
  },
  {
   "cell_type": "markdown",
   "metadata": {},
   "source": [
    "# Génération des données naïves"
   ]
  },
  {
   "cell_type": "code",
   "execution_count": 148,
   "metadata": {},
   "outputs": [],
   "source": [
    "#networks simulation\n",
    "N = 100\n",
    "D0 = np.random.randint(2,size=(N,N))\n",
    "D0 = np.tril(D0) + np.tril(D0, -1).T\n",
    "D1 = np.random.randint(2,size=(N,N))\n",
    "D1 = np.tril(D1) + np.tril(D1, -1).T\n",
    "for i in range(N):\n",
    "    D0[i,i] = 0\n",
    "    D1[i,i] = 0"
   ]
  },
  {
   "cell_type": "code",
   "execution_count": 149,
   "metadata": {},
   "outputs": [],
   "source": [
    "M0 = np.sum(D0,axis=1)\n",
    "G0 = np.linalg.solve(np.diag(M0),D0)\n",
    "\n",
    "M1 = np.sum(D1,axis=1)\n",
    "G1 = np.linalg.solve(np.diag(M1),D1)"
   ]
  },
  {
   "cell_type": "code",
   "execution_count": 150,
   "metadata": {},
   "outputs": [],
   "source": [
    "F0 = (np.dot(D0,D0)>0).astype(np.int)\n",
    "F1 = (np.dot(D1,D1)>0).astype(np.int)"
   ]
  },
  {
   "cell_type": "code",
   "execution_count": 151,
   "metadata": {},
   "outputs": [],
   "source": [
    "#GPA simulation\n",
    "gpa_0 = np.random.uniform(low= 0,high=4,size=N)\n",
    "gpa_1 = np.random.uniform(low=0,high=4,size=N)"
   ]
  },
  {
   "cell_type": "markdown",
   "metadata": {},
   "source": [
    "# 1. MLIM model"
   ]
  },
  {
   "cell_type": "markdown",
   "metadata": {},
   "source": [
    "On fait la régression bayésienne, avec les a posteriori conjugués (inverse-$\\chi^2(1)$, normale conditionnelle).\n",
    "\n",
    "si on veut juste les means et vars, il suffit de les calculer les paramètres des posterior."
   ]
  },
  {
   "cell_type": "code",
   "execution_count": 152,
   "metadata": {},
   "outputs": [],
   "source": [
    "#priors \n",
    "#on a 4 coefficients beta sur lesquels travailler \n",
    "mu0 = np.zeros(4) #mean of the conditional normal distribution \n",
    "Q0 = np.diag(np.ones(4)) #var of the conditional normal distribution\n",
    "a0 = 1 #coef of the inverse gamma\n",
    "b0 = 1 #scaling coefficient of the inverse gamma"
   ]
  },
  {
   "cell_type": "code",
   "execution_count": 153,
   "metadata": {},
   "outputs": [],
   "source": [
    "#construction des variables explicatives et variables cibles\n",
    "Y = gpa_1\n",
    "Ybar = G1.dot(Y)\n",
    "X = gpa_0\n",
    "Xbar = G1.dot(X)\n",
    "features = np.column_stack((np.ones(len(Y)),Ybar,X,Xbar))"
   ]
  },
  {
   "cell_type": "markdown",
   "metadata": {},
   "source": [
    "Les paramètres du modèle sont mis à jour selon les équations suivantes :\n",
    "$$ Q_{n}=(\\mathbf {X} ^{\\rm {T}}\\mathbf {X} + Q_{0}) $$\n",
    "$$  \\boldsymbol\\mu_n=(\\mathbf{X}^{\\rm T}\\mathbf{X}+ Q_0)^{-1} (Q_0\\boldsymbol\\mu_0+\\mathbf{X}^{\\rm T}\\mathbf{y})  $$ \n",
    "$$ a_{n}=a_{0}+{\\frac  {n}{2}} $$ \n",
    "$$ b_{n}=b_{0}+{\\frac  {1}{2}}({\\mathbf  {y}}^{{{\\rm {T}}}}{\\mathbf  {y}}+{\\boldsymbol  \\mu }_{0}^{{{\\rm {T}}}}Q_{0}{\\boldsymbol  \\mu }_{0}-{\\boldsymbol  \\mu }_{n}^{{{\\rm {T}}}}Q_{n}{\\boldsymbol  \\mu }_{n}) $$"
   ]
  },
  {
   "cell_type": "code",
   "execution_count": 154,
   "metadata": {},
   "outputs": [],
   "source": [
    "#updating parameters: computing the posterior distribution parameters\n",
    "Qn = features.T.dot(features) + Q0\n",
    "mun = np.linalg.solve(Qn,Q0.dot(mu0)+features.T.dot(Y))\n",
    "an = a0+len(Y)/2\n",
    "bn = b0 + 0.5*(Y.dot(Y)+mu0.T.dot(Q0.dot(mu0))-mun.T.dot(Qn.dot(mun)))"
   ]
  },
  {
   "cell_type": "code",
   "execution_count": 155,
   "metadata": {},
   "outputs": [
    {
     "data": {
      "text/plain": [
       "array([ 0.96308266, -0.21265666, -0.01211112,  0.64919329])"
      ]
     },
     "execution_count": 155,
     "metadata": {},
     "output_type": "execute_result"
    }
   ],
   "source": [
    "#moyennes des lois normales a posteriori\n",
    "mun"
   ]
  },
  {
   "cell_type": "markdown",
   "metadata": {},
   "source": [
    "On obtient donc \n",
    "$$ \\beta_0 = 1.46 , \\beta_{\\bar{Y}} = 0.42, \\beta_x = 0.16, \\beta_{\\bar{x}} = -0.35 $$"
   ]
  },
  {
   "cell_type": "code",
   "execution_count": 156,
   "metadata": {},
   "outputs": [
    {
     "data": {
      "text/plain": [
       "array([[101.        , 188.38248081, 206.74836504, 205.87696439],\n",
       "       [188.38248081, 357.12249736, 389.20689229, 387.65238073],\n",
       "       [206.74836504, 389.20689229, 562.00084368, 426.27945394],\n",
       "       [205.87696439, 387.65238073, 426.27945394, 426.30258603]])"
      ]
     },
     "execution_count": 156,
     "metadata": {},
     "output_type": "execute_result"
    }
   ],
   "source": [
    "#matrice de variance covariance\n",
    "Qn"
   ]
  },
  {
   "cell_type": "markdown",
   "metadata": {},
   "source": [
    "Pour le $\\sigma^2$"
   ]
  },
  {
   "cell_type": "code",
   "execution_count": 157,
   "metadata": {},
   "outputs": [
    {
     "data": {
      "text/plain": [
       "1.2291629476769066"
      ]
     },
     "execution_count": 157,
     "metadata": {},
     "output_type": "execute_result"
    }
   ],
   "source": [
    "bn/(an-1) #moyenne de l'inverse-gamma"
   ]
  },
  {
   "cell_type": "code",
   "execution_count": 158,
   "metadata": {},
   "outputs": [
    {
     "data": {
      "text/plain": [
       "0.030833501060036364"
      ]
     },
     "execution_count": 158,
     "metadata": {},
     "output_type": "execute_result"
    }
   ],
   "source": [
    "bn**2/((an-1)**2*(an-2)) #variance de l'inverse gamma"
   ]
  },
  {
   "cell_type": "markdown",
   "metadata": {},
   "source": [
    "# 2. Exogenous network formation"
   ]
  },
  {
   "cell_type": "markdown",
   "metadata": {},
   "source": [
    "$\\alpha \\sim \\mathcal{N}(0,1)$ (chaque \\alpha suit une loi normale de façon indépendante)\n",
    "\n",
    "$\\displaystyle{P(D_{1,ij} = 1|D_{0},X)  = (\\frac{e^{\\alpha_{0} + \\alpha_{x}|Xi-Xj| + \\alpha_{d}D_{0ij}+ \\alpha_{f}F_{0ij}}}{1 + e^{\\alpha_{0} + \\alpha_{x}|Xi-Xj| + \\alpha_{d}D_{0ij}+ \\alpha_{f}F_{0ij}}})^2}$\n",
    "\n"
   ]
  },
  {
   "cell_type": "code",
   "execution_count": 159,
   "metadata": {},
   "outputs": [],
   "source": [
    "#priors\n",
    "alpha0 = np.random.randn(1)\n",
    "alphax = np.random.randn(1)\n",
    "alphad = np.random.randn(1)\n",
    "alphaf = np.random.randn(1)\n",
    "\n",
    "alpha = np.random.randn(4)"
   ]
  },
  {
   "cell_type": "code",
   "execution_count": 160,
   "metadata": {},
   "outputs": [],
   "source": [
    "#feature engineering \n",
    "#we must create |Xi-Xj| for each (i,j) couple \n",
    "dist = np.zeros((N,N))\n",
    "for i in range(N):\n",
    "    for j in range(i,N):\n",
    "        value = np.abs(X[i]-X[j])\n",
    "        dist[i][j] = value\n",
    "        dist[j][i] = value"
   ]
  },
  {
   "cell_type": "code",
   "execution_count": 161,
   "metadata": {},
   "outputs": [],
   "source": [
    "#matrix of utilities\n",
    "U = np.exp(alpha[0]*np.ones((N,N))+alpha[1]*dist+alpha[2]*D0+alpha[3]*F0)"
   ]
  },
  {
   "cell_type": "code",
   "execution_count": 162,
   "metadata": {},
   "outputs": [],
   "source": [
    "#We create a new D1 matrix based on the probability formula\n",
    "D1_new = np.zeros((N,N))\n",
    "for i in range(N):\n",
    "    for j in range(N):\n",
    "        p = (U[i,j])/(1 + U[i,j])\n",
    "        D1_new[i,j] = np.random.binomial(1,p**2)"
   ]
  },
  {
   "cell_type": "code",
   "execution_count": 163,
   "metadata": {},
   "outputs": [],
   "source": [
    "def posterior(a,x,theta):\n",
    "    \"\"\"\n",
    "    parameters\n",
    "    ----------\n",
    "    a: array of alpha parameters\n",
    "    x: D1 \n",
    "    theta: array [np.ones,(|Xi-Xj|),D0,F0]\n",
    "    \"\"\"\n",
    "    N = x.shape[0]\n",
    "    res = np.exp(-0.5*a.dot(a))**(N*(N-1)*0.5)\n",
    "    for i in range(N):\n",
    "        for j in range(i+1,N):\n",
    "            #compute <alpha,theta>\n",
    "            ps = 0\n",
    "            for k in range(4):\n",
    "                ps += a[k]*theta[k][i,j] \n",
    "            res *= np.exp(2*x[i,j]*ps)\n",
    "    return res"
   ]
  },
  {
   "cell_type": "code",
   "execution_count": 164,
   "metadata": {},
   "outputs": [
    {
     "name": "stderr",
     "output_type": "stream",
     "text": [
      "C:\\Users\\benoit\\Anaconda3\\lib\\site-packages\\ipykernel_launcher.py:7: RuntimeWarning: invalid value encountered in double_scalars\n",
      "  import sys\n"
     ]
    }
   ],
   "source": [
    "#Metropolis Hastings with normal kernel \n",
    "theta = [np.ones((N,N)),dist,D0,F0]\n",
    "alpha_list = [alpha]\n",
    "n_iter = 1000\n",
    "for i in range(n_iter): \n",
    "    y = alpha + np.random.randn(4)\n",
    "    ratio = posterior(y,D1,theta)/posterior(alpha,D1,theta)*1 #1 is the kernel ratio term \n",
    "    p_accept = min([1,ratio])\n",
    "    b = binomial(1,p_accept)\n",
    "    alpha = b*y+(1-b)*alpha\n",
    "    alpha_list.append(alpha)"
   ]
  },
  {
   "cell_type": "code",
   "execution_count": 165,
   "metadata": {},
   "outputs": [
    {
     "data": {
      "image/png": "[encoded data removed]",
      "text/plain": [
       "<Figure size 1008x720 with 4 Axes>"
      ]
     },
     "metadata": {
      "needs_background": "light"
     },
     "output_type": "display_data"
    }
   ],
   "source": [
    "fig = plt.figure(figsize=(14,10))\n",
    "titles = ['alpha_0','alpha_x','alpha_d','alpha_f']\n",
    "for i in range(4):\n",
    "    ax = fig.add_subplot(2,2,i+1)\n",
    "    alpha0 = [a[i] for a in alpha_list]\n",
    "    ax.hist(alpha0)\n",
    "    ax.set_title(titles[i])\n",
    "    ax.axvline(np.mean(alpha0),ls='dotted',c='r',linewidth = 5)\n",
    "plt.show()"
   ]
  },
  {
   "cell_type": "code",
   "execution_count": 166,
   "metadata": {},
   "outputs": [
    {
     "data": {
      "text/html": [
       "<div>\n",
       "<style scoped>\n",
       "    .dataframe tbody tr th:only-of-type {\n",
       "        vertical-align: middle;\n",
       "    }\n",
       "\n",
       "    .dataframe tbody tr th {\n",
       "        vertical-align: top;\n",
       "    }\n",
       "\n",
       "    .dataframe thead th {\n",
       "        text-align: right;\n",
       "    }\n",
       "</style>\n",
       "<table border=\"1\" class=\"dataframe\">\n",
       "  <thead>\n",
       "    <tr style=\"text-align: right;\">\n",
       "      <th></th>\n",
       "      <th>mean</th>\n",
       "      <th>std</th>\n",
       "    </tr>\n",
       "  </thead>\n",
       "  <tbody>\n",
       "    <tr>\n",
       "      <th>a0</th>\n",
       "      <td>10.3874</td>\n",
       "      <td>10.7954</td>\n",
       "    </tr>\n",
       "    <tr>\n",
       "      <th>ax</th>\n",
       "      <td>-17.3166</td>\n",
       "      <td>12.0272</td>\n",
       "    </tr>\n",
       "    <tr>\n",
       "      <th>ad</th>\n",
       "      <td>9.10197</td>\n",
       "      <td>10.4149</td>\n",
       "    </tr>\n",
       "    <tr>\n",
       "      <th>af</th>\n",
       "      <td>18.3272</td>\n",
       "      <td>7.07315</td>\n",
       "    </tr>\n",
       "  </tbody>\n",
       "</table>\n",
       "</div>"
      ],
      "text/plain": [
       "       mean      std\n",
       "a0  10.3874  10.7954\n",
       "ax -17.3166  12.0272\n",
       "ad  9.10197  10.4149\n",
       "af  18.3272  7.07315"
      ]
     },
     "execution_count": 166,
     "metadata": {},
     "output_type": "execute_result"
    }
   ],
   "source": [
    "df = pd.DataFrame([],index=['a0','ax','ad','af'],columns = ['mean','std'])\n",
    "for i in range(4):\n",
    "    alpha0 = [a[i] for a in alpha_list]\n",
    "    df.iloc[i,:] = [np.mean(alpha0),np.std(alpha0)]\n",
    "df"
   ]
  },
  {
   "cell_type": "code",
   "execution_count": 167,
   "metadata": {},
   "outputs": [],
   "source": [
    "alphas = df['mean'].values"
   ]
  },
  {
   "cell_type": "markdown",
   "metadata": {},
   "source": [
    "# 3. Endogenous network formation"
   ]
  },
  {
   "cell_type": "code",
   "execution_count": 168,
   "metadata": {},
   "outputs": [],
   "source": [
    "betas = mun #results from 1st part\n",
    "beta_cov_mat = Qn #from the first part\n",
    "alphas = [np.mean(a)/1e10 for a in alpha_list] #results from 2nd part\n",
    "alphas = np.zeros(4)\n",
    "beta_xi = 0.1*np.random.randn(1) #normal with variance 0.01\n",
    "alpha_xi = -1 + 0.1*np.random.randn(1) #N(-1,0.01)\n",
    "xi = binomial(1,0.5,size=N)\n",
    "xi[0] = 1\n",
    "sigma2 = 2 #à corriger avec les résultats d'avant "
   ]
  },
  {
   "cell_type": "markdown",
   "metadata": {},
   "source": [
    "## update of $\\xi_i$"
   ]
  },
  {
   "cell_type": "code",
   "execution_count": 169,
   "metadata": {},
   "outputs": [],
   "source": [
    "#update of the xi_i\n",
    "theta = [np.ones((N,N)),dist,D0,F0]\n",
    "n_iter = 10\n",
    "for n in range(n_iter):\n",
    "    probas = []\n",
    "    for i in range(N):\n",
    "        #compute binomial parameter\n",
    "        p0 = 0\n",
    "        p1 = 0\n",
    "        for j in range(N):\n",
    "            for k in range(4):\n",
    "                p0 += 2*D1[i,j]*alphas[k]*theta[k][i,j]\n",
    "            p1 += p0\n",
    "        p0 += 2*alpha_xi*np.sum(D1[i,:].dot(xi))\n",
    "        p1 += 2*alpha_xi*(N-np.sum(D1[i,:].dot(xi)))\n",
    "        proba = 1/(1+np.exp(p1-p0))\n",
    "        probas.append(proba)\n",
    "        xi[i] = binomial(1,proba)"
   ]
  },
  {
   "cell_type": "code",
   "execution_count": 170,
   "metadata": {},
   "outputs": [
    {
     "data": {
      "text/plain": [
       "array([1, 1, 1, 1, 1, 1, 1, 0, 1, 1, 1, 1, 0, 1, 1, 1, 1, 1, 1, 1, 1, 0,\n",
       "       1, 1, 1, 0, 1, 1, 1, 1, 1, 1, 1, 1, 1, 1, 1, 1, 1, 1, 1, 0, 1, 0,\n",
       "       1, 1, 1, 1, 1, 1, 1, 1, 1, 1, 1, 0, 1, 1, 1, 1, 1, 1, 1, 1, 1, 1,\n",
       "       1, 1, 1, 1, 1, 1, 1, 1, 1, 1, 1, 1, 1, 1, 1, 0, 1, 1, 1, 1, 1, 1,\n",
       "       1, 1, 1, 1, 1, 1, 1, 1, 1, 0, 1, 1])"
      ]
     },
     "execution_count": 170,
     "metadata": {},
     "output_type": "execute_result"
    }
   ],
   "source": [
    "xi"
   ]
  },
  {
   "cell_type": "markdown",
   "metadata": {},
   "source": [
    "## Update of $\\beta$"
   ]
  },
  {
   "cell_type": "code",
   "execution_count": 171,
   "metadata": {},
   "outputs": [],
   "source": [
    "def posterior_endo(b,bxi,sigma2,xi,a,axi,D):\n",
    "    \"\"\"\n",
    "    compute log posterior then go exp \n",
    "    b is the beta vector [beta_0,beta_x,beta_ybar,beta_xbar]\n",
    "    \"\"\"\n",
    "    N = D.shape[0]\n",
    "    res = -0.5*np.linalg.norm(b[:-1]) #prior of beta\n",
    "    res += -0.5*b[-1]**2/(0.01**2) #prior of beta xi\n",
    "    res += np.sum([probas[i]*xi[i]+(1-probas[i])*(1-xi[i])]) #prior of xi\n",
    "    res += chi2.ppf(sigma2,df=10) #prior of sigma2\n",
    "    res += -0.5*np.linalg.norm(a) #prior of alpha\n",
    "    res += -0.5*(axi+1)**2/(0.01**2) #prior of alpha_xi\n",
    "    #compute pi(Y|b) \n",
    "    I = np.identity(N)\n",
    "    A = np.linalg.inv(I-b[2]*G1)\n",
    "    mean =  b[0]*np.ones(N)+b[1]*X+b[3]*G1.dot(X)+bxi*xi\n",
    "    mean = A.dot(mean)\n",
    "    var = sigma2*A.dot(A.T)\n",
    "    inv_var = I-b[2]*G1\n",
    "    res += -N/2*np.log(np.linalg.det(var))\n",
    "    res += -0.5*(Y-mean).T.dot(inv_var).dot(Y-mean)\n",
    "    \n",
    "    return res"
   ]
  },
  {
   "cell_type": "code",
   "execution_count": 172,
   "metadata": {},
   "outputs": [
    {
     "name": "stderr",
     "output_type": "stream",
     "text": [
      "C:\\Users\\benoit\\Anaconda3\\lib\\site-packages\\ipykernel_launcher.py:16: RuntimeWarning: invalid value encountered in less\n",
      "  app.launch_new_instance()\n"
     ]
    }
   ],
   "source": [
    "#update betas \n",
    "n_iter = 100\n",
    "beta_list = [betas]\n",
    "beta_xi_list = [0]\n",
    "for i in range(n_iter):\n",
    "    y = betas + (1/16)*Qn.dot(np.random.randn(4)) #normal centered on previous values with previous cov matrix\n",
    "    yxi = 0.1*np.random.randn(1)[0]\n",
    "    #computation of the beta posterior\n",
    "    pi_prev = posterior_endo(beta_list[-1],beta_xi_list[-1],sigma2,xi,alphas,alpha_xi,D1)\n",
    "    pi_suiv = posterior_endo(y,beta_xi_list[-1],sigma2,xi,alphas,alpha_xi,D1)\n",
    "    #computation of ratio \n",
    "    ratio = pi_suiv/pi_prev\n",
    "    inv_Qn = np.linalg.inv(Qn)\n",
    "    ratio *= np.exp(-0.5*((beta_list[-1]-y).T.dot(inv_Qn).dot(beta_list[-1]-y)+100*(beta_xi_list[-1]-yxi)**2))\n",
    "    #comparison with 1\n",
    "    p_accept = min([1,ratio])\n",
    "    #decision\n",
    "    if binomial(1,p_accept):\n",
    "        beta_list.append(y)\n",
    "        beta_xi_list.append(yxi)\n",
    "    else: \n",
    "        beta_list.append(beta_list[-1])\n",
    "        beta_xi_list.append(beta_xi_list[-1])\n",
    "            "
   ]
  },
  {
   "cell_type": "code",
   "execution_count": 173,
   "metadata": {},
   "outputs": [
    {
     "data": {
      "image/png": "[encoded data removed]",
      "text/plain": [
       "<Figure size 432x288 with 1 Axes>"
      ]
     },
     "metadata": {
      "needs_background": "light"
     },
     "output_type": "display_data"
    }
   ],
   "source": [
    "plt.hist(beta_xi_list)\n",
    "plt.axvline(np.mean(beta_xi_list),ls='--',c='r')\n",
    "plt.title('beta_xi')\n",
    "plt.show()"
   ]
  },
  {
   "cell_type": "code",
   "execution_count": 174,
   "metadata": {},
   "outputs": [
    {
     "data": {
      "text/html": [
       "<div>\n",
       "<style scoped>\n",
       "    .dataframe tbody tr th:only-of-type {\n",
       "        vertical-align: middle;\n",
       "    }\n",
       "\n",
       "    .dataframe tbody tr th {\n",
       "        vertical-align: top;\n",
       "    }\n",
       "\n",
       "    .dataframe thead th {\n",
       "        text-align: right;\n",
       "    }\n",
       "</style>\n",
       "<table border=\"1\" class=\"dataframe\">\n",
       "  <thead>\n",
       "    <tr style=\"text-align: right;\">\n",
       "      <th></th>\n",
       "      <th>mean</th>\n",
       "      <th>std</th>\n",
       "    </tr>\n",
       "  </thead>\n",
       "  <tbody>\n",
       "    <tr>\n",
       "      <th>beta0</th>\n",
       "      <td>2.81327</td>\n",
       "      <td>19.3739</td>\n",
       "    </tr>\n",
       "    <tr>\n",
       "      <th>betax</th>\n",
       "      <td>3.28408</td>\n",
       "      <td>36.5017</td>\n",
       "    </tr>\n",
       "    <tr>\n",
       "      <th>beta_ybar</th>\n",
       "      <td>3.47453</td>\n",
       "      <td>44.6367</td>\n",
       "    </tr>\n",
       "    <tr>\n",
       "      <th>beta_xbar</th>\n",
       "      <td>4.47353</td>\n",
       "      <td>39.928</td>\n",
       "    </tr>\n",
       "    <tr>\n",
       "      <th>beta_xi</th>\n",
       "      <td>-0.0120865</td>\n",
       "      <td>0.108506</td>\n",
       "    </tr>\n",
       "  </tbody>\n",
       "</table>\n",
       "</div>"
      ],
      "text/plain": [
       "                mean       std\n",
       "beta0        2.81327   19.3739\n",
       "betax        3.28408   36.5017\n",
       "beta_ybar    3.47453   44.6367\n",
       "beta_xbar    4.47353    39.928\n",
       "beta_xi   -0.0120865  0.108506"
      ]
     },
     "execution_count": 174,
     "metadata": {},
     "output_type": "execute_result"
    }
   ],
   "source": [
    "df_beta = pd.DataFrame([],index=['beta0','betax','beta_ybar','beta_xbar','beta_xi'],columns = ['mean','std'])\n",
    "for i in range(4):\n",
    "    x1 = np.mean([b[i] for b in beta_list])\n",
    "    x2 = np.std([b[i] for b in beta_list])\n",
    "    df_beta.iloc[i] = [x1,x2]\n",
    "df_beta.iloc[4] = [np.mean(beta_xi_list),np.std(beta_xi_list)]\n",
    "df_beta"
   ]
  },
  {
   "cell_type": "code",
   "execution_count": 175,
   "metadata": {},
   "outputs": [],
   "source": [
    "betas = df_beta['mean'].values"
   ]
  },
  {
   "cell_type": "markdown",
   "metadata": {},
   "source": [
    "## Update $\\sigma^2$"
   ]
  },
  {
   "cell_type": "markdown",
   "metadata": {},
   "source": [
    "Gibbs sampling"
   ]
  },
  {
   "cell_type": "code",
   "execution_count": 176,
   "metadata": {},
   "outputs": [],
   "source": [
    "sigma2_list = []\n",
    "for k in range(100):\n",
    "    invchi2 = chi2.ppf(np.random.rand(),df=10)\n",
    "    I = np.identity(N)\n",
    "    A = np.linalg.inv(I-betas[2]*G1)\n",
    "    mu_y = betas[0]*np.ones(N)+betas[1]*X+betas[3]*G1.dot(X)+betas[4]*xi\n",
    "    mu_y = A.dot(mu_y)\n",
    "    var = np.matmul(I-betas[2]*G1,I-betas[2]*G1)\n",
    "    tau2 =  (1/11)*(Y-mu_y).dot(var.dot(Y-mu_y))\n",
    "    sigma2 = invchi2/(11*tau2)\n",
    "    sigma2_list.append(sigma2)"
   ]
  },
  {
   "cell_type": "code",
   "execution_count": 177,
   "metadata": {},
   "outputs": [
    {
     "data": {
      "text/plain": [
       "0.00019423113164665194"
      ]
     },
     "execution_count": 177,
     "metadata": {},
     "output_type": "execute_result"
    }
   ],
   "source": [
    "sigma2 = np.mean(sigma2_list)\n",
    "sigma2"
   ]
  },
  {
   "cell_type": "markdown",
   "metadata": {},
   "source": [
    "## Update $\\alpha$"
   ]
  },
  {
   "cell_type": "markdown",
   "metadata": {},
   "source": [
    "We use the same Metropolis-Hastings algorithm as previously with slight changes to take into account the $\\xi$ variable."
   ]
  },
  {
   "cell_type": "code",
   "execution_count": 178,
   "metadata": {},
   "outputs": [],
   "source": [
    "alphas = np.append(alphas,alpha_xi)"
   ]
  },
  {
   "cell_type": "code",
   "execution_count": 179,
   "metadata": {},
   "outputs": [],
   "source": [
    "def alpha_posterior_endo(a,x,theta):\n",
    "    \"\"\"\n",
    "    parameters\n",
    "    ----------\n",
    "    a: array of alpha parameters\n",
    "    x: D1 \n",
    "    theta: array [np.ones,(|Xi-Xj|),D0,F0,xi]\n",
    "    \"\"\"\n",
    "    N = x.shape[0]\n",
    "    res = np.exp(-0.5*a.dot(a))**(N*(N-1)*0.5)\n",
    "    for i in range(N):\n",
    "        for j in range(i+1,N):\n",
    "            #compute <alpha,theta>\n",
    "            ps = 0\n",
    "            for k in range(5):\n",
    "                ps += a[k]*theta[k][i,j] \n",
    "            res *= np.exp(2*x[i,j]*ps)\n",
    "    return res"
   ]
  },
  {
   "cell_type": "code",
   "execution_count": 180,
   "metadata": {},
   "outputs": [
    {
     "name": "stderr",
     "output_type": "stream",
     "text": [
      "C:\\Users\\benoit\\Anaconda3\\lib\\site-packages\\ipykernel_launcher.py:7: RuntimeWarning: invalid value encountered in double_scalars\n",
      "  import sys\n"
     ]
    }
   ],
   "source": [
    "#Metropolis Hastings with normal kernel \n",
    "theta = [np.ones((N,N)),dist,D0,F0,xi]\n",
    "alpha_list = [alphas]\n",
    "n_iter = 1000\n",
    "for i in range(n_iter): \n",
    "    y = alphas + np.random.randn(5)\n",
    "    ratio = posterior(y,D1,theta)/posterior(alphas,D1,theta)*1 #1 is the kernel ratio term \n",
    "    p_accept = min([1,ratio])\n",
    "    b = binomial(1,p_accept)\n",
    "    alphas = b*y+(1-b)*alphas\n",
    "    alpha_list.append(alphas)"
   ]
  },
  {
   "cell_type": "code",
   "execution_count": 181,
   "metadata": {},
   "outputs": [
    {
     "data": {
      "image/png": "[encoded data removed]",
      "text/plain": [
       "<Figure size 1008x720 with 5 Axes>"
      ]
     },
     "metadata": {
      "needs_background": "light"
     },
     "output_type": "display_data"
    }
   ],
   "source": [
    "fig = plt.figure(figsize=(14,10))\n",
    "titles = ['alpha_0','alpha_x','alpha_d','alpha_f','alpha_xi']\n",
    "for i in range(5):\n",
    "    ax = fig.add_subplot(3,2,i+1)\n",
    "    alpha0 = [a[i] for a in alpha_list]\n",
    "    ax.hist(alpha0)\n",
    "    ax.set_title(titles[i])\n",
    "    ax.axvline(np.mean(alpha0),ls='dotted',c='r',linewidth = 5)\n",
    "plt.show()"
   ]
  },
  {
   "cell_type": "code",
   "execution_count": 182,
   "metadata": {},
   "outputs": [
    {
     "data": {
      "text/html": [
       "<div>\n",
       "<style scoped>\n",
       "    .dataframe tbody tr th:only-of-type {\n",
       "        vertical-align: middle;\n",
       "    }\n",
       "\n",
       "    .dataframe tbody tr th {\n",
       "        vertical-align: top;\n",
       "    }\n",
       "\n",
       "    .dataframe thead th {\n",
       "        text-align: right;\n",
       "    }\n",
       "</style>\n",
       "<table border=\"1\" class=\"dataframe\">\n",
       "  <thead>\n",
       "    <tr style=\"text-align: right;\">\n",
       "      <th></th>\n",
       "      <th>mean</th>\n",
       "      <th>std</th>\n",
       "    </tr>\n",
       "  </thead>\n",
       "  <tbody>\n",
       "    <tr>\n",
       "      <th>a0</th>\n",
       "      <td>-1.54581</td>\n",
       "      <td>8.3872</td>\n",
       "    </tr>\n",
       "    <tr>\n",
       "      <th>ax</th>\n",
       "      <td>10.8273</td>\n",
       "      <td>11.4565</td>\n",
       "    </tr>\n",
       "    <tr>\n",
       "      <th>ad</th>\n",
       "      <td>25.1918</td>\n",
       "      <td>15.4321</td>\n",
       "    </tr>\n",
       "    <tr>\n",
       "      <th>af</th>\n",
       "      <td>-32.4901</td>\n",
       "      <td>22.8391</td>\n",
       "    </tr>\n",
       "    <tr>\n",
       "      <th>a_xi</th>\n",
       "      <td>-27.8558</td>\n",
       "      <td>20.728</td>\n",
       "    </tr>\n",
       "  </tbody>\n",
       "</table>\n",
       "</div>"
      ],
      "text/plain": [
       "         mean      std\n",
       "a0   -1.54581   8.3872\n",
       "ax    10.8273  11.4565\n",
       "ad    25.1918  15.4321\n",
       "af   -32.4901  22.8391\n",
       "a_xi -27.8558   20.728"
      ]
     },
     "execution_count": 182,
     "metadata": {},
     "output_type": "execute_result"
    }
   ],
   "source": [
    "df = pd.DataFrame([],index=['a0','ax','ad','af','a_xi'],columns = ['mean','std'])\n",
    "for i in range(5):\n",
    "    alpha0 = [a[i] for a in alpha_list]\n",
    "    df.iloc[i,:] = [np.mean(alpha0),np.std(alpha0)]\n",
    "df"
   ]
  },
  {
   "cell_type": "code",
   "execution_count": 183,
   "metadata": {},
   "outputs": [],
   "source": [
    "alphas = df['mean'].values"
   ]
  },
  {
   "cell_type": "markdown",
   "metadata": {},
   "source": [
    "## Update $\\xi$"
   ]
  },
  {
   "cell_type": "code",
   "execution_count": 184,
   "metadata": {},
   "outputs": [
    {
     "name": "stderr",
     "output_type": "stream",
     "text": [
      "C:\\Users\\benoit\\Anaconda3\\lib\\site-packages\\ipykernel_launcher.py:14: RuntimeWarning: overflow encountered in exp\n",
      "  \n"
     ]
    }
   ],
   "source": [
    "n_iter = 100\n",
    "for n in range(n_iter):\n",
    "    probas = []\n",
    "    for i in range(N):\n",
    "        #compute binomial parameter\n",
    "        p0 = 0\n",
    "        p1 = 0\n",
    "        for j in range(N):\n",
    "            for k in range(4):\n",
    "                p0 += 2*D1[i,j]*alphas[k]*theta[k][i,j]\n",
    "            p1 += p0\n",
    "        p0 += 2*alphas[4]*np.sum(D1[i,:].dot(xi))\n",
    "        p1 += 2*alphas[4]*(N-np.sum(D1[i,:].dot(xi)))\n",
    "        proba = 1/(1+np.exp(p1-p0))\n",
    "        probas.append(proba)\n",
    "        xi[i] = binomial(1,proba)"
   ]
  },
  {
   "cell_type": "code",
   "execution_count": 185,
   "metadata": {},
   "outputs": [
    {
     "data": {
      "text/plain": [
       "array([1, 1, 1, 0, 1, 1, 1, 1, 1, 0, 1, 1, 1, 1, 1, 1, 1, 1, 1, 1, 1, 1,\n",
       "       0, 1, 1, 1, 1, 1, 1, 1, 1, 1, 1, 1, 1, 1, 1, 1, 1, 1, 1, 1, 1, 1,\n",
       "       1, 1, 1, 1, 1, 1, 1, 1, 1, 0, 1, 1, 1, 1, 1, 1, 1, 1, 1, 1, 1, 1,\n",
       "       1, 1, 1, 1, 1, 1, 1, 1, 1, 1, 1, 1, 1, 1, 1, 1, 1, 1, 1, 1, 1, 0,\n",
       "       1, 1, 0, 1, 1, 1, 1, 1, 1, 1, 1, 1])"
      ]
     },
     "execution_count": 185,
     "metadata": {},
     "output_type": "execute_result"
    }
   ],
   "source": [
    "xi"
   ]
  },
  {
   "cell_type": "markdown",
   "metadata": {},
   "source": [
    "Nos valeurs n'ont pas forcément de sens: tout a été sélectionné au hasard"
   ]
  },
  {
   "cell_type": "markdown",
   "metadata": {},
   "source": [
    "# 4. Heterogeneity in peer effects"
   ]
  },
  {
   "cell_type": "markdown",
   "metadata": {},
   "source": [
    "On utilise une matrice de réseau à l'étpae 1 qui n'est plus symétrique (i ami de j n'implique pas j ami de i)  "
   ]
  },
  {
   "cell_type": "code",
   "execution_count": 186,
   "metadata": {},
   "outputs": [],
   "source": [
    "D1 = np.random.randint(2,size=(N,N))\n",
    "D0 = np.random.randint(2,size=(N,N))"
   ]
  },
  {
   "cell_type": "markdown",
   "metadata": {},
   "source": [
    "Same as 1. with different networks and extended models"
   ]
  },
  {
   "cell_type": "code",
   "execution_count": 187,
   "metadata": {},
   "outputs": [],
   "source": [
    "def heterogeneity(name):\n",
    "    \"\"\"\n",
    "    réalise les estimations de la partie MLIM avec d'autres réseaux \n",
    "    parameters\n",
    "    ----------\n",
    "    name : définition du réseau utilisée\n",
    "    \n",
    "    returns\n",
    "    -------\n",
    "    df : pd.DataFrame contenant les means et vars pour beta et sigma2\n",
    "    \"\"\"\n",
    "    \n",
    "    if name=='lagged':\n",
    "        DB = D0 * (1 - D1)\n",
    "    elif name =='mutual':\n",
    "        DB = np.asarray([[D1[i,j]==D1[j,i] for j in range(N)] for i in range(N)])\n",
    "    elif name=='fof': #friends of friends\n",
    "        DM = np.asarray([[D1[i,j]==D1[j,i] for j in range(N)] for i in range(N)])\n",
    "        FM = (np.dot(DM,DM)>0).astype(np.int)\n",
    "        DB = (1 - D1) * FM\n",
    "    else: \n",
    "        raise ValueError(name + ' is not a correct network specification')\n",
    "    #priors \n",
    "    #on a 6 coefficients beta sur lesquels travailler \n",
    "    mu0 = np.zeros(6) #mean of the conditional normal distribution \n",
    "    Q0 = np.diag(np.ones(6)) #var of the conditional normal distribution\n",
    "    a0 = 1 #coef of the inverse gamma\n",
    "    b0 = 1 #scaling coefficient of the inverse gamma\n",
    "\n",
    "    #construction du réseau B\n",
    "    MB = np.sum(DB,axis=1)\n",
    "    GB = np.linalg.solve(np.diag(MB),DB)\n",
    "    #construction des variables explicatives et variables cibles\n",
    "    Y = gpa_1\n",
    "    X = gpa_0\n",
    "    YbarA = G1.dot(Y)\n",
    "    XbarA = G1.dot(X)\n",
    "    YbarB = GB.dot(Y)\n",
    "    XbarB = GB.dot(X)\n",
    "    features = np.column_stack((np.ones(len(Y)),X,YbarA,XbarA,YbarB,XbarB))\n",
    "\n",
    "    #updating parameters: computing the posterior distribution parameters\n",
    "    Qn = features.T.dot(features) + Q0\n",
    "    mun = np.linalg.solve(Qn,Q0.dot(mu0)+features.T.dot(Y))\n",
    "    an = a0+len(Y)/2\n",
    "    bn = b0 + 0.5*(Y.dot(Y)+mu0.T.dot(Q0.dot(mu0))-mun.T.dot(Qn.dot(mun)))\n",
    "    \n",
    "    \n",
    "    df = pd.DataFrame([],index=['beta0','betax','beta_ybarA','beta_xbarA','beta_ybarB','beta_xbarB','sigma2'],columns = ['mean','std'])\n",
    "    for i in range(6):\n",
    "        x1 = mun[i]\n",
    "        x2 = np.sqrt(Qn[i,i])\n",
    "        df.iloc[i] = [x1,x2]\n",
    "    \n",
    "    df.iloc[6] = [bn/(an-1),np.sqrt(bn**2/((an-1)**2*(an-2)))]\n",
    "    print(df)\n",
    "    \n",
    "    return df  "
   ]
  },
  {
   "cell_type": "code",
   "execution_count": 188,
   "metadata": {},
   "outputs": [
    {
     "name": "stdout",
     "output_type": "stream",
     "text": [
      "                 mean       std\n",
      "beta0        0.649565   10.0499\n",
      "betax      -0.0309515   23.7066\n",
      "beta_ybarA  -0.508023   18.8977\n",
      "beta_xbarA   0.373259   20.6471\n",
      "beta_ybarB   0.303615   19.0755\n",
      "beta_xbarB   0.437024   20.8309\n",
      "sigma2        1.20898  0.172711\n"
     ]
    }
   ],
   "source": [
    "df_lagged = heterogeneity('lagged')"
   ]
  },
  {
   "cell_type": "code",
   "execution_count": 189,
   "metadata": {},
   "outputs": [
    {
     "name": "stdout",
     "output_type": "stream",
     "text": [
      "                 mean       std\n",
      "beta0        0.537244   10.0499\n",
      "betax       -0.047651   23.7066\n",
      "beta_ybarA  -0.663414   18.8977\n",
      "beta_xbarA   0.288513   20.6471\n",
      "beta_ybarB  0.0862561   18.8437\n",
      "beta_xbarB   0.942752   20.5694\n",
      "sigma2        1.19902  0.171288\n"
     ]
    }
   ],
   "source": [
    "df_mutual = heterogeneity('mutual')"
   ]
  },
  {
   "cell_type": "code",
   "execution_count": 190,
   "metadata": {},
   "outputs": [
    {
     "name": "stdout",
     "output_type": "stream",
     "text": [
      "                 mean       std\n",
      "beta0        0.473895   10.0499\n",
      "betax      -0.0271527   23.7066\n",
      "beta_ybarA  -0.732753   18.8977\n",
      "beta_xbarA   0.238649   20.6471\n",
      "beta_ybarB   0.133906   18.6955\n",
      "beta_xbarB    1.01594   20.7306\n",
      "sigma2        1.19487  0.170696\n"
     ]
    }
   ],
   "source": [
    "df_fof = heterogeneity('fof')"
   ]
  },
  {
   "cell_type": "markdown",
   "metadata": {},
   "source": [
    "# 5. Auto-regressive and moving average"
   ]
  },
  {
   "cell_type": "markdown",
   "metadata": {},
   "source": [
    "## Auto-regressive models"
   ]
  },
  {
   "cell_type": "code",
   "execution_count": 191,
   "metadata": {},
   "outputs": [],
   "source": [
    "#priors \n",
    "#on a 4 coefficients gamma sur lesquels travailler \n",
    "mu0 = np.zeros(4) #mean of the conditional normal distribution \n",
    "Q0 = np.diag(np.ones(4)) #var of the conditional normal distribution\n",
    "\n",
    "#construction des variables explicatives et variables cibles\n",
    "Y = gpa_1\n",
    "X = gpa_0\n",
    "GX = G1.dot(X)\n",
    "GGX = G1.dot(GX)\n",
    "features = np.column_stack((np.ones(len(Y)),X,GX,GGX))\n",
    "\n",
    "#updating parameters: computing the posterior distribution parameters\n",
    "Qn = features.T.dot(features) + Q0\n",
    "mun = np.linalg.solve(Qn,Q0.dot(mu0)+features.T.dot(Y))"
   ]
  },
  {
   "cell_type": "code",
   "execution_count": 192,
   "metadata": {},
   "outputs": [
    {
     "data": {
      "text/html": [
       "<div>\n",
       "<style scoped>\n",
       "    .dataframe tbody tr th:only-of-type {\n",
       "        vertical-align: middle;\n",
       "    }\n",
       "\n",
       "    .dataframe tbody tr th {\n",
       "        vertical-align: top;\n",
       "    }\n",
       "\n",
       "    .dataframe thead th {\n",
       "        text-align: right;\n",
       "    }\n",
       "</style>\n",
       "<table border=\"1\" class=\"dataframe\">\n",
       "  <thead>\n",
       "    <tr style=\"text-align: right;\">\n",
       "      <th></th>\n",
       "      <th>mean</th>\n",
       "      <th>std</th>\n",
       "    </tr>\n",
       "  </thead>\n",
       "  <tbody>\n",
       "    <tr>\n",
       "      <th>gamma0</th>\n",
       "      <td>0.369063</td>\n",
       "      <td>10.0499</td>\n",
       "    </tr>\n",
       "    <tr>\n",
       "      <th>gammaX</th>\n",
       "      <td>-0.0248433</td>\n",
       "      <td>23.7066</td>\n",
       "    </tr>\n",
       "    <tr>\n",
       "      <th>gamma1</th>\n",
       "      <td>0.176502</td>\n",
       "      <td>20.6471</td>\n",
       "    </tr>\n",
       "    <tr>\n",
       "      <th>gamma2</th>\n",
       "      <td>0.582405</td>\n",
       "      <td>20.6093</td>\n",
       "    </tr>\n",
       "  </tbody>\n",
       "</table>\n",
       "</div>"
      ],
      "text/plain": [
       "             mean      std\n",
       "gamma0   0.369063  10.0499\n",
       "gammaX -0.0248433  23.7066\n",
       "gamma1   0.176502  20.6471\n",
       "gamma2   0.582405  20.6093"
      ]
     },
     "execution_count": 192,
     "metadata": {},
     "output_type": "execute_result"
    }
   ],
   "source": [
    "df = pd.DataFrame([],index=['gamma0','gammaX','gamma1','gamma2'],columns = ['mean','std'])\n",
    "for i in range(4):\n",
    "    x1 = mun[i]\n",
    "    x2 = np.sqrt(Qn[i,i])\n",
    "    df.iloc[i] = [x1,x2]\n",
    "df"
   ]
  },
  {
   "cell_type": "code",
   "execution_count": 193,
   "metadata": {},
   "outputs": [],
   "source": [
    "bx = df['mean']['gammaX']\n",
    "bybar = df['mean']['gamma2']/df['mean']['gamma1']\n",
    "bxbar = df['mean']['gamma1'] - bx * bybar\n",
    "b0 = (I - bybar*G1).dot(df['mean']['gamma0']*np.ones(N))[0]"
   ]
  },
  {
   "cell_type": "code",
   "execution_count": 194,
   "metadata": {},
   "outputs": [
    {
     "data": {
      "text/html": [
       "<div>\n",
       "<style scoped>\n",
       "    .dataframe tbody tr th:only-of-type {\n",
       "        vertical-align: middle;\n",
       "    }\n",
       "\n",
       "    .dataframe tbody tr th {\n",
       "        vertical-align: top;\n",
       "    }\n",
       "\n",
       "    .dataframe thead th {\n",
       "        text-align: right;\n",
       "    }\n",
       "</style>\n",
       "<table border=\"1\" class=\"dataframe\">\n",
       "  <thead>\n",
       "    <tr style=\"text-align: right;\">\n",
       "      <th></th>\n",
       "      <th>mean</th>\n",
       "    </tr>\n",
       "  </thead>\n",
       "  <tbody>\n",
       "    <tr>\n",
       "      <th>beta0</th>\n",
       "      <td>-0.848738</td>\n",
       "    </tr>\n",
       "    <tr>\n",
       "      <th>betaX</th>\n",
       "      <td>-0.0248433</td>\n",
       "    </tr>\n",
       "    <tr>\n",
       "      <th>beta_xbar</th>\n",
       "      <td>0.258478</td>\n",
       "    </tr>\n",
       "    <tr>\n",
       "      <th>beta_FIC</th>\n",
       "      <td>3.29971</td>\n",
       "    </tr>\n",
       "  </tbody>\n",
       "</table>\n",
       "</div>"
      ],
      "text/plain": [
       "                mean\n",
       "beta0      -0.848738\n",
       "betaX     -0.0248433\n",
       "beta_xbar   0.258478\n",
       "beta_FIC     3.29971"
      ]
     },
     "execution_count": 194,
     "metadata": {},
     "output_type": "execute_result"
    }
   ],
   "source": [
    "df = pd.DataFrame([],index=['beta0','betaX','beta_xbar','beta_FIC'],columns = ['mean'])\n",
    "df['mean']['beta0'] = b0\n",
    "df['mean']['betaX'] = bx\n",
    "df['mean']['beta_xbar'] = bxbar\n",
    "df['mean']['beta_FIC'] = bybar\n",
    "\n",
    "df"
   ]
  },
  {
   "cell_type": "markdown",
   "metadata": {},
   "source": [
    "## Mobile average"
   ]
  },
  {
   "cell_type": "code",
   "execution_count": null,
   "metadata": {},
   "outputs": [],
   "source": []
  },
  {
   "cell_type": "markdown",
   "metadata": {},
   "source": [
    "# Application à une autre base"
   ]
  },
  {
   "cell_type": "markdown",
   "metadata": {},
   "source": [
    "Note entre 0 et 5 attribuée"
   ]
  },
  {
   "cell_type": "code",
   "execution_count": 100,
   "metadata": {},
   "outputs": [],
   "source": [
    "n_clusters = 5\n",
    "pop = 100\n",
    "N = 100\n",
    "cluster_attribution = np.random.randint(n_clusters,size=pop)\n",
    "means1 = (4 - (1))*np.random.random_sample(n_clusters) + (1)\n",
    "means2 = means1 + 0.05*np.random.randn(n_clusters)"
   ]
  },
  {
   "cell_type": "code",
   "execution_count": 101,
   "metadata": {},
   "outputs": [],
   "source": [
    "prox = np.random.rand(N,N)\n",
    "prox = np.tril(prox) + np.tril(prox, -1).T\n",
    "prox*=0.05"
   ]
  },
  {
   "cell_type": "code",
   "execution_count": 102,
   "metadata": {},
   "outputs": [],
   "source": [
    "norm = np.random.randn(pop,2)\n",
    "X,Y = norm[:,0],norm[:,1]\n",
    "for k in range(pop):\n",
    "    i = cluster_attribution[k]\n",
    "    Y[k] = means2[i]+ 0.4*Y[k]\n",
    "    X[k] = means1[i]+ 0.3*X[k]"
   ]
  },
  {
   "cell_type": "code",
   "execution_count": 103,
   "metadata": {},
   "outputs": [
    {
     "data": {
      "text/plain": [
       "<matplotlib.collections.PathCollection at 0x16be1f52f28>"
      ]
     },
     "execution_count": 103,
     "metadata": {},
     "output_type": "execute_result"
    },
    {
     "data": {
      "image/png": "[encoded data removed]",
      "text/plain": [
       "<Figure size 432x288 with 1 Axes>"
      ]
     },
     "metadata": {
      "needs_background": "light"
     },
     "output_type": "display_data"
    }
   ],
   "source": [
    "plt.scatter(X,Y)"
   ]
  },
  {
   "cell_type": "code",
   "execution_count": 110,
   "metadata": {},
   "outputs": [],
   "source": [
    "N = pop\n",
    "D0 = np.zeros((N,N))\n",
    "D1 = np.zeros((N,N))\n",
    "for i in range(N):\n",
    "    for j in range(i,N):\n",
    "        if cluster_attribution[i]==cluster_attribution[j]:\n",
    "            proba = 0.2\n",
    "        else: \n",
    "            proba = prox[cluster_attribution[i],cluster_attribution[j]]\n",
    "        f0 = binomial(1,proba)\n",
    "        f1 = binomial(1,proba)\n",
    "        D0[i,j] = f0\n",
    "        D0[j,i] = f0\n",
    "        D1[i,j] = f1\n",
    "        D1[j,i] = f1"
   ]
  },
  {
   "cell_type": "code",
   "execution_count": 111,
   "metadata": {},
   "outputs": [
    {
     "data": {
      "image/png": "[encoded data removed]",
      "text/plain": [
       "<Figure size 432x288 with 2 Axes>"
      ]
     },
     "metadata": {
      "needs_background": "light"
     },
     "output_type": "display_data"
    }
   ],
   "source": [
    "fig,(ax1,ax2) = plt.subplots(1,2)\n",
    "ax1.imshow(D0,cmap='gray')\n",
    "ax1.set_title('période 0')\n",
    "ax2.imshow(D1,cmap='gray')\n",
    "ax2.set_title('période 1')\n",
    "fig.suptitle(\"Visualisation des liens d'amitié\",fontsize=18)\n",
    "plt.tight_layout()\n",
    "plt.show()"
   ]
  },
  {
   "cell_type": "markdown",
   "metadata": {},
   "source": [
    "Application du code à la nouvelle base"
   ]
  },
  {
   "cell_type": "code",
   "execution_count": 112,
   "metadata": {},
   "outputs": [],
   "source": [
    "M0 = np.sum(D0,axis=1)\n",
    "G0 = np.linalg.solve(np.diag(M0),D0)\n",
    "M1 = np.sum(D1,axis=1)\n",
    "G1 = np.linalg.solve(np.diag(M1),D1)\n",
    "F0 = (np.dot(D0,D0)>0).astype(np.int)\n",
    "F1 = (np.dot(D1,D1)>0).astype(np.int)"
   ]
  },
  {
   "cell_type": "code",
   "execution_count": 113,
   "metadata": {},
   "outputs": [
    {
     "data": {
      "text/plain": [
       "<matplotlib.image.AxesImage at 0x16be0e9f9b0>"
      ]
     },
     "execution_count": 113,
     "metadata": {},
     "output_type": "execute_result"
    },
    {
     "data": {
      "image/png": "[encoded data removed]",
      "text/plain": [
       "<Figure size 432x288 with 1 Axes>"
      ]
     },
     "metadata": {
      "needs_background": "light"
     },
     "output_type": "display_data"
    }
   ],
   "source": [
    "plt.imshow(F0)"
   ]
  },
  {
   "cell_type": "markdown",
   "metadata": {},
   "source": [
    "## Statistiques descriptives"
   ]
  },
  {
   "cell_type": "code",
   "execution_count": 114,
   "metadata": {},
   "outputs": [
    {
     "data": {
      "text/html": [
       "<div>\n",
       "<style scoped>\n",
       "    .dataframe tbody tr th:only-of-type {\n",
       "        vertical-align: middle;\n",
       "    }\n",
       "\n",
       "    .dataframe tbody tr th {\n",
       "        vertical-align: top;\n",
       "    }\n",
       "\n",
       "    .dataframe thead th {\n",
       "        text-align: right;\n",
       "    }\n",
       "</style>\n",
       "<table border=\"1\" class=\"dataframe\">\n",
       "  <thead>\n",
       "    <tr style=\"text-align: right;\">\n",
       "      <th></th>\n",
       "      <th>mean</th>\n",
       "      <th>std</th>\n",
       "      <th>min</th>\n",
       "      <th>max</th>\n",
       "    </tr>\n",
       "  </thead>\n",
       "  <tbody>\n",
       "    <tr>\n",
       "      <th>Y</th>\n",
       "      <td>2.61605</td>\n",
       "      <td>0.790604</td>\n",
       "      <td>1.05318</td>\n",
       "      <td>4.14599</td>\n",
       "    </tr>\n",
       "    <tr>\n",
       "      <th>X</th>\n",
       "      <td>2.64943</td>\n",
       "      <td>0.783067</td>\n",
       "      <td>0.987126</td>\n",
       "      <td>3.94929</td>\n",
       "    </tr>\n",
       "    <tr>\n",
       "      <th>nombre d'amis 1</th>\n",
       "      <td>6.49</td>\n",
       "      <td>2.60958</td>\n",
       "      <td>1</td>\n",
       "      <td>15</td>\n",
       "    </tr>\n",
       "    <tr>\n",
       "      <th>nombre d'amis 2</th>\n",
       "      <td>7</td>\n",
       "      <td>2.72029</td>\n",
       "      <td>2</td>\n",
       "      <td>14</td>\n",
       "    </tr>\n",
       "  </tbody>\n",
       "</table>\n",
       "</div>"
      ],
      "text/plain": [
       "                    mean       std       min      max\n",
       "Y                2.61605  0.790604   1.05318  4.14599\n",
       "X                2.64943  0.783067  0.987126  3.94929\n",
       "nombre d'amis 1     6.49   2.60958         1       15\n",
       "nombre d'amis 2        7   2.72029         2       14"
      ]
     },
     "execution_count": 114,
     "metadata": {},
     "output_type": "execute_result"
    }
   ],
   "source": [
    "df = pd.DataFrame([],index=['Y','X',\"nombre d'amis 1\",\"nombre d'amis 2\"],columns = ['mean','std','min','max'])\n",
    "df.loc['Y'] = [np.mean(Y),np.std(Y),np.min(Y),np.max(Y)]\n",
    "df.loc['X'] = [np.mean(X),np.std(X),np.min(X),np.max(X)]\n",
    "nbamis1 = np.sum(D0,axis=1)\n",
    "nbamis2 = np.sum(D1,axis=1)\n",
    "df.loc[\"nombre d'amis 1\"] = [np.mean(nbamis1),np.std(nbamis1),np.min(nbamis1),np.max(nbamis1)]\n",
    "df.loc[\"nombre d'amis 2\"] = [np.mean(nbamis2),np.std(nbamis2),np.min(nbamis2),np.max(nbamis2)]\n",
    "df"
   ]
  },
  {
   "cell_type": "markdown",
   "metadata": {},
   "source": [
    "## Modèle LIM"
   ]
  },
  {
   "cell_type": "code",
   "execution_count": 115,
   "metadata": {},
   "outputs": [],
   "source": [
    "#a priori\n",
    "#on a 4 coefficients beta sur lesquels travailler \n",
    "mu0 = np.zeros(4) #moyenne de la gaussienne conditionnelle\n",
    "Q0 = np.diag(np.ones(4)) #variance de la gaussienne conditionnelle\n",
    "a0 = 1 #coefficient de l'inverse gamma\n",
    "b0 = 1 #coefficient d'échelle de l'inverse gamma"
   ]
  },
  {
   "cell_type": "code",
   "execution_count": 116,
   "metadata": {},
   "outputs": [],
   "source": [
    "#construction des variables explicatives et variables cibles\n",
    "Ybar = G1.dot(Y)\n",
    "Xbar = G1.dot(X)\n",
    "features = np.column_stack((np.ones(len(Y)),Ybar,X,Xbar))"
   ]
  },
  {
   "cell_type": "code",
   "execution_count": 117,
   "metadata": {},
   "outputs": [],
   "source": [
    "#mise à jour des paramètres: calcul des distributions a posteriori\n",
    "Qn = features.T.dot(features) + Q0\n",
    "mun = np.linalg.solve(Qn,Q0.dot(mu0)+features.T.dot(Y))\n",
    "invQn = np.linalg.solve(Qn,np.identity(4))\n",
    "an = a0+len(Y)/2\n",
    "bn = b0 + 0.5*(Y.dot(Y)+mu0.T.dot(Q0.dot(mu0))-mun.T.dot(Qn.dot(mun)))"
   ]
  },
  {
   "cell_type": "code",
   "execution_count": 118,
   "metadata": {},
   "outputs": [
    {
     "data": {
      "text/html": [
       "<div>\n",
       "<style scoped>\n",
       "    .dataframe tbody tr th:only-of-type {\n",
       "        vertical-align: middle;\n",
       "    }\n",
       "\n",
       "    .dataframe tbody tr th {\n",
       "        vertical-align: top;\n",
       "    }\n",
       "\n",
       "    .dataframe thead th {\n",
       "        text-align: right;\n",
       "    }\n",
       "</style>\n",
       "<table border=\"1\" class=\"dataframe\">\n",
       "  <thead>\n",
       "    <tr style=\"text-align: right;\">\n",
       "      <th></th>\n",
       "      <th>mean</th>\n",
       "      <th>std</th>\n",
       "    </tr>\n",
       "  </thead>\n",
       "  <tbody>\n",
       "    <tr>\n",
       "      <th>beta0</th>\n",
       "      <td>-0.139118</td>\n",
       "      <td>0.484909</td>\n",
       "    </tr>\n",
       "    <tr>\n",
       "      <th>beta_ybar</th>\n",
       "      <td>0.129077</td>\n",
       "      <td>0.483431</td>\n",
       "    </tr>\n",
       "    <tr>\n",
       "      <th>beta_x</th>\n",
       "      <td>0.568951</td>\n",
       "      <td>0.222331</td>\n",
       "    </tr>\n",
       "    <tr>\n",
       "      <th>beta_xbar</th>\n",
       "      <td>0.338794</td>\n",
       "      <td>0.483243</td>\n",
       "    </tr>\n",
       "  </tbody>\n",
       "</table>\n",
       "</div>"
      ],
      "text/plain": [
       "               mean       std\n",
       "beta0     -0.139118  0.484909\n",
       "beta_ybar  0.129077  0.483431\n",
       "beta_x     0.568951  0.222331\n",
       "beta_xbar  0.338794  0.483243"
      ]
     },
     "execution_count": 118,
     "metadata": {},
     "output_type": "execute_result"
    }
   ],
   "source": [
    "#moyennes des lois normales a posteriori\n",
    "df = pd.DataFrame([],index=['beta0','beta_ybar','beta_x','beta_xbar'],columns = ['mean','std'])\n",
    "stds = [np.sqrt(invQn[i,i]) for i in range(len(Qn))]\n",
    "df['mean'] = mun\n",
    "df['std'] = stds\n",
    "df"
   ]
  },
  {
   "cell_type": "code",
   "execution_count": 119,
   "metadata": {},
   "outputs": [
    {
     "data": {
      "text/plain": [
       "array([[101.        , 263.91367165, 264.94264359, 268.16019922],\n",
       "       [263.91367165, 723.97944612, 732.60843384, 732.76045872],\n",
       "       [264.94264359, 732.60843384, 764.26538554, 743.89539159],\n",
       "       [268.16019922, 732.76045872, 743.89539159, 746.53086674]])"
      ]
     },
     "execution_count": 119,
     "metadata": {},
     "output_type": "execute_result"
    }
   ],
   "source": [
    "#matrice de variance covariance\n",
    "Qn"
   ]
  },
  {
   "cell_type": "code",
   "execution_count": 120,
   "metadata": {},
   "outputs": [
    {
     "name": "stdout",
     "output_type": "stream",
     "text": [
      "Moyenne de sigma2: 0.20\n",
      "Variance de sigma2: 0.00\n"
     ]
    }
   ],
   "source": [
    "print(f\"Moyenne de sigma2: {bn/(an-1):.2f}\")\n",
    "print(f\"Variance de sigma2: {bn**2/((an-1)**2*(an-2)):.2f}\")"
   ]
  },
  {
   "cell_type": "markdown",
   "metadata": {},
   "source": [
    "Pour les commentaires sur les valeurs, voir le rapport joint."
   ]
  },
  {
   "cell_type": "markdown",
   "metadata": {},
   "source": [
    "## Modèle exogène"
   ]
  },
  {
   "cell_type": "code",
   "execution_count": 121,
   "metadata": {},
   "outputs": [],
   "source": [
    "#a priori \n",
    "alpha0 = np.random.randn(1)\n",
    "alphax = np.random.randn(1)\n",
    "alphad = np.random.randn(1)\n",
    "alphaf = np.random.randn(1)\n",
    "alpha = np.random.randn(4)"
   ]
  },
  {
   "cell_type": "code",
   "execution_count": 122,
   "metadata": {},
   "outputs": [],
   "source": [
    "#feature engineering \n",
    "#we must create |Xi-Xj| for each (i,j) couple \n",
    "dist = np.zeros((N,N))\n",
    "for i in range(N):\n",
    "    for j in range(i,N):\n",
    "        value = np.abs(X[i]-X[j])\n",
    "        dist[i][j] = value\n",
    "        dist[j][i] = value"
   ]
  },
  {
   "cell_type": "code",
   "execution_count": 123,
   "metadata": {},
   "outputs": [],
   "source": [
    "#matrix of utilities\n",
    "U = np.exp(alpha[0]*np.ones((N,N))+alpha[1]*dist+alpha[2]*D0+alpha[3]*F0)"
   ]
  },
  {
   "cell_type": "code",
   "execution_count": 124,
   "metadata": {},
   "outputs": [],
   "source": [
    "#We create a new D1 matrix based on the probability formula\n",
    "D1_new = np.zeros((N,N))\n",
    "for i in range(N):\n",
    "    for j in range(N):\n",
    "        p = (U[i,j])/(1 + U[i,j])\n",
    "        D1_new[i,j] = np.random.binomial(1,p**2)"
   ]
  },
  {
   "cell_type": "code",
   "execution_count": 125,
   "metadata": {},
   "outputs": [],
   "source": [
    "def posterior(a,x,theta):\n",
    "    \"\"\"\n",
    "    parameters\n",
    "    ----------\n",
    "    a: array of alpha parameters\n",
    "    x: D1 \n",
    "    theta: array [np.ones,(|Xi-Xj|),D0,F0]\n",
    "    \"\"\"\n",
    "    N = x.shape[0]\n",
    "    res = np.exp(-0.5*a.dot(a))**(N*(N-1)*0.5)\n",
    "    for i in range(N):\n",
    "        for j in range(i+1,N):\n",
    "            #compute <alpha,theta>\n",
    "            ps = 0\n",
    "            for k in range(4):\n",
    "                ps += a[k]*theta[k][i,j] \n",
    "            res *= np.exp(2*x[i,j]*ps)\n",
    "    return res"
   ]
  },
  {
   "cell_type": "code",
   "execution_count": 126,
   "metadata": {},
   "outputs": [
    {
     "name": "stderr",
     "output_type": "stream",
     "text": [
      "C:\\Users\\benoit\\Anaconda3\\lib\\site-packages\\ipykernel_launcher.py:7: RuntimeWarning: invalid value encountered in double_scalars\n",
      "  import sys\n"
     ]
    }
   ],
   "source": [
    "#Metropolis Hastings with normal kernel \n",
    "theta = [np.ones((N,N)),dist,D0,F0]\n",
    "alpha_list = [alpha]\n",
    "n_iter = 1000\n",
    "for i in range(n_iter): \n",
    "    y = alpha + np.random.randn(4)\n",
    "    ratio = posterior(y,D1,theta)/posterior(alpha,D1,theta)*1 #1 is the kernel ratio term \n",
    "    p_accept = min([1,ratio])\n",
    "    b = binomial(1,p_accept)\n",
    "    alpha = b*y+(1-b)*alpha\n",
    "    alpha_list.append(alpha)"
   ]
  },
  {
   "cell_type": "code",
   "execution_count": 127,
   "metadata": {},
   "outputs": [
    {
     "data": {
      "image/png": "[encoded data removed]",
      "text/plain": [
       "<Figure size 1008x720 with 4 Axes>"
      ]
     },
     "metadata": {
      "needs_background": "light"
     },
     "output_type": "display_data"
    }
   ],
   "source": [
    "fig = plt.figure(figsize=(14,10))\n",
    "titles = ['alpha_0','alpha_x','alpha_d','alpha_f']\n",
    "for i in range(4):\n",
    "    ax = fig.add_subplot(2,2,i+1)\n",
    "    alpha0 = [a[i] for a in alpha_list]\n",
    "    ax.hist(alpha0)\n",
    "    ax.set_title(titles[i])\n",
    "    ax.axvline(np.mean(alpha0),ls='dotted',c='r',linewidth = 5)\n",
    "plt.show()"
   ]
  },
  {
   "cell_type": "code",
   "execution_count": 128,
   "metadata": {},
   "outputs": [
    {
     "data": {
      "text/html": [
       "<div>\n",
       "<style scoped>\n",
       "    .dataframe tbody tr th:only-of-type {\n",
       "        vertical-align: middle;\n",
       "    }\n",
       "\n",
       "    .dataframe tbody tr th {\n",
       "        vertical-align: top;\n",
       "    }\n",
       "\n",
       "    .dataframe thead th {\n",
       "        text-align: right;\n",
       "    }\n",
       "</style>\n",
       "<table border=\"1\" class=\"dataframe\">\n",
       "  <thead>\n",
       "    <tr style=\"text-align: right;\">\n",
       "      <th></th>\n",
       "      <th>mean</th>\n",
       "      <th>std</th>\n",
       "    </tr>\n",
       "  </thead>\n",
       "  <tbody>\n",
       "    <tr>\n",
       "      <th>a0</th>\n",
       "      <td>-2.9479</td>\n",
       "      <td>9.47249</td>\n",
       "    </tr>\n",
       "    <tr>\n",
       "      <th>ax</th>\n",
       "      <td>-6.57843</td>\n",
       "      <td>7.55597</td>\n",
       "    </tr>\n",
       "    <tr>\n",
       "      <th>ad</th>\n",
       "      <td>1.75097</td>\n",
       "      <td>11.374</td>\n",
       "    </tr>\n",
       "    <tr>\n",
       "      <th>af</th>\n",
       "      <td>7.06914</td>\n",
       "      <td>15.4946</td>\n",
       "    </tr>\n",
       "  </tbody>\n",
       "</table>\n",
       "</div>"
      ],
      "text/plain": [
       "       mean      std\n",
       "a0  -2.9479  9.47249\n",
       "ax -6.57843  7.55597\n",
       "ad  1.75097   11.374\n",
       "af  7.06914  15.4946"
      ]
     },
     "execution_count": 128,
     "metadata": {},
     "output_type": "execute_result"
    }
   ],
   "source": [
    "df = pd.DataFrame([],index=['a0','ax','ad','af'],columns = ['mean','std'])\n",
    "for i in range(4):\n",
    "    alpha0 = [a[i] for a in alpha_list]\n",
    "    df.iloc[i,:] = [np.mean(alpha0),np.std(alpha0)]\n",
    "df"
   ]
  },
  {
   "cell_type": "code",
   "execution_count": 129,
   "metadata": {},
   "outputs": [],
   "source": [
    "alphas = df['mean'].values"
   ]
  },
  {
   "cell_type": "markdown",
   "metadata": {},
   "source": [
    "## Modèle endogène"
   ]
  },
  {
   "cell_type": "code",
   "execution_count": 130,
   "metadata": {},
   "outputs": [],
   "source": [
    "betas = mun #results from 1st part\n",
    "beta_cov_mat = Qn #from the first part\n",
    "#alphas = [np.mean(a) for a in alpha_list] #results from 2nd part\n",
    "#alphas = np.zeros(4)\n",
    "beta_xi = 0.1*np.random.randn(1) #normal with variance 0.01\n",
    "alpha_xi = -1 + 0.1*np.random.randn(1) #N(-1,0.01)\n",
    "xi = binomial(1,0.5,size=N)\n",
    "xi[0] = 1\n",
    "sigma2 = 2 #à corriger avec les résultats d'avant "
   ]
  },
  {
   "cell_type": "markdown",
   "metadata": {},
   "source": [
    "## update of $\\xi_i$"
   ]
  },
  {
   "cell_type": "code",
   "execution_count": 131,
   "metadata": {},
   "outputs": [
    {
     "name": "stderr",
     "output_type": "stream",
     "text": [
      "C:\\Users\\benoit\\Anaconda3\\lib\\site-packages\\ipykernel_launcher.py:16: RuntimeWarning: overflow encountered in exp\n",
      "  app.launch_new_instance()\n"
     ]
    }
   ],
   "source": [
    "#update of the xi_i\n",
    "theta = [np.ones((N,N)),dist,D0,F0]\n",
    "n_iter = 10\n",
    "for n in range(n_iter):\n",
    "    probas = []\n",
    "    for i in range(N):\n",
    "        #compute binomial parameter\n",
    "        p0 = 0\n",
    "        p1 = 0\n",
    "        for j in range(N):\n",
    "            for k in range(4):\n",
    "                p0 += 2*D1[i,j]*alphas[k]*theta[k][i,j]\n",
    "            p1 += p0\n",
    "        p0 += 2*alpha_xi*np.sum(D1[i,:].dot(xi))\n",
    "        p1 += 2*alpha_xi*(N-np.sum(D1[i,:].dot(xi)))\n",
    "        proba = 1/(1+np.exp(p1-p0))\n",
    "        probas.append(proba)\n",
    "        xi[i] = binomial(1,proba)"
   ]
  },
  {
   "cell_type": "code",
   "execution_count": 132,
   "metadata": {},
   "outputs": [
    {
     "data": {
      "text/plain": [
       "array([1, 1, 1, 1, 0, 1, 1, 1, 1, 1, 1, 1, 1, 1, 1, 1, 1, 1, 1, 1, 0, 1,\n",
       "       1, 1, 1, 1, 1, 1, 1, 1, 1, 0, 1, 0, 1, 1, 1, 1, 1, 1, 1, 1, 1, 1,\n",
       "       1, 1, 1, 1, 0, 1, 1, 1, 1, 1, 1, 1, 1, 1, 1, 0, 1, 1, 1, 1, 1, 1,\n",
       "       1, 1, 1, 1, 1, 1, 1, 0, 1, 1, 1, 0, 1, 1, 1, 1, 1, 1, 1, 0, 1, 1,\n",
       "       1, 1, 1, 1, 1, 1, 1, 1, 1, 1, 1, 0])"
      ]
     },
     "execution_count": 132,
     "metadata": {},
     "output_type": "execute_result"
    }
   ],
   "source": [
    "xi"
   ]
  },
  {
   "cell_type": "markdown",
   "metadata": {},
   "source": [
    "## Update of $\\beta$"
   ]
  },
  {
   "cell_type": "code",
   "execution_count": 65,
   "metadata": {},
   "outputs": [],
   "source": [
    "def posterior_endo(b,bxi,sigma2,xi,a,axi,D):\n",
    "    \"\"\"\n",
    "    compute log posterior then go exp \n",
    "    b is the beta vector [beta_0,beta_x,beta_ybar,beta_xbar]\n",
    "    \"\"\"\n",
    "    N = D.shape[0]\n",
    "    res = -0.5*np.linalg.norm(b[:-1]) #prior of beta\n",
    "    res += -0.5*b[-1]**2/(0.01**2) #prior of beta xi\n",
    "    res += np.sum([probas[i]*xi[i]+(1-probas[i])*(1-xi[i])]) #prior of xi\n",
    "    res += chi2.ppf(sigma2,df=10) #prior of sigma2\n",
    "    res += -0.5*np.linalg.norm(a) #prior of alpha\n",
    "    res += -0.5*(axi+1)**2/(0.01**2) #prior of alpha_xi\n",
    "    #compute pi(Y|b) \n",
    "    I = np.identity(N)\n",
    "    A = np.linalg.inv(I-b[2]*G1)\n",
    "    mean =  b[0]*np.ones(N)+b[1]*X+b[3]*G1.dot(X)+bxi*xi\n",
    "    mean = A.dot(mean)\n",
    "    var = sigma2*A.dot(A.T)\n",
    "    inv_var = I-b[2]*G1\n",
    "    res += -N/2*np.log(np.linalg.det(var))\n",
    "    res += -0.5*(Y-mean).T.dot(inv_var).dot(Y-mean)\n",
    "    \n",
    "    return res"
   ]
  },
  {
   "cell_type": "code",
   "execution_count": 66,
   "metadata": {},
   "outputs": [
    {
     "name": "stderr",
     "output_type": "stream",
     "text": [
      "C:\\Users\\benoit\\Anaconda3\\lib\\site-packages\\ipykernel_launcher.py:16: RuntimeWarning: invalid value encountered in less\n",
      "  app.launch_new_instance()\n"
     ]
    }
   ],
   "source": [
    "#update betas \n",
    "n_iter = 100\n",
    "beta_list = [betas]\n",
    "beta_xi_list = [0]\n",
    "for i in range(n_iter):\n",
    "    y = betas + (1/16)*Qn.dot(np.random.randn(4)) #normal centered on previous values with previous cov matrix\n",
    "    yxi = 0.1*np.random.randn(1)[0]\n",
    "    #computation of the beta posterior\n",
    "    pi_prev = posterior_endo(beta_list[-1],beta_xi_list[-1],sigma2,xi,alphas,alpha_xi,D1)\n",
    "    pi_suiv = posterior_endo(y,beta_xi_list[-1],sigma2,xi,alphas,alpha_xi,D1)\n",
    "    #computation of ratio \n",
    "    ratio = pi_suiv/pi_prev\n",
    "    inv_Qn = np.linalg.inv(Qn)\n",
    "    ratio *= np.exp(-0.5*((beta_list[-1]-y).T.dot(inv_Qn).dot(beta_list[-1]-y)+100*(beta_xi_list[-1]-yxi)**2))\n",
    "    #comparison with 1\n",
    "    p_accept = min([1,ratio])\n",
    "    #decision\n",
    "    if binomial(1,p_accept):\n",
    "        beta_list.append(y)\n",
    "        beta_xi_list.append(yxi)\n",
    "    else: \n",
    "        beta_list.append(beta_list[-1])\n",
    "        beta_xi_list.append(beta_xi_list[-1])\n",
    "            "
   ]
  },
  {
   "cell_type": "code",
   "execution_count": 67,
   "metadata": {},
   "outputs": [
    {
     "data": {
      "image/png": "[encoded data removed]",
      "text/plain": [
       "<Figure size 432x288 with 1 Axes>"
      ]
     },
     "metadata": {
      "needs_background": "light"
     },
     "output_type": "display_data"
    }
   ],
   "source": [
    "plt.hist(beta_xi_list)\n",
    "plt.axvline(np.mean(beta_xi_list),ls='--',c='r')\n",
    "plt.title('beta_xi')\n",
    "plt.show()"
   ]
  },
  {
   "cell_type": "code",
   "execution_count": 68,
   "metadata": {},
   "outputs": [
    {
     "data": {
      "text/html": [
       "<div>\n",
       "<style scoped>\n",
       "    .dataframe tbody tr th:only-of-type {\n",
       "        vertical-align: middle;\n",
       "    }\n",
       "\n",
       "    .dataframe tbody tr th {\n",
       "        vertical-align: top;\n",
       "    }\n",
       "\n",
       "    .dataframe thead th {\n",
       "        text-align: right;\n",
       "    }\n",
       "</style>\n",
       "<table border=\"1\" class=\"dataframe\">\n",
       "  <thead>\n",
       "    <tr style=\"text-align: right;\">\n",
       "      <th></th>\n",
       "      <th>mean</th>\n",
       "      <th>std</th>\n",
       "    </tr>\n",
       "  </thead>\n",
       "  <tbody>\n",
       "    <tr>\n",
       "      <th>beta0</th>\n",
       "      <td>3.72124</td>\n",
       "      <td>24.5298</td>\n",
       "    </tr>\n",
       "    <tr>\n",
       "      <th>betax</th>\n",
       "      <td>8.61424</td>\n",
       "      <td>53.835</td>\n",
       "    </tr>\n",
       "    <tr>\n",
       "      <th>beta_ybar</th>\n",
       "      <td>9.02458</td>\n",
       "      <td>54.9938</td>\n",
       "    </tr>\n",
       "    <tr>\n",
       "      <th>beta_xbar</th>\n",
       "      <td>8.41374</td>\n",
       "      <td>53.1034</td>\n",
       "    </tr>\n",
       "    <tr>\n",
       "      <th>beta_xi</th>\n",
       "      <td>0.00224627</td>\n",
       "      <td>0.114181</td>\n",
       "    </tr>\n",
       "  </tbody>\n",
       "</table>\n",
       "</div>"
      ],
      "text/plain": [
       "                 mean       std\n",
       "beta0         3.72124   24.5298\n",
       "betax         8.61424    53.835\n",
       "beta_ybar     9.02458   54.9938\n",
       "beta_xbar     8.41374   53.1034\n",
       "beta_xi    0.00224627  0.114181"
      ]
     },
     "execution_count": 68,
     "metadata": {},
     "output_type": "execute_result"
    }
   ],
   "source": [
    "df_beta = pd.DataFrame([],index=['beta0','betax','beta_ybar','beta_xbar','beta_xi'],columns = ['mean','std'])\n",
    "for i in range(4):\n",
    "    x1 = np.mean([b[i] for b in beta_list])\n",
    "    x2 = np.std([b[i] for b in beta_list])\n",
    "    df_beta.iloc[i] = [x1,x2]\n",
    "df_beta.iloc[4] = [np.mean(beta_xi_list),np.std(beta_xi_list)]\n",
    "df_beta"
   ]
  },
  {
   "cell_type": "code",
   "execution_count": 69,
   "metadata": {},
   "outputs": [],
   "source": [
    "betas = df_beta['mean'].values"
   ]
  },
  {
   "cell_type": "markdown",
   "metadata": {},
   "source": [
    "## Update $\\sigma^2$"
   ]
  },
  {
   "cell_type": "markdown",
   "metadata": {},
   "source": [
    "Gibbs sampling"
   ]
  },
  {
   "cell_type": "code",
   "execution_count": 70,
   "metadata": {},
   "outputs": [],
   "source": [
    "sigma2_list = []\n",
    "for k in range(100):\n",
    "    invchi2 = chi2.ppf(np.random.rand(),df=10)\n",
    "    I = np.identity(N)\n",
    "    A = np.linalg.inv(I-betas[2]*G1)\n",
    "    mu_y = betas[0]*np.ones(N)+betas[1]*X+betas[3]*G1.dot(X)+betas[4]*xi\n",
    "    mu_y = A.dot(mu_y)\n",
    "    var = np.matmul(I-betas[2]*G1,I-betas[2]*G1)\n",
    "    tau2 =  (1/11)*(Y-mu_y).dot(var.dot(Y-mu_y))\n",
    "    sigma2 = invchi2/(11*tau2)\n",
    "    sigma2_list.append(sigma2)"
   ]
  },
  {
   "cell_type": "code",
   "execution_count": 71,
   "metadata": {},
   "outputs": [
    {
     "data": {
      "text/plain": [
       "3.112952911467362e-05"
      ]
     },
     "execution_count": 71,
     "metadata": {},
     "output_type": "execute_result"
    }
   ],
   "source": [
    "sigma2 = np.mean(sigma2_list)\n",
    "sigma2"
   ]
  },
  {
   "cell_type": "markdown",
   "metadata": {},
   "source": [
    "## Update $\\alpha$"
   ]
  },
  {
   "cell_type": "markdown",
   "metadata": {},
   "source": [
    "We use the same Metropolis-Hastings algorithm as previously with slight changes to take into account the $\\xi$ variable."
   ]
  },
  {
   "cell_type": "code",
   "execution_count": 72,
   "metadata": {},
   "outputs": [],
   "source": [
    "alphas = np.append(alphas,alpha_xi)"
   ]
  },
  {
   "cell_type": "code",
   "execution_count": 73,
   "metadata": {},
   "outputs": [],
   "source": [
    "def alpha_posterior_endo(a,x,theta):\n",
    "    \"\"\"\n",
    "    parameters\n",
    "    ----------\n",
    "    a: array of alpha parameters\n",
    "    x: D1 \n",
    "    theta: array [np.ones,(|Xi-Xj|),D0,F0,xi]\n",
    "    \"\"\"\n",
    "    N = x.shape[0]\n",
    "    res = np.exp(-0.5*a.dot(a))**(N*(N-1)*0.5)\n",
    "    for i in range(N):\n",
    "        for j in range(i+1,N):\n",
    "            #compute <alpha,theta>\n",
    "            ps = 0\n",
    "            for k in range(5):\n",
    "                ps += a[k]*theta[k][i,j] \n",
    "            res *= np.exp(2*x[i,j]*ps)\n",
    "    return res"
   ]
  },
  {
   "cell_type": "code",
   "execution_count": 74,
   "metadata": {},
   "outputs": [
    {
     "name": "stderr",
     "output_type": "stream",
     "text": [
      "C:\\Users\\benoit\\Anaconda3\\lib\\site-packages\\ipykernel_launcher.py:7: RuntimeWarning: invalid value encountered in double_scalars\n",
      "  import sys\n"
     ]
    }
   ],
   "source": [
    "#Metropolis Hastings with normal kernel \n",
    "theta = [np.ones((N,N)),dist,D0,F0,xi]\n",
    "alpha_list = [alphas]\n",
    "n_iter = 1000\n",
    "for i in range(n_iter): \n",
    "    y = alphas + np.random.randn(5)\n",
    "    ratio = posterior(y,D1,theta)/posterior(alphas,D1,theta)*1 #1 is the kernel ratio term \n",
    "    p_accept = min([1,ratio])\n",
    "    b = binomial(1,p_accept)\n",
    "    alphas = b*y+(1-b)*alphas\n",
    "    alpha_list.append(alphas)"
   ]
  },
  {
   "cell_type": "code",
   "execution_count": 197,
   "metadata": {},
   "outputs": [
    {
     "data": {
      "image/png": "[encoded data removed]",
      "text/plain": [
       "<Figure size 1008x720 with 5 Axes>"
      ]
     },
     "metadata": {
      "needs_background": "light"
     },
     "output_type": "display_data"
    }
   ],
   "source": [
    "fig = plt.figure(figsize=(14,10))\n",
    "titles = ['alpha_0','alpha_x','alpha_d','alpha_f','alpha_xi']\n",
    "for i in range(5):\n",
    "    ax = fig.add_subplot(3,2,i+1)\n",
    "    alpha0 = [a[i] for a in alpha_list]\n",
    "    ax.hist(alpha0)\n",
    "    ax.set_title(titles[i])\n",
    "    ax.axvline(np.mean(alpha0),ls='dotted',c='r',linewidth = 5)\n",
    "plt.show()"
   ]
  },
  {
   "cell_type": "code",
   "execution_count": 198,
   "metadata": {},
   "outputs": [
    {
     "data": {
      "text/html": [
       "<div>\n",
       "<style scoped>\n",
       "    .dataframe tbody tr th:only-of-type {\n",
       "        vertical-align: middle;\n",
       "    }\n",
       "\n",
       "    .dataframe tbody tr th {\n",
       "        vertical-align: top;\n",
       "    }\n",
       "\n",
       "    .dataframe thead th {\n",
       "        text-align: right;\n",
       "    }\n",
       "</style>\n",
       "<table border=\"1\" class=\"dataframe\">\n",
       "  <thead>\n",
       "    <tr style=\"text-align: right;\">\n",
       "      <th></th>\n",
       "      <th>mean</th>\n",
       "      <th>std</th>\n",
       "    </tr>\n",
       "  </thead>\n",
       "  <tbody>\n",
       "    <tr>\n",
       "      <th>a0</th>\n",
       "      <td>-1.54581</td>\n",
       "      <td>8.3872</td>\n",
       "    </tr>\n",
       "    <tr>\n",
       "      <th>ax</th>\n",
       "      <td>10.8273</td>\n",
       "      <td>11.4565</td>\n",
       "    </tr>\n",
       "    <tr>\n",
       "      <th>ad</th>\n",
       "      <td>25.1918</td>\n",
       "      <td>15.4321</td>\n",
       "    </tr>\n",
       "    <tr>\n",
       "      <th>af</th>\n",
       "      <td>-32.4901</td>\n",
       "      <td>22.8391</td>\n",
       "    </tr>\n",
       "    <tr>\n",
       "      <th>a_xi</th>\n",
       "      <td>-27.8558</td>\n",
       "      <td>20.728</td>\n",
       "    </tr>\n",
       "  </tbody>\n",
       "</table>\n",
       "</div>"
      ],
      "text/plain": [
       "         mean      std\n",
       "a0   -1.54581   8.3872\n",
       "ax    10.8273  11.4565\n",
       "ad    25.1918  15.4321\n",
       "af   -32.4901  22.8391\n",
       "a_xi -27.8558   20.728"
      ]
     },
     "execution_count": 198,
     "metadata": {},
     "output_type": "execute_result"
    }
   ],
   "source": [
    "df = pd.DataFrame([],index=['a0','ax','ad','af','a_xi'],columns = ['mean','std'])\n",
    "for i in range(5):\n",
    "    alpha0 = [a[i] for a in alpha_list]\n",
    "    df.iloc[i,:] = [np.mean(alpha0),np.std(alpha0)]\n",
    "df"
   ]
  },
  {
   "cell_type": "code",
   "execution_count": 199,
   "metadata": {},
   "outputs": [],
   "source": [
    "alphas = df['mean'].values"
   ]
  },
  {
   "cell_type": "markdown",
   "metadata": {},
   "source": [
    "## Update $\\xi$"
   ]
  },
  {
   "cell_type": "code",
   "execution_count": 200,
   "metadata": {},
   "outputs": [
    {
     "name": "stderr",
     "output_type": "stream",
     "text": [
      "C:\\Users\\benoit\\Anaconda3\\lib\\site-packages\\ipykernel_launcher.py:14: RuntimeWarning: overflow encountered in exp\n",
      "  \n"
     ]
    }
   ],
   "source": [
    "n_iter = 100\n",
    "for n in range(n_iter):\n",
    "    probas = []\n",
    "    for i in range(N):\n",
    "        #compute binomial parameter\n",
    "        p0 = 0\n",
    "        p1 = 0\n",
    "        for j in range(N):\n",
    "            for k in range(4):\n",
    "                p0 += 2*D1[i,j]*alphas[k]*theta[k][i,j]\n",
    "            p1 += p0\n",
    "        p0 += 2*alphas[4]*np.sum(D1[i,:].dot(xi))\n",
    "        p1 += 2*alphas[4]*(N-np.sum(D1[i,:].dot(xi)))\n",
    "        proba = 1/(1+np.exp(p1-p0))\n",
    "        probas.append(proba)\n",
    "        xi[i] = binomial(1,proba)"
   ]
  },
  {
   "cell_type": "code",
   "execution_count": 201,
   "metadata": {},
   "outputs": [
    {
     "data": {
      "text/plain": [
       "array([1, 1, 1, 1, 1, 1, 1, 1, 1, 1, 1, 1, 1, 1, 1, 1, 1, 1, 1, 1, 1, 1,\n",
       "       0, 1, 1, 1, 1, 1, 1, 1, 1, 1, 1, 1, 1, 1, 1, 1, 1, 1, 1, 1, 1, 1,\n",
       "       1, 1, 1, 0, 1, 1, 1, 1, 1, 1, 1, 1, 1, 1, 1, 1, 1, 1, 1, 1, 1, 1,\n",
       "       1, 1, 1, 1, 1, 1, 1, 1, 1, 1, 1, 1, 1, 1, 1, 1, 1, 1, 1, 1, 1, 0,\n",
       "       1, 1, 1, 1, 1, 1, 1, 1, 1, 1, 0, 1])"
      ]
     },
     "execution_count": 201,
     "metadata": {},
     "output_type": "execute_result"
    }
   ],
   "source": [
    "xi"
   ]
  },
  {
   "cell_type": "markdown",
   "metadata": {},
   "source": [
    "Nos valeurs n'ont pas forcément de sens: tout a été sélectionné au hasard"
   ]
  },
  {
   "cell_type": "markdown",
   "metadata": {},
   "source": [
    "# 4. Heterogeneity in peer effects"
   ]
  },
  {
   "cell_type": "markdown",
   "metadata": {},
   "source": [
    "On utilise une matrice de réseau à l'étape 1 qui n'est plus symétrique (i ami de j n'implique pas j ami de i)  "
   ]
  },
  {
   "cell_type": "code",
   "execution_count": 139,
   "metadata": {},
   "outputs": [],
   "source": [
    "D1 = np.random.randint(2,size=(N,N))\n",
    "D0 = np.random.randint(2,size=(N,N))"
   ]
  },
  {
   "cell_type": "markdown",
   "metadata": {},
   "source": [
    "Same as 1. with different networks and extended models"
   ]
  },
  {
   "cell_type": "code",
   "execution_count": 140,
   "metadata": {},
   "outputs": [],
   "source": [
    "def heterogeneity(name):\n",
    "    \"\"\"\n",
    "    réalise les estimations de la partie MLIM avec d'autres réseaux \n",
    "    parameters\n",
    "    ----------\n",
    "    name : définition du réseau utilisée\n",
    "    \n",
    "    returns\n",
    "    -------\n",
    "    df : pd.DataFrame contenant les means et vars pour beta et sigma2\n",
    "    \"\"\"\n",
    "    \n",
    "    if name=='lagged':\n",
    "        DB = D0 * (1 - D1)\n",
    "    elif name =='mutual':\n",
    "        DB = np.asarray([[D1[i,j]==D1[j,i] for j in range(N)] for i in range(N)])\n",
    "    elif name=='fof': #friends of friends\n",
    "        DM = np.asarray([[D1[i,j]==D1[j,i] for j in range(N)] for i in range(N)])\n",
    "        FM = (np.dot(DM,DM)>0).astype(np.int)\n",
    "        DB = (1 - D1) * FM\n",
    "    else: \n",
    "        raise ValueError(name + ' is not a correct network specification')\n",
    "    #priors \n",
    "    #on a 6 coefficients beta sur lesquels travailler \n",
    "    mu0 = np.zeros(6) #mean of the conditional normal distribution \n",
    "    Q0 = np.diag(np.ones(6)) #var of the conditional normal distribution\n",
    "    a0 = 1 #coef of the inverse gamma\n",
    "    b0 = 1 #scaling coefficient of the inverse gamma\n",
    "\n",
    "    #construction du réseau B\n",
    "    MB = np.sum(DB,axis=1)\n",
    "    GB = np.linalg.solve(np.diag(MB),DB)\n",
    "    #construction des variables explicatives et variables cibles\n",
    "    YbarA = G1.dot(Y)\n",
    "    XbarA = G1.dot(X)\n",
    "    YbarB = GB.dot(Y)\n",
    "    XbarB = GB.dot(X)\n",
    "    features = np.column_stack((np.ones(len(Y)),X,YbarA,XbarA,YbarB,XbarB))\n",
    "\n",
    "    #updating parameters: computing the posterior distribution parameters\n",
    "    Qn = features.T.dot(features) + Q0\n",
    "    mun = np.linalg.solve(Qn,Q0.dot(mu0)+features.T.dot(Y))\n",
    "    an = a0+len(Y)/2\n",
    "    bn = b0 + 0.5*(Y.dot(Y)+mu0.T.dot(Q0.dot(mu0))-mun.T.dot(Qn.dot(mun)))\n",
    "    \n",
    "    \n",
    "    df = pd.DataFrame([],index=['beta0','betax','beta_ybarA','beta_xbarA','beta_ybarB','beta_xbarB','sigma2'],columns = ['mean','std'])\n",
    "    for i in range(6):\n",
    "        x1 = mun[i]\n",
    "        x2 = np.sqrt(Qn[i,i])\n",
    "        df.iloc[i] = [x1,x2]\n",
    "    \n",
    "    df.iloc[6] = [bn/(an-1),np.sqrt(bn**2/((an-1)**2*(an-2)))]\n",
    "    print(df)\n",
    "    \n",
    "    return df  "
   ]
  },
  {
   "cell_type": "code",
   "execution_count": 205,
   "metadata": {},
   "outputs": [
    {
     "name": "stdout",
     "output_type": "stream",
     "text": [
      "                 mean       std\n",
      "beta0        0.649565   10.0499\n",
      "betax      -0.0309515   23.7066\n",
      "beta_ybarA  -0.508023   18.8977\n",
      "beta_xbarA   0.373259   20.6471\n",
      "beta_ybarB   0.303615   19.0755\n",
      "beta_xbarB   0.437024   20.8309\n",
      "sigma2        1.20898  0.172711\n"
     ]
    }
   ],
   "source": [
    "df_lagged = heterogeneity('lagged')"
   ]
  },
  {
   "cell_type": "code",
   "execution_count": 206,
   "metadata": {},
   "outputs": [
    {
     "name": "stdout",
     "output_type": "stream",
     "text": [
      "                 mean       std\n",
      "beta0        0.537244   10.0499\n",
      "betax       -0.047651   23.7066\n",
      "beta_ybarA  -0.663414   18.8977\n",
      "beta_xbarA   0.288513   20.6471\n",
      "beta_ybarB  0.0862561   18.8437\n",
      "beta_xbarB   0.942752   20.5694\n",
      "sigma2        1.19902  0.171288\n"
     ]
    }
   ],
   "source": [
    "df_mutual = heterogeneity('mutual')"
   ]
  },
  {
   "cell_type": "code",
   "execution_count": 207,
   "metadata": {},
   "outputs": [
    {
     "name": "stdout",
     "output_type": "stream",
     "text": [
      "                 mean       std\n",
      "beta0        0.473895   10.0499\n",
      "betax      -0.0271527   23.7066\n",
      "beta_ybarA  -0.732753   18.8977\n",
      "beta_xbarA   0.238649   20.6471\n",
      "beta_ybarB   0.133906   18.6955\n",
      "beta_xbarB    1.01594   20.7306\n",
      "sigma2        1.19487  0.170696\n"
     ]
    }
   ],
   "source": [
    "df_fof = heterogeneity('fof')"
   ]
  },
  {
   "cell_type": "markdown",
   "metadata": {},
   "source": [
    "# 5. Auto-regressive and moving average"
   ]
  },
  {
   "cell_type": "markdown",
   "metadata": {},
   "source": [
    "## Auto-regressive models"
   ]
  },
  {
   "cell_type": "code",
   "execution_count": 208,
   "metadata": {},
   "outputs": [],
   "source": [
    "#priors \n",
    "#on a 4 coefficients gamma sur lesquels travailler \n",
    "mu0 = np.zeros(4) #mean of the conditional normal distribution \n",
    "Q0 = np.diag(np.ones(4)) #var of the conditional normal distribution\n",
    "\n",
    "#construction des variables explicatives et variables cibles\n",
    "GX = G1.dot(X)\n",
    "GGX = G1.dot(GX)\n",
    "features = np.column_stack((np.ones(len(Y)),X,GX,GGX))\n",
    "\n",
    "#updating parameters: computing the posterior distribution parameters\n",
    "Qn = features.T.dot(features) + Q0\n",
    "mun = np.linalg.solve(Qn,Q0.dot(mu0)+features.T.dot(Y))"
   ]
  },
  {
   "cell_type": "code",
   "execution_count": 212,
   "metadata": {},
   "outputs": [
    {
     "data": {
      "text/html": [
       "<div>\n",
       "<style scoped>\n",
       "    .dataframe tbody tr th:only-of-type {\n",
       "        vertical-align: middle;\n",
       "    }\n",
       "\n",
       "    .dataframe tbody tr th {\n",
       "        vertical-align: top;\n",
       "    }\n",
       "\n",
       "    .dataframe thead th {\n",
       "        text-align: right;\n",
       "    }\n",
       "</style>\n",
       "<table border=\"1\" class=\"dataframe\">\n",
       "  <thead>\n",
       "    <tr style=\"text-align: right;\">\n",
       "      <th></th>\n",
       "      <th>mean</th>\n",
       "      <th>std</th>\n",
       "    </tr>\n",
       "  </thead>\n",
       "  <tbody>\n",
       "    <tr>\n",
       "      <th>gamma0</th>\n",
       "      <td>0.369063</td>\n",
       "      <td>10.0499</td>\n",
       "    </tr>\n",
       "    <tr>\n",
       "      <th>gammaX</th>\n",
       "      <td>-0.0248433</td>\n",
       "      <td>23.7066</td>\n",
       "    </tr>\n",
       "    <tr>\n",
       "      <th>gamma1</th>\n",
       "      <td>0.176502</td>\n",
       "      <td>20.6471</td>\n",
       "    </tr>\n",
       "    <tr>\n",
       "      <th>gamma2</th>\n",
       "      <td>0.582405</td>\n",
       "      <td>20.6093</td>\n",
       "    </tr>\n",
       "  </tbody>\n",
       "</table>\n",
       "</div>"
      ],
      "text/plain": [
       "             mean      std\n",
       "gamma0   0.369063  10.0499\n",
       "gammaX -0.0248433  23.7066\n",
       "gamma1   0.176502  20.6471\n",
       "gamma2   0.582405  20.6093"
      ]
     },
     "execution_count": 212,
     "metadata": {},
     "output_type": "execute_result"
    }
   ],
   "source": [
    "df = pd.DataFrame([],index=['gamma0','gammaX','gamma1','gamma2'],columns = ['mean','std'])\n",
    "for i in range(4):\n",
    "    x1 = mun[i]\n",
    "    x2 = np.sqrt(Qn[i,i])\n",
    "    df.iloc[i] = [x1,x2]\n",
    "df"
   ]
  },
  {
   "cell_type": "code",
   "execution_count": 213,
   "metadata": {},
   "outputs": [],
   "source": [
    "bx = df['mean']['gammaX']\n",
    "bybar = df['mean']['gamma2']/df['mean']['gamma1']\n",
    "bxbar = df['mean']['gamma1'] - bx * bybar\n",
    "b0 = (I - bybar*G1).dot(df['mean']['gamma0']*np.ones(N))[0]"
   ]
  },
  {
   "cell_type": "code",
   "execution_count": 214,
   "metadata": {},
   "outputs": [
    {
     "data": {
      "text/html": [
       "<div>\n",
       "<style scoped>\n",
       "    .dataframe tbody tr th:only-of-type {\n",
       "        vertical-align: middle;\n",
       "    }\n",
       "\n",
       "    .dataframe tbody tr th {\n",
       "        vertical-align: top;\n",
       "    }\n",
       "\n",
       "    .dataframe thead th {\n",
       "        text-align: right;\n",
       "    }\n",
       "</style>\n",
       "<table border=\"1\" class=\"dataframe\">\n",
       "  <thead>\n",
       "    <tr style=\"text-align: right;\">\n",
       "      <th></th>\n",
       "      <th>mean</th>\n",
       "    </tr>\n",
       "  </thead>\n",
       "  <tbody>\n",
       "    <tr>\n",
       "      <th>beta0</th>\n",
       "      <td>-0.848738</td>\n",
       "    </tr>\n",
       "    <tr>\n",
       "      <th>betaX</th>\n",
       "      <td>-0.0248433</td>\n",
       "    </tr>\n",
       "    <tr>\n",
       "      <th>beta_xbar</th>\n",
       "      <td>0.258478</td>\n",
       "    </tr>\n",
       "    <tr>\n",
       "      <th>beta_FIC</th>\n",
       "      <td>3.29971</td>\n",
       "    </tr>\n",
       "  </tbody>\n",
       "</table>\n",
       "</div>"
      ],
      "text/plain": [
       "                mean\n",
       "beta0      -0.848738\n",
       "betaX     -0.0248433\n",
       "beta_xbar   0.258478\n",
       "beta_FIC     3.29971"
      ]
     },
     "execution_count": 214,
     "metadata": {},
     "output_type": "execute_result"
    }
   ],
   "source": [
    "df = pd.DataFrame([],index=['beta0','betaX','beta_xbar','beta_FIC'],columns = ['mean'])\n",
    "df['mean']['beta0'] = b0\n",
    "df['mean']['betaX'] = bx\n",
    "df['mean']['beta_xbar'] = bxbar\n",
    "df['mean']['beta_FIC'] = bybar\n",
    "\n",
    "df"
   ]
  },
  {
   "cell_type": "markdown",
   "metadata": {},
   "source": [
    "Le $\\hat{\\beta}_{FIC}$ est négatif puisqu'on n'a pas modélisé la dépendance interclusters en fonction de la variable Y (et donc on ne retrouve aucun impact rationnel)"
   ]
  },
  {
   "cell_type": "markdown",
   "metadata": {},
   "source": [
    "## Moving average"
   ]
  },
  {
   "cell_type": "code",
   "execution_count": null,
   "metadata": {},
   "outputs": [],
   "source": []
  }
 ],
 "metadata": {
  "kernelspec": {
   "display_name": "Python 3",
   "language": "python",
   "name": "python3"
  },
  "language_info": {
   "codemirror_mode": {
    "name": "ipython",
    "version": 3
   },
   "file_extension": ".py",
   "mimetype": "text/x-python",
   "name": "python",
   "nbconvert_exporter": "python",
   "pygments_lexer": "ipython3",
   "version": "3.7.1"
  }
 },
 "nbformat": 4,
 "nbformat_minor": 4
}
