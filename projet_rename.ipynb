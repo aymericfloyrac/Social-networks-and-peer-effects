{
 "cells": [
  {
   "cell_type": "code",
   "execution_count": 2,
   "metadata": {},
   "outputs": [],
   "source": [
    "import matplotlib.pyplot as plt\n",
    "import numpy as np \n",
    "import pandas as pd"
   ]
  },
  {
   "cell_type": "code",
   "execution_count": 29,
   "metadata": {},
   "outputs": [],
   "source": [
    "np.random.seed(0)"
   ]
  },
  {
   "cell_type": "markdown",
   "metadata": {},
   "source": [
    "#  Data generation"
   ]
  },
  {
   "cell_type": "code",
   "execution_count": 45,
   "metadata": {},
   "outputs": [],
   "source": [
    "#networks simulation\n",
    "N = 100\n",
    "D0 = np.random.randint(2,size=(N,N))\n",
    "D1 = np.random.randint(2,size=(N,N))\n",
    "for i in range(N):\n",
    "    D0[i,i] = 0\n",
    "    D1[i,i] = 0"
   ]
  },
  {
   "cell_type": "code",
   "execution_count": 48,
   "metadata": {},
   "outputs": [],
   "source": [
    "M0 = np.sum(D0,axis=1)\n",
    "G0 = np.linalg.solve(np.diag(M0),D0)\n",
    "\n",
    "M1 = np.sum(D1,axis=1)\n",
    "G1 = np.linalg.solve(np.diag(M1),D1)"
   ]
  },
  {
   "cell_type": "code",
   "execution_count": 49,
   "metadata": {},
   "outputs": [],
   "source": [
    "F0 = (np.dot(D0,D0)>0).astype(np.int)\n",
    "F1 = (np.dot(D1,D1)>0).astype(np.int)"
   ]
  },
  {
   "cell_type": "code",
   "execution_count": 33,
   "metadata": {},
   "outputs": [],
   "source": [
    "#GPA simulation\n",
    "gpa_0 = np.random.uniform(low= 0,high=4,size=len(D))\n",
    "gpa_1 = np.random.uniform(low=0,high=4,size=len(D))"
   ]
  },
  {
   "cell_type": "markdown",
   "metadata": {},
   "source": [
    "# 1. MLIM model"
   ]
  },
  {
   "cell_type": "markdown",
   "metadata": {},
   "source": [
    "On fait la régression bayésienne, avec les a posteriori conjugués (inverse-$\\chi^2(1)$, normale conditionnelle).\n",
    "\n",
    "si on veut juste les means et vars, il suffit de les calculer les paramètres des posterior."
   ]
  },
  {
   "cell_type": "code",
   "execution_count": 34,
   "metadata": {},
   "outputs": [],
   "source": [
    "#priors \n",
    "#on a 4 coefficients beta sur lesquels travailler \n",
    "mu0 = np.zeros(4) #mean of the conditional normal distribution \n",
    "Q0 = np.diag(np.ones(4)) #var of the conditional normal distribution\n",
    "a0 = 1 #coef of the inverse gamma\n",
    "b0 = 1 #scaling coefficient of the inverse gamma"
   ]
  },
  {
   "cell_type": "code",
   "execution_count": 50,
   "metadata": {},
   "outputs": [],
   "source": [
    "#construction des variables explicatives et variables cibles\n",
    "Y = gpa_1\n",
    "Ybar = G1.dot(Y)\n",
    "X = gpa_0\n",
    "Xbar = G1.dot(X)\n",
    "\n",
    "features = np.column_stack((np.ones(len(Y)),Ybar,X,Xbar))"
   ]
  },
  {
   "cell_type": "code",
   "execution_count": 36,
   "metadata": {},
   "outputs": [],
   "source": [
    "#updating parameters: computing the posterior distribution parameters\n",
    "Qn = features.T.dot(features) + Q0\n",
    "mun = np.linalg.solve(Qn,Q0.dot(mu0)+features.T.dot(Y))\n",
    "an = a0+len(Y)/2\n",
    "bn = b0 + 0.5*(Y.dot(Y)+mu0.T.dot(Q0.dot(mu0))-mun.T.dot(Qn.dot(mun)))"
   ]
  },
  {
   "cell_type": "code",
   "execution_count": 41,
   "metadata": {},
   "outputs": [
    {
     "data": {
      "text/plain": [
       "array([ 0.94007915,  0.4576351 ,  0.05114117, -0.04501581])"
      ]
     },
     "execution_count": 41,
     "metadata": {},
     "output_type": "execute_result"
    }
   ],
   "source": [
    "mun #moyennes des lois normales a posteriori"
   ]
  },
  {
   "cell_type": "markdown",
   "metadata": {},
   "source": [
    "On obtient donc \n",
    "$$ \\beta_0 = 0.94 , \\beta_{\\bar{Y}} = 0.46, \\beta_x = 0.05, \\beta_{\\bar{x}} = -0.05 $$"
   ]
  },
  {
   "cell_type": "code",
   "execution_count": 42,
   "metadata": {},
   "outputs": [
    {
     "data": {
      "text/plain": [
       "array([[101.        , 178.33875869, 191.37328099, 189.65432778],\n",
       "       [178.33875869, 320.44412255, 342.35845649, 338.25936969],\n",
       "       [191.37328099, 342.35845649, 478.81959656, 359.74901656],\n",
       "       [189.65432778, 338.25936969, 359.74901656, 361.76498852]])"
      ]
     },
     "execution_count": 42,
     "metadata": {},
     "output_type": "execute_result"
    }
   ],
   "source": [
    "Qn #matrice de variance covariance"
   ]
  },
  {
   "cell_type": "markdown",
   "metadata": {},
   "source": [
    "Ce résultat est étrange"
   ]
  },
  {
   "cell_type": "code",
   "execution_count": 40,
   "metadata": {},
   "outputs": [
    {
     "data": {
      "text/plain": [
       "1.525464109739591"
      ]
     },
     "execution_count": 40,
     "metadata": {},
     "output_type": "execute_result"
    }
   ],
   "source": [
    "bn/(an-1) #moyenne de l'inverse-gamma"
   ]
  },
  {
   "cell_type": "code",
   "execution_count": 44,
   "metadata": {},
   "outputs": [
    {
     "data": {
      "text/plain": [
       "0.047490627553134754"
      ]
     },
     "execution_count": 44,
     "metadata": {},
     "output_type": "execute_result"
    }
   ],
   "source": [
    "bn**2/((an-1)**2*(an-2)) #variance de l'inverse gamma"
   ]
  },
  {
   "cell_type": "markdown",
   "metadata": {},
   "source": [
    "# 2. Exogenous network formation"
   ]
  },
  {
   "cell_type": "markdown",
   "metadata": {},
   "source": [
    "normal prior on $\\alpha \\sim \\mathcal{N}(0,1)$\n",
    "\n",
    "$D\\sim Bernoulli(...)$\n",
    "\n",
    "=> cas conjugué?\n",
    "\n",
    "à déterminer: posterior (à calculer)"
   ]
  },
  {
   "cell_type": "code",
   "execution_count": 54,
   "metadata": {},
   "outputs": [],
   "source": [
    "#priors\n",
    "alpha = np.random.randn(4)"
   ]
  },
  {
   "cell_type": "code",
   "execution_count": 56,
   "metadata": {},
   "outputs": [],
   "source": [
    "#feature engineering \n",
    "#we must create |Xi-Xj| for each (i,j) couple \n",
    "\n",
    "dist = np.zeros((N,N))\n",
    "for i in range(N):\n",
    "    for j in range(i,N):\n",
    "        value = np.abs(X[i]-X[j])\n",
    "        dist[i][j] = value\n",
    "        dist[j][i] = value"
   ]
  },
  {
   "cell_type": "code",
   "execution_count": 57,
   "metadata": {},
   "outputs": [],
   "source": [
    "#updates"
   ]
  },
  {
   "cell_type": "markdown",
   "metadata": {},
   "source": [
    "# 3. Endogenous network formation"
   ]
  },
  {
   "cell_type": "markdown",
   "metadata": {},
   "source": [
    "aller voir appendix"
   ]
  },
  {
   "cell_type": "code",
   "execution_count": null,
   "metadata": {},
   "outputs": [],
   "source": []
  },
  {
   "cell_type": "markdown",
   "metadata": {},
   "source": [
    "# 4. Heterogeneity in peer effects"
   ]
  },
  {
   "cell_type": "markdown",
   "metadata": {},
   "source": [
    "Same as 1. with different networks and extended models"
   ]
  },
  {
   "cell_type": "code",
   "execution_count": null,
   "metadata": {},
   "outputs": [],
   "source": []
  }
 ],
 "metadata": {
  "kernelspec": {
   "display_name": "Python 3",
   "language": "python",
   "name": "python3"
  },
  "language_info": {
   "codemirror_mode": {
    "name": "ipython",
    "version": 3
   },
   "file_extension": ".py",
   "mimetype": "text/x-python",
   "name": "python",
   "nbconvert_exporter": "python",
   "pygments_lexer": "ipython3",
   "version": "3.7.5"
  }
 },
 "nbformat": 4,
 "nbformat_minor": 4
}
